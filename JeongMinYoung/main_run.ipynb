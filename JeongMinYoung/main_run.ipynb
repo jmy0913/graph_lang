{
 "cells": [
  {
   "metadata": {},
   "cell_type": "markdown",
   "source": "## 답변 내용 체크",
   "id": "b346a57b3dc3112c"
  },
  {
   "metadata": {
    "ExecuteTime": {
     "end_time": "2025-07-29T10:19:02.934542Z",
     "start_time": "2025-07-29T10:18:37.663046Z"
    }
   },
   "cell_type": "code",
   "source": "from utils2.main import run_langraph",
   "id": "8d80c147bd4c6f1d",
   "outputs": [
    {
     "name": "stderr",
     "output_type": "stream",
     "text": [
      "C:\\Users\\playdata\\Documents\\langgraph_langchain\\JeongMinYoung\\utils2\\retreiver_setting.py:71: LangChainDeprecationWarning: The class `OpenAIEmbeddings` was deprecated in LangChain 0.0.9 and will be removed in 1.0. An updated version of the class exists in the :class:`~langchain-openai package and should be used instead. To use it run `pip install -U :class:`~langchain-openai` and import as `from :class:`~langchain_openai import OpenAIEmbeddings``.\n",
      "  embeddings = OpenAIEmbeddings(model=EMBEDDING_MODEL)\n"
     ]
    }
   ],
   "execution_count": 1
  },
  {
   "metadata": {
    "ExecuteTime": {
     "end_time": "2025-07-29T10:19:37.054100Z",
     "start_time": "2025-07-29T10:19:12.336697Z"
    }
   },
   "cell_type": "code",
   "source": "run_langraph('2024년 삼성전자 재무제표 알려줘', 'id_1', level='basic')",
   "id": "2398ccef1acaab77",
   "outputs": [
    {
     "data": {
      "text/plain": [
       "{'question': '2024년 삼성전자 재무제표 알려줘',\n",
       " 'company': '삼성전자',\n",
       " 'year': ['2024'],\n",
       " 'route': 'finance',\n",
       " 'level': 'basic',\n",
       " 'answer': '안녕하세요! 삼성전자의 2024년 성적표를 쉽고 간단하게 알려드릴게요.\\n\\n**✅ 돈은 작년보다 잘 벌었나요?**\\n네, 아주 잘 벌었어요!\\n- **매출** (회사의 1년 총 판매금액)은 **16.2% 늘어난 3,008,709억원**을 기록했고요,\\n- **영업이익** (장사해서 실제로 남긴 돈)은 무려 **398.3%나 늘어난 32,726억원**이에요. 작년보다 장사를 훨씬 잘했네요!\\n\\n**✅ 회사는 튼튼한가요?**\\n네, 튼튼해요!\\n- **자산** (회사가 가진 모든 재산)은 **12.9% 늘어난 5,145,319억원**이고요,\\n- **부채** (갚아야 할 돈)는 **92,228억원**에서 **112,340억원**으로 조금 늘었지만, 자산에 비하면 아주 적은 수준이에요.\\n\\n**한마디로,** 삼성전자는 2024년에 돈도 훨씬 잘 벌고 회사도 더 튼튼해졌어요!\\n\\n더 궁금한 점 있으시면 편하게 물어보세요.',\n",
       " 'chat_history': [{'role': 'user', 'content': '2024년 삼성전자 재무제표 알려줘'},\n",
       "  {'role': 'assistant',\n",
       "   'content': '안녕하세요! 삼성전자의 2024년 성적표를 쉽고 간단하게 알려드릴게요.\\n\\n**✅ 돈은 작년보다 잘 벌었나요?**\\n네, 아주 잘 벌었어요!\\n- **매출** (회사의 1년 총 판매금액)은 **16.2% 늘어난 3,008,709억원**을 기록했고요,\\n- **영업이익** (장사해서 실제로 남긴 돈)은 무려 **398.3%나 늘어난 32,726억원**이에요. 작년보다 장사를 훨씬 잘했네요!\\n\\n**✅ 회사는 튼튼한가요?**\\n네, 튼튼해요!\\n- **자산** (회사가 가진 모든 재산)은 **12.9% 늘어난 5,145,319억원**이고요,\\n- **부채** (갚아야 할 돈)는 **92,228억원**에서 **112,340억원**으로 조금 늘었지만, 자산에 비하면 아주 적은 수준이에요.\\n\\n**한마디로,** 삼성전자는 2024년에 돈도 훨씬 잘 벌고 회사도 더 튼튼해졌어요!\\n\\n더 궁금한 점 있으시면 편하게 물어보세요.'}]}"
      ]
     },
     "execution_count": 2,
     "metadata": {},
     "output_type": "execute_result"
    }
   ],
   "execution_count": 2
  },
  {
   "metadata": {
    "ExecuteTime": {
     "end_time": "2025-07-29T10:21:36.690425Z",
     "start_time": "2025-07-29T10:21:33.078714Z"
    }
   },
   "cell_type": "code",
   "source": "run_langraph('LG전자는?', 'id_1', level='intermediate')",
   "id": "2cf549dbca622768",
   "outputs": [
    {
     "data": {
      "text/plain": [
       "{'question': 'LG전자는?',\n",
       " 'company': 'LG전자',\n",
       " 'year': ['2023', '2024'],\n",
       " 'route': 'business',\n",
       " 'level': 'intermediate',\n",
       " 'answer': '해당 문서는 제가 가지고 있지 않습니다.',\n",
       " 'chat_history': [{'role': 'user', 'content': '2024년 삼성전자 재무제표 알려줘'},\n",
       "  {'role': 'assistant',\n",
       "   'content': '안녕하세요! 삼성전자의 2024년 성적표를 쉽고 간단하게 알려드릴게요.\\n\\n**✅ 돈은 작년보다 잘 벌었나요?**\\n네, 아주 잘 벌었어요!\\n- **매출** (회사의 1년 총 판매금액)은 **16.2% 늘어난 3,008,709억원**을 기록했고요,\\n- **영업이익** (장사해서 실제로 남긴 돈)은 무려 **398.3%나 늘어난 32,726억원**이에요. 작년보다 장사를 훨씬 잘했네요!\\n\\n**✅ 회사는 튼튼한가요?**\\n네, 튼튼해요!\\n- **자산** (회사가 가진 모든 재산)은 **12.9% 늘어난 5,145,319억원**이고요,\\n- **부채** (갚아야 할 돈)는 **92,228억원**에서 **112,340억원**으로 조금 늘었지만, 자산에 비하면 아주 적은 수준이에요.\\n\\n**한마디로,** 삼성전자는 2024년에 돈도 훨씬 잘 벌고 회사도 더 튼튼해졌어요!\\n\\n더 궁금한 점 있으시면 편하게 물어보세요.'},\n",
       "  {'role': 'user', 'content': '내가 방금 뭐 물어봤냐고'},\n",
       "  {'role': 'assistant', 'content': '당신은 방금 \"2024년 삼성전자 재무제표 알려줘\"라고 물어보셨습니다.'},\n",
       "  {'role': 'user', 'content': '그럼 삼성전자 사업 상황은 어때?'},\n",
       "  {'role': 'assistant',\n",
       "   'content': '안녕하세요! 삼성전자의 사업 상황에 대해 사업보고서 중심으로 분석해 봤어요.\\n\\n**현재 사업 상황을 보면,** 삼성전자는 반도체, 디스플레이, IT & 모바일, 가전 사업을 주요 사업 분야로 운영하고 있어요. 특히, 반도체와 디스플레이 사업에서 강력한 입지를 가지고 있으며, 전체 매출의 70%가 해외에서 발생하고 있어요.\\n\\n**최근 가장 눈에 띄는 변화는** 2023년 영업수익이 전년 대비 감소한 점인데, 이는 글로벌 경제 상황이나 반도체 시장의 변동성과 관련이 있는 것으로 보여요.\\n\\n**그래서 앞으로는** 반도체 시장의 회복과 디스플레이 기술의 발전이 삼성전자의 성장을 견인할 수 있는 기회가 될 것으로 기대해볼 수 있겠네요.\\n\\n특정 사업 부문에 대해 더 자세히 알고 싶으시면 말씀해주세요!'},\n",
       "  {'role': 'user', 'content': 'LG전자는?'},\n",
       "  {'role': 'assistant', 'content': '해당 문서는 제가 가지고 있지 않습니다.'}]}"
      ]
     },
     "execution_count": 7,
     "metadata": {},
     "output_type": "execute_result"
    }
   ],
   "execution_count": 7
  },
  {
   "metadata": {},
   "cell_type": "markdown",
   "source": "",
   "id": "8f0c9638a102df86"
  },
  {
   "metadata": {
    "ExecuteTime": {
     "end_time": "2025-07-28T16:15:30.236256Z",
     "start_time": "2025-07-28T16:15:24.010841Z"
    }
   },
   "cell_type": "code",
   "source": "run_langraph('재고자산 처리방법이 머야?', 'id_1')",
   "id": "47cdfdd2b229ed86",
   "outputs": [
    {
     "data": {
      "text/plain": [
       "\"안녕하세요! 재고자산 처리방법이 궁금하시군요. 아주 쉽게 설명해드릴게요.\\n\\n**한마디로 말하면,** 재고자산 처리방법은 재고의 가치를 어떻게 계산하고 기록할지를 정하는 방법이에요.\\n\\n예를 들어, 가게에서 물건을 팔 때 어떤 물건이 먼저 팔렸는지에 따라 계산하는 방법이 달라질 수 있어요. '선입선출법'은 먼저 들어온 물건이 먼저 나간다고 가정하고, '가중평균법'은 모든 물건의 평균 가격을 계산해서 기록하는 방법이에요. 이렇게 하면 재고의 가치를 정확하게 알 수 있답니다.\\n\\n더 궁금한 점 있으시면 편하게 물어보세요!\""
      ]
     },
     "execution_count": 4,
     "metadata": {},
     "output_type": "execute_result"
    }
   ],
   "execution_count": 4
  },
  {
   "metadata": {
    "ExecuteTime": {
     "end_time": "2025-07-28T16:19:44.073243Z",
     "start_time": "2025-07-28T16:19:33.012748Z"
    }
   },
   "cell_type": "code",
   "source": "run_langraph('삼성전자 2024년 사업보고서', 'id_1')",
   "id": "c2b25e155a3f651f",
   "outputs": [
    {
     "name": "stderr",
     "output_type": "stream",
     "text": [
      "C:\\Workspaces\\JeongMinYoung\\utils2\\graph_node.py:138: LangChainDeprecationWarning: The method `BaseRetriever.get_relevant_documents` was deprecated in langchain-core 0.1.46 and will be removed in 1.0. Use :meth:`~invoke` instead.\n",
      "  docs = self_retriever.get_relevant_documents(question)\n"
     ]
    },
    {
     "data": {
      "text/plain": [
       "'\"안녕하세요! 삼성전자 2024년 사업보고서에 대해 가장 중요한 것만 알려드릴게요.\\n\\n**이 회사는요,** TV, 스마트폰, 반도체 같은 전자제품을 만드는 곳이에요.\\n\\n**가장 큰 이슈는** 연구개발에 많은 투자를 하고 있다는 점이에요. 매출의 8.5%를 연구개발에 쓰고 있고, 특히 차세대 반도체와 인공지능 기술에 집중하고 있어요.\\n\\n더 궁금한 게 생기면 언제든 다시 물어보세요!\"'"
      ]
     },
     "execution_count": 5,
     "metadata": {},
     "output_type": "execute_result"
    }
   ],
   "execution_count": 5
  },
  {
   "metadata": {
    "ExecuteTime": {
     "end_time": "2025-07-28T16:20:26.806104Z",
     "start_time": "2025-07-28T16:20:24.960197Z"
    }
   },
   "cell_type": "code",
   "source": "run_langraph('내가 방금 뭐 물어봤어?', 'id_1')",
   "id": "7bc890979363e617",
   "outputs": [
    {
     "data": {
      "text/plain": [
       "'당신은 방금 \"삼성전자 2024년 사업보고서\"에 대해 물어보셨습니다.'"
      ]
     },
     "execution_count": 7,
     "metadata": {},
     "output_type": "execute_result"
    }
   ],
   "execution_count": 7
  },
  {
   "metadata": {
    "ExecuteTime": {
     "end_time": "2025-07-28T16:20:17.314185Z",
     "start_time": "2025-07-28T16:20:15.030492Z"
    }
   },
   "cell_type": "code",
   "source": "run_langraph('내가 방금 뭐 물어봤어?', 'id_2')",
   "id": "dabdfdb084b92884",
   "outputs": [
    {
     "data": {
      "text/plain": [
       "'최근 대화 기록이 없어 방금 어떤 질문을 하셨는지 알 수 없습니다. 다른 질문이 있으시면 말씀해 주세요!'"
      ]
     },
     "execution_count": 6,
     "metadata": {},
     "output_type": "execute_result"
    }
   ],
   "execution_count": 6
  },
  {
   "metadata": {},
   "cell_type": "code",
   "outputs": [],
   "execution_count": null,
   "source": "",
   "id": "4bfc7bfa99900105"
  }
 ],
 "metadata": {
  "kernelspec": {
   "display_name": "Python 3",
   "language": "python",
   "name": "python3"
  },
  "language_info": {
   "codemirror_mode": {
    "name": "ipython",
    "version": 2
   },
   "file_extension": ".py",
   "mimetype": "text/x-python",
   "name": "python",
   "nbconvert_exporter": "python",
   "pygments_lexer": "ipython2",
   "version": "2.7.6"
  }
 },
 "nbformat": 4,
 "nbformat_minor": 5
}

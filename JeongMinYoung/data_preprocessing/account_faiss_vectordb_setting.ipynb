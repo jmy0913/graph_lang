{
 "cells": [
  {
   "cell_type": "code",
   "id": "initial_id",
   "metadata": {
    "collapsed": true,
    "ExecuteTime": {
     "end_time": "2025-07-13T12:48:24.265252Z",
     "start_time": "2025-07-13T12:48:13.170689Z"
    }
   },
   "source": "!pip install langchain langchain-community langchain-openai langchain-huggingface pypdf tiktoken faiss-cpu sentence-transformers dotenv",
   "outputs": [
    {
     "name": "stdout",
     "output_type": "stream",
     "text": [
      "Requirement already satisfied: langchain in c:\\users\\miny0\\anaconda3\\envs\\ai_basic_env\\lib\\site-packages (0.3.26)\n",
      "Requirement already satisfied: langchain-community in c:\\users\\miny0\\anaconda3\\envs\\ai_basic_env\\lib\\site-packages (0.3.27)\n",
      "Requirement already satisfied: langchain-openai in c:\\users\\miny0\\anaconda3\\envs\\ai_basic_env\\lib\\site-packages (0.3.27)\n",
      "Requirement already satisfied: langchain-huggingface in c:\\users\\miny0\\anaconda3\\envs\\ai_basic_env\\lib\\site-packages (0.3.0)\n",
      "Requirement already satisfied: pypdf in c:\\users\\miny0\\anaconda3\\envs\\ai_basic_env\\lib\\site-packages (5.7.0)\n",
      "Requirement already satisfied: tiktoken in c:\\users\\miny0\\anaconda3\\envs\\ai_basic_env\\lib\\site-packages (0.9.0)\n",
      "Requirement already satisfied: faiss-cpu in c:\\users\\miny0\\anaconda3\\envs\\ai_basic_env\\lib\\site-packages (1.11.0)\n",
      "Requirement already satisfied: sentence-transformers in c:\\users\\miny0\\anaconda3\\envs\\ai_basic_env\\lib\\site-packages (5.0.0)\n",
      "Requirement already satisfied: dotenv in c:\\users\\miny0\\anaconda3\\envs\\ai_basic_env\\lib\\site-packages (0.9.9)\n",
      "Requirement already satisfied: langchain-core<1.0.0,>=0.3.66 in c:\\users\\miny0\\anaconda3\\envs\\ai_basic_env\\lib\\site-packages (from langchain) (0.3.68)\n",
      "Requirement already satisfied: langchain-text-splitters<1.0.0,>=0.3.8 in c:\\users\\miny0\\anaconda3\\envs\\ai_basic_env\\lib\\site-packages (from langchain) (0.3.8)\n",
      "Requirement already satisfied: langsmith>=0.1.17 in c:\\users\\miny0\\anaconda3\\envs\\ai_basic_env\\lib\\site-packages (from langchain) (0.4.4)\n",
      "Requirement already satisfied: pydantic<3.0.0,>=2.7.4 in c:\\users\\miny0\\anaconda3\\envs\\ai_basic_env\\lib\\site-packages (from langchain) (2.11.4)\n",
      "Requirement already satisfied: SQLAlchemy<3,>=1.4 in c:\\users\\miny0\\anaconda3\\envs\\ai_basic_env\\lib\\site-packages (from langchain) (2.0.41)\n",
      "Requirement already satisfied: requests<3,>=2 in c:\\users\\miny0\\anaconda3\\envs\\ai_basic_env\\lib\\site-packages (from langchain) (2.32.3)\n",
      "Requirement already satisfied: PyYAML>=5.3 in c:\\users\\miny0\\anaconda3\\envs\\ai_basic_env\\lib\\site-packages (from langchain) (6.0.2)\n",
      "Requirement already satisfied: tenacity!=8.4.0,<10.0.0,>=8.1.0 in c:\\users\\miny0\\anaconda3\\envs\\ai_basic_env\\lib\\site-packages (from langchain-core<1.0.0,>=0.3.66->langchain) (9.1.2)\n",
      "Requirement already satisfied: jsonpatch<2.0,>=1.33 in c:\\users\\miny0\\anaconda3\\envs\\ai_basic_env\\lib\\site-packages (from langchain-core<1.0.0,>=0.3.66->langchain) (1.33)\n",
      "Requirement already satisfied: packaging<25,>=23.2 in c:\\users\\miny0\\anaconda3\\envs\\ai_basic_env\\lib\\site-packages (from langchain-core<1.0.0,>=0.3.66->langchain) (24.2)\n",
      "Requirement already satisfied: typing-extensions>=4.7 in c:\\users\\miny0\\anaconda3\\envs\\ai_basic_env\\lib\\site-packages (from langchain-core<1.0.0,>=0.3.66->langchain) (4.13.2)\n",
      "Requirement already satisfied: jsonpointer>=1.9 in c:\\users\\miny0\\anaconda3\\envs\\ai_basic_env\\lib\\site-packages (from jsonpatch<2.0,>=1.33->langchain-core<1.0.0,>=0.3.66->langchain) (3.0.0)\n",
      "Requirement already satisfied: annotated-types>=0.6.0 in c:\\users\\miny0\\anaconda3\\envs\\ai_basic_env\\lib\\site-packages (from pydantic<3.0.0,>=2.7.4->langchain) (0.7.0)\n",
      "Requirement already satisfied: pydantic-core==2.33.2 in c:\\users\\miny0\\anaconda3\\envs\\ai_basic_env\\lib\\site-packages (from pydantic<3.0.0,>=2.7.4->langchain) (2.33.2)\n",
      "Requirement already satisfied: typing-inspection>=0.4.0 in c:\\users\\miny0\\anaconda3\\envs\\ai_basic_env\\lib\\site-packages (from pydantic<3.0.0,>=2.7.4->langchain) (0.4.0)\n",
      "Requirement already satisfied: charset_normalizer<4,>=2 in c:\\users\\miny0\\anaconda3\\envs\\ai_basic_env\\lib\\site-packages (from requests<3,>=2->langchain) (3.4.1)\n",
      "Requirement already satisfied: idna<4,>=2.5 in c:\\users\\miny0\\anaconda3\\envs\\ai_basic_env\\lib\\site-packages (from requests<3,>=2->langchain) (3.10)\n",
      "Requirement already satisfied: urllib3<3,>=1.21.1 in c:\\users\\miny0\\anaconda3\\envs\\ai_basic_env\\lib\\site-packages (from requests<3,>=2->langchain) (2.4.0)\n",
      "Requirement already satisfied: certifi>=2017.4.17 in c:\\users\\miny0\\anaconda3\\envs\\ai_basic_env\\lib\\site-packages (from requests<3,>=2->langchain) (2025.4.26)\n",
      "Requirement already satisfied: greenlet>=1 in c:\\users\\miny0\\anaconda3\\envs\\ai_basic_env\\lib\\site-packages (from SQLAlchemy<3,>=1.4->langchain) (3.2.3)\n",
      "Requirement already satisfied: aiohttp<4.0.0,>=3.8.3 in c:\\users\\miny0\\anaconda3\\envs\\ai_basic_env\\lib\\site-packages (from langchain-community) (3.12.13)\n",
      "Requirement already satisfied: dataclasses-json<0.7,>=0.5.7 in c:\\users\\miny0\\anaconda3\\envs\\ai_basic_env\\lib\\site-packages (from langchain-community) (0.6.7)\n",
      "Requirement already satisfied: pydantic-settings<3.0.0,>=2.4.0 in c:\\users\\miny0\\anaconda3\\envs\\ai_basic_env\\lib\\site-packages (from langchain-community) (2.10.1)\n",
      "Requirement already satisfied: httpx-sse<1.0.0,>=0.4.0 in c:\\users\\miny0\\anaconda3\\envs\\ai_basic_env\\lib\\site-packages (from langchain-community) (0.4.1)\n",
      "Requirement already satisfied: numpy>=1.26.2 in c:\\users\\miny0\\anaconda3\\envs\\ai_basic_env\\lib\\site-packages (from langchain-community) (2.2.5)\n",
      "Requirement already satisfied: aiohappyeyeballs>=2.5.0 in c:\\users\\miny0\\anaconda3\\envs\\ai_basic_env\\lib\\site-packages (from aiohttp<4.0.0,>=3.8.3->langchain-community) (2.6.1)\n",
      "Requirement already satisfied: aiosignal>=1.1.2 in c:\\users\\miny0\\anaconda3\\envs\\ai_basic_env\\lib\\site-packages (from aiohttp<4.0.0,>=3.8.3->langchain-community) (1.4.0)\n",
      "Requirement already satisfied: attrs>=17.3.0 in c:\\users\\miny0\\anaconda3\\envs\\ai_basic_env\\lib\\site-packages (from aiohttp<4.0.0,>=3.8.3->langchain-community) (25.3.0)\n",
      "Requirement already satisfied: frozenlist>=1.1.1 in c:\\users\\miny0\\anaconda3\\envs\\ai_basic_env\\lib\\site-packages (from aiohttp<4.0.0,>=3.8.3->langchain-community) (1.7.0)\n",
      "Requirement already satisfied: multidict<7.0,>=4.5 in c:\\users\\miny0\\anaconda3\\envs\\ai_basic_env\\lib\\site-packages (from aiohttp<4.0.0,>=3.8.3->langchain-community) (6.6.3)\n",
      "Requirement already satisfied: propcache>=0.2.0 in c:\\users\\miny0\\anaconda3\\envs\\ai_basic_env\\lib\\site-packages (from aiohttp<4.0.0,>=3.8.3->langchain-community) (0.3.2)\n",
      "Requirement already satisfied: yarl<2.0,>=1.17.0 in c:\\users\\miny0\\anaconda3\\envs\\ai_basic_env\\lib\\site-packages (from aiohttp<4.0.0,>=3.8.3->langchain-community) (1.20.1)\n",
      "Requirement already satisfied: marshmallow<4.0.0,>=3.18.0 in c:\\users\\miny0\\anaconda3\\envs\\ai_basic_env\\lib\\site-packages (from dataclasses-json<0.7,>=0.5.7->langchain-community) (3.26.1)\n",
      "Requirement already satisfied: typing-inspect<1,>=0.4.0 in c:\\users\\miny0\\anaconda3\\envs\\ai_basic_env\\lib\\site-packages (from dataclasses-json<0.7,>=0.5.7->langchain-community) (0.9.0)\n",
      "Requirement already satisfied: python-dotenv>=0.21.0 in c:\\users\\miny0\\anaconda3\\envs\\ai_basic_env\\lib\\site-packages (from pydantic-settings<3.0.0,>=2.4.0->langchain-community) (1.1.0)\n",
      "Requirement already satisfied: mypy-extensions>=0.3.0 in c:\\users\\miny0\\anaconda3\\envs\\ai_basic_env\\lib\\site-packages (from typing-inspect<1,>=0.4.0->dataclasses-json<0.7,>=0.5.7->langchain-community) (1.1.0)\n",
      "Requirement already satisfied: openai<2.0.0,>=1.86.0 in c:\\users\\miny0\\anaconda3\\envs\\ai_basic_env\\lib\\site-packages (from langchain-openai) (1.93.0)\n",
      "Requirement already satisfied: regex>=2022.1.18 in c:\\users\\miny0\\anaconda3\\envs\\ai_basic_env\\lib\\site-packages (from tiktoken) (2024.11.6)\n",
      "Requirement already satisfied: anyio<5,>=3.5.0 in c:\\users\\miny0\\anaconda3\\envs\\ai_basic_env\\lib\\site-packages (from openai<2.0.0,>=1.86.0->langchain-openai) (4.9.0)\n",
      "Requirement already satisfied: distro<2,>=1.7.0 in c:\\users\\miny0\\anaconda3\\envs\\ai_basic_env\\lib\\site-packages (from openai<2.0.0,>=1.86.0->langchain-openai) (1.9.0)\n",
      "Requirement already satisfied: httpx<1,>=0.23.0 in c:\\users\\miny0\\anaconda3\\envs\\ai_basic_env\\lib\\site-packages (from openai<2.0.0,>=1.86.0->langchain-openai) (0.28.1)\n",
      "Requirement already satisfied: jiter<1,>=0.4.0 in c:\\users\\miny0\\anaconda3\\envs\\ai_basic_env\\lib\\site-packages (from openai<2.0.0,>=1.86.0->langchain-openai) (0.10.0)\n",
      "Requirement already satisfied: sniffio in c:\\users\\miny0\\anaconda3\\envs\\ai_basic_env\\lib\\site-packages (from openai<2.0.0,>=1.86.0->langchain-openai) (1.3.1)\n",
      "Requirement already satisfied: tqdm>4 in c:\\users\\miny0\\anaconda3\\envs\\ai_basic_env\\lib\\site-packages (from openai<2.0.0,>=1.86.0->langchain-openai) (4.67.1)\n",
      "Requirement already satisfied: httpcore==1.* in c:\\users\\miny0\\anaconda3\\envs\\ai_basic_env\\lib\\site-packages (from httpx<1,>=0.23.0->openai<2.0.0,>=1.86.0->langchain-openai) (1.0.9)\n",
      "Requirement already satisfied: h11>=0.16 in c:\\users\\miny0\\anaconda3\\envs\\ai_basic_env\\lib\\site-packages (from httpcore==1.*->httpx<1,>=0.23.0->openai<2.0.0,>=1.86.0->langchain-openai) (0.16.0)\n",
      "Requirement already satisfied: tokenizers>=0.19.1 in c:\\users\\miny0\\anaconda3\\envs\\ai_basic_env\\lib\\site-packages (from langchain-huggingface) (0.21.1)\n",
      "Requirement already satisfied: huggingface-hub>=0.30.2 in c:\\users\\miny0\\anaconda3\\envs\\ai_basic_env\\lib\\site-packages (from langchain-huggingface) (0.31.2)\n",
      "Requirement already satisfied: transformers<5.0.0,>=4.41.0 in c:\\users\\miny0\\anaconda3\\envs\\ai_basic_env\\lib\\site-packages (from sentence-transformers) (4.51.3)\n",
      "Requirement already satisfied: torch>=1.11.0 in c:\\users\\miny0\\anaconda3\\envs\\ai_basic_env\\lib\\site-packages (from sentence-transformers) (2.7.0)\n",
      "Requirement already satisfied: scikit-learn in c:\\users\\miny0\\anaconda3\\envs\\ai_basic_env\\lib\\site-packages (from sentence-transformers) (1.6.1)\n",
      "Requirement already satisfied: scipy in c:\\users\\miny0\\anaconda3\\envs\\ai_basic_env\\lib\\site-packages (from sentence-transformers) (1.15.3)\n",
      "Requirement already satisfied: Pillow in c:\\users\\miny0\\anaconda3\\envs\\ai_basic_env\\lib\\site-packages (from sentence-transformers) (11.2.1)\n",
      "Requirement already satisfied: filelock in c:\\users\\miny0\\anaconda3\\envs\\ai_basic_env\\lib\\site-packages (from transformers<5.0.0,>=4.41.0->sentence-transformers) (3.18.0)\n",
      "Requirement already satisfied: safetensors>=0.4.3 in c:\\users\\miny0\\anaconda3\\envs\\ai_basic_env\\lib\\site-packages (from transformers<5.0.0,>=4.41.0->sentence-transformers) (0.5.3)\n",
      "Requirement already satisfied: fsspec>=2023.5.0 in c:\\users\\miny0\\anaconda3\\envs\\ai_basic_env\\lib\\site-packages (from huggingface-hub>=0.30.2->langchain-huggingface) (2025.3.2)\n",
      "Requirement already satisfied: orjson<4.0.0,>=3.9.14 in c:\\users\\miny0\\anaconda3\\envs\\ai_basic_env\\lib\\site-packages (from langsmith>=0.1.17->langchain) (3.10.18)\n",
      "Requirement already satisfied: requests-toolbelt<2.0.0,>=1.0.0 in c:\\users\\miny0\\anaconda3\\envs\\ai_basic_env\\lib\\site-packages (from langsmith>=0.1.17->langchain) (1.0.0)\n",
      "Requirement already satisfied: zstandard<0.24.0,>=0.23.0 in c:\\users\\miny0\\anaconda3\\envs\\ai_basic_env\\lib\\site-packages (from langsmith>=0.1.17->langchain) (0.23.0)\n",
      "Requirement already satisfied: sympy>=1.13.3 in c:\\users\\miny0\\anaconda3\\envs\\ai_basic_env\\lib\\site-packages (from torch>=1.11.0->sentence-transformers) (1.14.0)\n",
      "Requirement already satisfied: networkx in c:\\users\\miny0\\anaconda3\\envs\\ai_basic_env\\lib\\site-packages (from torch>=1.11.0->sentence-transformers) (3.4.2)\n",
      "Requirement already satisfied: jinja2 in c:\\users\\miny0\\anaconda3\\envs\\ai_basic_env\\lib\\site-packages (from torch>=1.11.0->sentence-transformers) (3.1.6)\n",
      "Requirement already satisfied: setuptools in c:\\users\\miny0\\anaconda3\\envs\\ai_basic_env\\lib\\site-packages (from torch>=1.11.0->sentence-transformers) (79.0.1)\n",
      "Requirement already satisfied: mpmath<1.4,>=1.1.0 in c:\\users\\miny0\\anaconda3\\envs\\ai_basic_env\\lib\\site-packages (from sympy>=1.13.3->torch>=1.11.0->sentence-transformers) (1.3.0)\n",
      "Requirement already satisfied: colorama in c:\\users\\miny0\\anaconda3\\envs\\ai_basic_env\\lib\\site-packages (from tqdm>4->openai<2.0.0,>=1.86.0->langchain-openai) (0.4.6)\n",
      "Requirement already satisfied: MarkupSafe>=2.0 in c:\\users\\miny0\\anaconda3\\envs\\ai_basic_env\\lib\\site-packages (from jinja2->torch>=1.11.0->sentence-transformers) (2.1.5)\n",
      "Requirement already satisfied: joblib>=1.2.0 in c:\\users\\miny0\\anaconda3\\envs\\ai_basic_env\\lib\\site-packages (from scikit-learn->sentence-transformers) (1.5.0)\n",
      "Requirement already satisfied: threadpoolctl>=3.1.0 in c:\\users\\miny0\\anaconda3\\envs\\ai_basic_env\\lib\\site-packages (from scikit-learn->sentence-transformers) (3.6.0)\n"
     ]
    }
   ],
   "execution_count": 1
  },
  {
   "metadata": {},
   "cell_type": "markdown",
   "source": "## 환경변수 로딩",
   "id": "7838ed41d3143a7f"
  },
  {
   "metadata": {
    "ExecuteTime": {
     "end_time": "2025-07-14T13:07:27.683433Z",
     "start_time": "2025-07-14T13:07:27.650384Z"
    }
   },
   "cell_type": "code",
   "source": [
    "from dotenv import load_dotenv\n",
    "\n",
    "load_dotenv()"
   ],
   "id": "b0199536a5d49531",
   "outputs": [
    {
     "data": {
      "text/plain": [
       "True"
      ]
     },
     "execution_count": 1,
     "metadata": {},
     "output_type": "execute_result"
    }
   ],
   "execution_count": 1
  },
  {
   "metadata": {},
   "cell_type": "markdown",
   "source": "## 1. 회계 기준서 PDF LOADING",
   "id": "d96843551daeeffc"
  },
  {
   "metadata": {
    "ExecuteTime": {
     "end_time": "2025-07-13T12:15:25.317818Z",
     "start_time": "2025-07-13T12:06:35.191813Z"
    }
   },
   "cell_type": "code",
   "source": [
    "from langchain.document_loaders import PyPDFLoader\n",
    "\n",
    "# PDF 파일 경로 리스트\n",
    "pdf_files = ['경영진설명서_작성을_위한_개념체계_번역서_수정(2011_번역_2018_타기준서_수정_수정목록25-1_2020_구성양식_변경_반영).pdf',\n",
    "             '국제회계기준_실무서_2_중요성에_대한_판단_번역서(2018_번역_2021_타기준서_개정_수정목록_25-1_2020_구성양식_변경_반영).pdf',\n",
    "             '시행중_K-IFRS_재무보고를_위한_개념체계(2018_개정_2019_타기준서_개정_수정목록_24-1_2020_구성양식_변경_반영).pdf',\n",
    "             '시행중_K-IFRS_제1001호_재무제표_표시(2023_개정_2021_타기준서_제정_수정목록_25-1_2020_구성양식_변경_반영).pdf',\n",
    "             '시행중_K-IFRS_제1002호_재고자산(2007_제정_2017_타기준서_제정_수정목록_23-1_2020_구성양식_변경_반영).pdf',\n",
    "             '시행중_K-IFRS_제1007호_현금흐름표(2023_개정_2021_타기준서_제정_수정목록_19-1_2020_구성양식_변경_반영).pdf',\n",
    "             '시행중_K-IFRS_제1008호_회계정책_회계추정치_변경과_오류(2021_개정_2018_타기준서_개정_수정목록_23-1_2020_구성양식_변경_반영).pdf',\n",
    "             '시행중_K-IFRS_제1010호_보고기간후사건(2008_개정_2019_타기준서_개정_수정목록_23-1_2020_구성양식_변경_반영).pdf',\n",
    "             '시행중_K-IFRS_제1012호_법인세(2023_개정_2018_타기준서_개정_수정목록_25-1_2020_구성양식_변경_반영).pdf',\n",
    "             '시행중_K-IFRS_제1016호_유형자산(2020_개정_2021_타기준서_제정_수정목록_23-1_2020_구성양식_변경_반영).pdf',\n",
    "             '시행중_K-IFRS_제1019호_종업원급여(2018_개정_2021_타기준서_제정_수정목록_25-1_2020_구성양식_변경_반영).pdf',\n",
    "             '시행중_K-IFRS_제1020호_정부보조금의_회계처리와_정부지원의_공시(2008_개정_2015_타기준서_제정_수정목록_23-1_2020_구성양식_변경_반영).pdf',\n",
    "             '시행중_K-IFRS_제1021호_환율변동효과(2023_개정_2018_타기준서_개정_수정목록_23-1_2020_구성양식_변경_반영).pdf',\n",
    "             '시행중_K-IFRS_제1023호_차입원가(2018_개정_2017_타기준서_제정_수정목록_23-1_2020_구성양식_변경_반영).pdf',\n",
    "             '시행중_K-IFRS_제1024호_특수관계자공시(2014_개정_2013_타기준서_개정_수정목록_23-1_2020_구성양식_변경_반영).pdf',\n",
    "             '시행중_K-IFRS_제1026호_퇴직급여제도에_의한_회계처리와_보고(2007_제정_2021_타기준서_개정_수정목록_24-1_2020_구성양식_변경_반영).pdf',\n",
    "             '시행중_K-IFRS_제1027호_별도재무제표(2014_개정_2015_타기준서_제정_수정목록_25-1_2020_구성양식_변경_반영).pdf',\n",
    "             '시행중_K-IFRS_제1028호_관계기업과_공동기업에_대한_투자(2018_개정_2021_타기준서_제정_수정목록_24-1_2020_구성양식_변경_반영).pdf',\n",
    "             '시행중_K-IFRS_제1029호_초인플레이션_경제에서의_재무보고(2008_개정_수정목록_23-1_2020_구성양식_변경_반영).pdf',\n",
    "             '시행중_K-IFRS_제1032호_금융상품_표시(2014_개정_2021_타기준서_제정_수정목록_23-1_2020_구성양식_변경_반영).pdf',\n",
    "             '시행중_K-IFRS_제1033호_주당이익(2007_제정_2015_타기준서_제정_수정목록_23-1_2020_구성양식_변경_반영).pdf',\n",
    "             '시행중_K-IFRS_제1034호_중간재무보고(2015_개정_2021_타기준서_개정_수정목록_24-1_2021_구성양식_변경_반영).pdf',\n",
    "             '시행중_K-IFRS_제1034호_중간재무보고(2015_개정_2021_타기준서_개정_수정목록_24-1_2021_구성양식_변경_반영) (1).pdf',\n",
    "             '시행중_K-IFRS_제1034호_중간재무보고(2015_개정_2021_타기준서_개정_수정목록_24-1_2021_구성양식_변경_반영) (2).pdf',\n",
    "             '시행중_K-IFRS_제1036호_자산손상(2015_개정_2021_타기준서_제정_수정목록_23-1_2020_구성양식_변경_반영).pdf',\n",
    "             '시행중_K-IFRS_제1038호_무형자산(2014_개정_2021_타기준서_제정_수정목록_25-1_2020_구성양식_변경_반영).pdf',\n",
    "             '시행중_K-IFRS_제1039호_금융상품_인식과_측정(2020_개정_2017_타기준서_제정_수정목록_23-1_2020_구성양식_변경_반영).pdf',\n",
    "             '시행중_K-IFRS_제1040호_투자부동산(2017_개정_2021_타기준서_제정_수정목록_24-1_2020_구성양식_변경_반영).pdf',\n",
    "             '시행중_K-IFRS_제1041호_농림어업(2020_개정_2018_타기준서_개정_수정목록_25-1_2020_구성양식_변경_반영).pdf',\n",
    "             '시행중_K-IFRS_제1101호_한국채택국제회계기준의_최초채택(2023_개정_2023_타기준서_개정_수정목록_24-1_2020_구성양식_변경_반영).pdf',\n",
    "             '시행중_K-IFRS_제1102호_주식기준보상(2016_개정_2019_타기준서_개정_수정목록_24-1_2020_구성양식_변경_반영).pdf',\n",
    "             '시행중_K-IFRS_제1103호_사업결합(2020_개정_2021_타기준서_제정_수정목록_25-1_2020_구성양식_변경_반영).pdf',\n",
    "             '시행중_K-IFRS_제1105호_매각예정비유동자산과_중단영업(2015_개정_2021_타기준서_제정_수정목록_24-1_2020_구성양식_변경_반영).pdf',\n",
    "             '시행중_K-IFRS_제1106호_광물자원의_탐사와_평가(2009_개정_2018_타기준서_개정_수정목록_24-1_2020_구성양식_변경_반영).pdf',\n",
    "             '시행중_K-IFRS_제1107호_금융상품_공시(2023_개정_2021_타기준서_개정_수정목록_25-1_2020_구성양식_변경_반영).pdf',\n",
    "             '시행중_K-IFRS_제1108호_영업부문(2014_개정_2021_타기준서_개정_수정목록_23-1_2020_구성양식_변경_반영).pdf',\n",
    "             '시행중_K-IFRS_제1109호_금융상품(2020_개정_2021_타기준서_제정_수정목록_23-1_2020_구성양식_변경_반영).pdf',\n",
    "             '시행중_K-IFRS_제1110호_연결재무제표(2015_개정_2018_타기준서_개정_수정목록24-1_2020_구성양식_변경_반영).pdf',\n",
    "             '시행중_K-IFRS_제1111호_공동약정(2018_개정_수정목록_24-1_2020_구성양식_변경_반영).pdf',\n",
    "             '시행중_K-IFRS_제1112호_타_기업에_대한_지분의_공시(2017_개정_2018_타기준서_개정_수정목록_24-1_2020_구성양식_변경_반영).pdf',\n",
    "             '시행중_K-IFRS_제1113호_공정가치_측정(2015_개정_2017_타기준서_제정_수정목록_24-1_2020_구성양식_변경_반영).pdf',\n",
    "             '시행중_K-IFRS_제1114호_규제이연계정(2014_제정_2021_타기준서_개정_수정목록23-1_2020_구성양식_변경_반영).pdf',\n",
    "             '시행중_K-IFRS_제1115호_고객과의_계약에서_생기는_수익(2018_개정_2021_타기준서_제정_수정목록_23-1_2020_구성양식_변경_반영).pdf',\n",
    "             '시행중_K-IFRS_제1116호_리스(2023_개정_2018_타기준서_개정_수정목록_23-1_2020_구성양식_변경_반영).pdf',\n",
    "             '시행중_K-IFRS_제1117호_보험계약(2022_개정_수정목록_25-1).pdf',\n",
    "             '시행중_K-IFRS_제2010호_정부지원_영업활동과_특정한_관련이_없는_경우(2007_제정_수정목록_23-1_2020_구성양식_변경_반영).pdf',\n",
    "             '시행중_K-IFRS_제2025호_법인세_기업이나_주주의_납세지위_변동(2007_제정_수정목록_25-1_2020_구성양식_변경_반영).pdf',\n",
    "             '시행중_K-IFRS_제2029호_민간투자사업_공시(2007_제정_2018_타기준서_개정_수정목록_24-1_2020_구성양식_변경_반영).pdf',\n",
    "             '시행중_K-IFRS_제2032호_무형자산_웹_사이트_원가(2007_제정_2018_타기준서_개정_수정목록_23-1_2020_구성양식_변경_반영).pdf',\n",
    "             '시행중_K-IFRS_제2101호_사후처리_및_복구관련_충당부채의_변경(2007_제정_2017_타기준서_제정_수정목록_23-1_2020_구성양식_변경_반영).pdf',\n",
    "             '시행중_K-IFRS_제2102호_조합원_지분과_유사_지분(2007_제정_2015_타기준서_제정_수정목록_23-1_2020_구성양식_변경_반영).pdf',\n",
    "             '시행중_K-IFRS_제2105호_사후처리_복구_및_환경정화를_위한_기금의_지분에_대한_권리(2007_제정_2018_타기준서_개정_수정목록_23-1_2020_구성양식_변경_반영).pdf',\n",
    "             '시행중_K-IFRS_제2106호_특정_시장에_참여함에_따라_발생하는_부채__폐전기·전자제품(2007_제정_수정목록_23-1_2020_구성양식_변경_.pdf',\n",
    "             \"시행중_K-IFRS_제2107호_제1029호_'초인플레이션_경제에서의_재무보고'에_따른_재작성_방법의_적용(2007_제정_수정목록_24-1_2021_구성양식_변경_반영).pdf\",\n",
    "             '시행중_K-IFRS_제2110호_중간재무보고와_손상(2007_제정_2018_타기준서_개정_수정목록24-1_2021_구성양식_변경_반영).pdf',\n",
    "             '시행중_K-IFRS_제2112호_민간투자사업(2007_제정_2018_타기준서_개정_수정목록_23-1_2020_구성양식_변경_반영).pdf',\n",
    "             '시행중_K-IFRS_제2114호_기업회계기준서_제1019호-확정급여자산한도_최소적립요구_및_그_상호작용_(2010_개정_2018_타기준서_개정_수정목록25-1_반영).pdf',\n",
    "             '시행중_K-IFRS_제2116호_해외사업장순투자의_위험회피(2009_개정_2015_타기준서_제정_수정목록_25-1_2020_구성양식_변경_반영).pdf',\n",
    "             '시행중_K-IFRS_제2117호_소유주에_대한_비현금자산의_분배(2009_제정_2018_타기준서_개정_수정목록_23-1_2020_구성양식_변경_반영).pdf',\n",
    "             '시행중_K-IFRS_제2119호_지분상품에_의한_금융부채의_소멸(2010_제정_2018_타기준서_개정_수정목록_25-1_2020_구성양식_변경_반영).pdf',\n",
    "             '시행중_K-IFRS_제2120호_노천광산_생산단계의_박토원가(2012_제정_2018_타기준서_개정_수정목록_24-1_2020_구성양식_변경_반영).pdf',\n",
    "             '시행중_K-IFRS_제2121호_부담금(2013_제정_수정목록_23-1_2020_구성양식_변경_반영).pdf',\n",
    "             '시행중_K-IFRS_제2122호_외화_거래와_선지급·선수취_대가(2017_제정_2021_타기준서_제정_수정목록_23-1_2020_구성양식_변경_반영).pdf',\n",
    "             '시행중_K-IFRS_제2123호_법인세_처리의_불확실성(2017_제정_수정목록_23-1_2020_구성양식_변경_반영).pdf',\n",
    "\n",
    "             ]\n",
    "\n",
    "# 모든 Documents 객체를 저장할 리스트\n",
    "all_docs = []\n",
    "\n",
    "for pdf_path in pdf_files:\n",
    "    loader = PyPDFLoader(pdf_path)\n",
    "    docs = loader.load()\n",
    "    all_docs.extend(docs)\n",
    "\n",
    "print(f\"총 문서 객체 수: {len(all_docs)}\")\n",
    "print(all_docs[0].page_content[:500])  # 첫 문서의 앞부분 미리보기\n"
   ],
   "id": "25a90308d55fd659",
   "outputs": [
    {
     "name": "stdout",
     "output_type": "stream",
     "text": [
      "총 문서 객체 수: 7886\n",
      "국제회계기준 실무서 1‘경영진설명서 작성을 위한 개념체계’번역서\n",
      "한국회계기준원 조사연구실2018.11.14.이 ‘경영진설명서 작성을 위한 개념체계’는 회계기준위원회(KASB)가 공식적으로 채택한 것이 아닌,국제회계기준위원회(IASB)가 발표한 국제회계기준 실무서 ‘경영진설명서 작성을 위한 개념체계’(ManagementCommentary-AFrameworkforPresentation)에 대한 이해관계자의 이해를 돕기 위해 한국회계기준원 조사연구실이 번역한 자료입니다.일부 내용은 IASB가 발표한 영어원문과 달리 표현되어 있을 수 있으므로 원문을 함께 참고하시기 바랍니다.이 실무서는 K-IFRS를 구성하지 않으며 K-IFRS에 따라 재무제표를 작성하는 기업에 강제되지 않습니다.이 실무서의 구체적인 성격과 위상은 IASB가 발표한 영어원문과 이 번역서를 참고하시기 바랍니다.\n"
     ]
    }
   ],
   "execution_count": 2
  },
  {
   "metadata": {
    "ExecuteTime": {
     "end_time": "2025-07-13T12:49:26.562936Z",
     "start_time": "2025-07-13T12:48:24.316629Z"
    }
   },
   "cell_type": "code",
   "source": [
    "from langchain.document_loaders import PyPDFLoader\n",
    "\n",
    "# PDF 파일 경로 리스트\n",
    "pdf_files = ['경영진설명서_작성을_위한_개념체계_번역서_수정(2011_번역_2018_타기준서_수정_수정목록25-1_2020_구성양식_변경_반영).pdf',\n",
    "             '국제회계기준_실무서_2_중요성에_대한_판단_번역서(2018_번역_2021_타기준서_개정_수정목록_25-1_2020_구성양식_변경_반영).pdf',\n",
    "             '시행중_K-IFRS_재무보고를_위한_개념체계(2018_개정_2019_타기준서_개정_수정목록_24-1_2020_구성양식_변경_반영).pdf',\n",
    "             '시행중_K-IFRS_제1001호_재무제표_표시(2023_개정_2021_타기준서_제정_수정목록_25-1_2020_구성양식_변경_반영).pdf',\n",
    "             '시행중_K-IFRS_제1002호_재고자산(2007_제정_2017_타기준서_제정_수정목록_23-1_2020_구성양식_변경_반영).pdf',\n",
    "             '시행중_K-IFRS_제1007호_현금흐름표(2023_개정_2021_타기준서_제정_수정목록_19-1_2020_구성양식_변경_반영).pdf',\n",
    "             '시행중_K-IFRS_제1008호_회계정책_회계추정치_변경과_오류(2021_개정_2018_타기준서_개정_수정목록_23-1_2020_구성양식_변경_반영).pdf',\n",
    "             '시행중_K-IFRS_제1010호_보고기간후사건(2008_개정_2019_타기준서_개정_수정목록_23-1_2020_구성양식_변경_반영).pdf',\n",
    "             '시행중_K-IFRS_제1012호_법인세(2023_개정_2018_타기준서_개정_수정목록_25-1_2020_구성양식_변경_반영).pdf',\n",
    "             '시행중_K-IFRS_제1016호_유형자산(2020_개정_2021_타기준서_제정_수정목록_23-1_2020_구성양식_변경_반영).pdf',\n",
    "             '시행중_K-IFRS_제1019호_종업원급여(2018_개정_2021_타기준서_제정_수정목록_25-1_2020_구성양식_변경_반영).pdf',\n",
    "             '시행중_K-IFRS_제1020호_정부보조금의_회계처리와_정부지원의_공시(2008_개정_2015_타기준서_제정_수정목록_23-1_2020_구성양식_변경_반영).pdf',\n",
    "             '시행중_K-IFRS_제1021호_환율변동효과(2023_개정_2018_타기준서_개정_수정목록_23-1_2020_구성양식_변경_반영).pdf',\n",
    "             '시행중_K-IFRS_제1023호_차입원가(2018_개정_2017_타기준서_제정_수정목록_23-1_2020_구성양식_변경_반영).pdf',\n",
    "             '시행중_K-IFRS_제1024호_특수관계자공시(2014_개정_2013_타기준서_개정_수정목록_23-1_2020_구성양식_변경_반영).pdf',\n",
    "             '시행중_K-IFRS_제1026호_퇴직급여제도에_의한_회계처리와_보고(2007_제정_2021_타기준서_개정_수정목록_24-1_2020_구성양식_변경_반영).pdf',\n",
    "             '시행중_K-IFRS_제1027호_별도재무제표(2014_개정_2015_타기준서_제정_수정목록_25-1_2020_구성양식_변경_반영).pdf',\n",
    "             '시행중_K-IFRS_제1028호_관계기업과_공동기업에_대한_투자(2018_개정_2021_타기준서_제정_수정목록_24-1_2020_구성양식_변경_반영).pdf',\n",
    "             '시행중_K-IFRS_제1029호_초인플레이션_경제에서의_재무보고(2008_개정_수정목록_23-1_2020_구성양식_변경_반영).pdf',\n",
    "             '시행중_K-IFRS_제1032호_금융상품_표시(2014_개정_2021_타기준서_제정_수정목록_23-1_2020_구성양식_변경_반영).pdf',\n",
    "             '시행중_K-IFRS_제1033호_주당이익(2007_제정_2015_타기준서_제정_수정목록_23-1_2020_구성양식_변경_반영).pdf',\n",
    "             '시행중_K-IFRS_제1034호_중간재무보고(2015_개정_2021_타기준서_개정_수정목록_24-1_2021_구성양식_변경_반영).pdf',\n",
    "             '시행중_K-IFRS_제1034호_중간재무보고(2015_개정_2021_타기준서_개정_수정목록_24-1_2021_구성양식_변경_반영) (1).pdf',\n",
    "             '시행중_K-IFRS_제1034호_중간재무보고(2015_개정_2021_타기준서_개정_수정목록_24-1_2021_구성양식_변경_반영) (2).pdf',\n",
    "             '시행중_K-IFRS_제1036호_자산손상(2015_개정_2021_타기준서_제정_수정목록_23-1_2020_구성양식_변경_반영).pdf',\n",
    "             '시행중_K-IFRS_제1038호_무형자산(2014_개정_2021_타기준서_제정_수정목록_25-1_2020_구성양식_변경_반영).pdf',\n",
    "             '시행중_K-IFRS_제1039호_금융상품_인식과_측정(2020_개정_2017_타기준서_제정_수정목록_23-1_2020_구성양식_변경_반영).pdf',\n",
    "             '시행중_K-IFRS_제1040호_투자부동산(2017_개정_2021_타기준서_제정_수정목록_24-1_2020_구성양식_변경_반영).pdf',\n",
    "             '시행중_K-IFRS_제1041호_농림어업(2020_개정_2018_타기준서_개정_수정목록_25-1_2020_구성양식_변경_반영).pdf',\n",
    "             '시행중_K-IFRS_제1101호_한국채택국제회계기준의_최초채택(2023_개정_2023_타기준서_개정_수정목록_24-1_2020_구성양식_변경_반영).pdf',\n",
    "             '시행중_K-IFRS_제1102호_주식기준보상(2016_개정_2019_타기준서_개정_수정목록_24-1_2020_구성양식_변경_반영).pdf',\n",
    "             '시행중_K-IFRS_제1103호_사업결합(2020_개정_2021_타기준서_제정_수정목록_25-1_2020_구성양식_변경_반영).pdf',\n",
    "             '시행중_K-IFRS_제1105호_매각예정비유동자산과_중단영업(2015_개정_2021_타기준서_제정_수정목록_24-1_2020_구성양식_변경_반영).pdf',\n",
    "             '시행중_K-IFRS_제1106호_광물자원의_탐사와_평가(2009_개정_2018_타기준서_개정_수정목록_24-1_2020_구성양식_변경_반영).pdf',\n",
    "             '시행중_K-IFRS_제1107호_금융상품_공시(2023_개정_2021_타기준서_개정_수정목록_25-1_2020_구성양식_변경_반영).pdf',\n",
    "             '시행중_K-IFRS_제1108호_영업부문(2014_개정_2021_타기준서_개정_수정목록_23-1_2020_구성양식_변경_반영).pdf',\n",
    "             '시행중_K-IFRS_제1109호_금융상품(2020_개정_2021_타기준서_제정_수정목록_23-1_2020_구성양식_변경_반영).pdf',\n",
    "             '시행중_K-IFRS_제1110호_연결재무제표(2015_개정_2018_타기준서_개정_수정목록24-1_2020_구성양식_변경_반영).pdf',\n",
    "             '시행중_K-IFRS_제1111호_공동약정(2018_개정_수정목록_24-1_2020_구성양식_변경_반영).pdf',\n",
    "             '시행중_K-IFRS_제1112호_타_기업에_대한_지분의_공시(2017_개정_2018_타기준서_개정_수정목록_24-1_2020_구성양식_변경_반영).pdf',\n",
    "             '시행중_K-IFRS_제1113호_공정가치_측정(2015_개정_2017_타기준서_제정_수정목록_24-1_2020_구성양식_변경_반영).pdf',\n",
    "             '시행중_K-IFRS_제1114호_규제이연계정(2014_제정_2021_타기준서_개정_수정목록23-1_2020_구성양식_변경_반영).pdf',\n",
    "             '시행중_K-IFRS_제1115호_고객과의_계약에서_생기는_수익(2018_개정_2021_타기준서_제정_수정목록_23-1_2020_구성양식_변경_반영).pdf',\n",
    "             '시행중_K-IFRS_제1116호_리스(2023_개정_2018_타기준서_개정_수정목록_23-1_2020_구성양식_변경_반영).pdf',\n",
    "             '시행중_K-IFRS_제1117호_보험계약(2022_개정_수정목록_25-1).pdf',\n",
    "             '시행중_K-IFRS_제2010호_정부지원_영업활동과_특정한_관련이_없는_경우(2007_제정_수정목록_23-1_2020_구성양식_변경_반영).pdf',\n",
    "             '시행중_K-IFRS_제2025호_법인세_기업이나_주주의_납세지위_변동(2007_제정_수정목록_25-1_2020_구성양식_변경_반영).pdf',\n",
    "             '시행중_K-IFRS_제2029호_민간투자사업_공시(2007_제정_2018_타기준서_개정_수정목록_24-1_2020_구성양식_변경_반영).pdf',\n",
    "             '시행중_K-IFRS_제2032호_무형자산_웹_사이트_원가(2007_제정_2018_타기준서_개정_수정목록_23-1_2020_구성양식_변경_반영).pdf',\n",
    "             '시행중_K-IFRS_제2101호_사후처리_및_복구관련_충당부채의_변경(2007_제정_2017_타기준서_제정_수정목록_23-1_2020_구성양식_변경_반영).pdf',\n",
    "             '시행중_K-IFRS_제2102호_조합원_지분과_유사_지분(2007_제정_2015_타기준서_제정_수정목록_23-1_2020_구성양식_변경_반영).pdf',\n",
    "             '시행중_K-IFRS_제2105호_사후처리_복구_및_환경정화를_위한_기금의_지분에_대한_권리(2007_제정_2018_타기준서_개정_수정목록_23-1_2020_구성양식_변경_반영).pdf',\n",
    "             '시행중_K-IFRS_제2106호_특정_시장에_참여함에_따라_발생하는_부채__폐전기·전자제품(2007_제정_수정목록_23-1_2020_구성양식_변경_.pdf',\n",
    "             \"시행중_K-IFRS_제2107호_제1029호_'초인플레이션_경제에서의_재무보고'에_따른_재작성_방법의_적용(2007_제정_수정목록_24-1_2021_구성양식_변경_반영).pdf\",\n",
    "             '시행중_K-IFRS_제2110호_중간재무보고와_손상(2007_제정_2018_타기준서_개정_수정목록24-1_2021_구성양식_변경_반영).pdf',\n",
    "             '시행중_K-IFRS_제2112호_민간투자사업(2007_제정_2018_타기준서_개정_수정목록_23-1_2020_구성양식_변경_반영).pdf',\n",
    "             '시행중_K-IFRS_제2114호_기업회계기준서_제1019호-확정급여자산한도_최소적립요구_및_그_상호작용_(2010_개정_2018_타기준서_개정_수정목록25-1_반영).pdf',\n",
    "             '시행중_K-IFRS_제2116호_해외사업장순투자의_위험회피(2009_개정_2015_타기준서_제정_수정목록_25-1_2020_구성양식_변경_반영).pdf',\n",
    "             '시행중_K-IFRS_제2117호_소유주에_대한_비현금자산의_분배(2009_제정_2018_타기준서_개정_수정목록_23-1_2020_구성양식_변경_반영).pdf',\n",
    "             '시행중_K-IFRS_제2119호_지분상품에_의한_금융부채의_소멸(2010_제정_2018_타기준서_개정_수정목록_25-1_2020_구성양식_변경_반영).pdf',\n",
    "             '시행중_K-IFRS_제2120호_노천광산_생산단계의_박토원가(2012_제정_2018_타기준서_개정_수정목록_24-1_2020_구성양식_변경_반영).pdf',\n",
    "             '시행중_K-IFRS_제2121호_부담금(2013_제정_수정목록_23-1_2020_구성양식_변경_반영).pdf',\n",
    "             '시행중_K-IFRS_제2122호_외화_거래와_선지급·선수취_대가(2017_제정_2021_타기준서_제정_수정목록_23-1_2020_구성양식_변경_반영).pdf',\n",
    "             '시행중_K-IFRS_제2123호_법인세_처리의_불확실성(2017_제정_수정목록_23-1_2020_구성양식_변경_반영).pdf',\n",
    "\n",
    "             ]\n",
    "\n",
    "# 모든 Documents 객체를 저장할 리스트\n",
    "all_docs = []\n",
    "\n",
    "for pdf_path in pdf_files:\n",
    "    loader = PyPDFLoader('account_data/'+pdf_path)\n",
    "    docs = loader.load()\n",
    "    all_docs.extend(docs)\n",
    "\n",
    "print(f\"총 문서 객체 수: {len(all_docs)}\")\n",
    "print(all_docs[0].page_content[:500])  # 첫 문서의 앞부분 미리보기\n"
   ],
   "id": "36e9b7c71a16eecd",
   "outputs": [
    {
     "ename": "KeyboardInterrupt",
     "evalue": "",
     "output_type": "error",
     "traceback": [
      "\u001B[31m---------------------------------------------------------------------------\u001B[39m",
      "\u001B[31mKeyboardInterrupt\u001B[39m                         Traceback (most recent call last)",
      "\u001B[36mCell\u001B[39m\u001B[36m \u001B[39m\u001B[32mIn[2]\u001B[39m\u001B[32m, line 76\u001B[39m\n\u001B[32m     74\u001B[39m \u001B[38;5;28;01mfor\u001B[39;00m pdf_path \u001B[38;5;129;01min\u001B[39;00m pdf_files:\n\u001B[32m     75\u001B[39m     loader = PyPDFLoader(\u001B[33m'\u001B[39m\u001B[33mdata/\u001B[39m\u001B[33m'\u001B[39m+pdf_path)\n\u001B[32m---> \u001B[39m\u001B[32m76\u001B[39m     docs = \u001B[43mloader\u001B[49m\u001B[43m.\u001B[49m\u001B[43mload\u001B[49m\u001B[43m(\u001B[49m\u001B[43m)\u001B[49m\n\u001B[32m     77\u001B[39m     all_docs.extend(docs)\n\u001B[32m     79\u001B[39m \u001B[38;5;28mprint\u001B[39m(\u001B[33mf\u001B[39m\u001B[33m\"\u001B[39m\u001B[33m총 문서 객체 수: \u001B[39m\u001B[38;5;132;01m{\u001B[39;00m\u001B[38;5;28mlen\u001B[39m(all_docs)\u001B[38;5;132;01m}\u001B[39;00m\u001B[33m\"\u001B[39m)\n",
      "\u001B[36mFile \u001B[39m\u001B[32m~\\anaconda3\\envs\\ai_basic_env\\Lib\\site-packages\\langchain_core\\document_loaders\\base.py:32\u001B[39m, in \u001B[36mBaseLoader.load\u001B[39m\u001B[34m(self)\u001B[39m\n\u001B[32m     30\u001B[39m \u001B[38;5;28;01mdef\u001B[39;00m\u001B[38;5;250m \u001B[39m\u001B[34mload\u001B[39m(\u001B[38;5;28mself\u001B[39m) -> \u001B[38;5;28mlist\u001B[39m[Document]:\n\u001B[32m     31\u001B[39m \u001B[38;5;250m    \u001B[39m\u001B[33;03m\"\"\"Load data into Document objects.\"\"\"\u001B[39;00m\n\u001B[32m---> \u001B[39m\u001B[32m32\u001B[39m     \u001B[38;5;28;01mreturn\u001B[39;00m \u001B[38;5;28;43mlist\u001B[39;49m\u001B[43m(\u001B[49m\u001B[38;5;28;43mself\u001B[39;49m\u001B[43m.\u001B[49m\u001B[43mlazy_load\u001B[49m\u001B[43m(\u001B[49m\u001B[43m)\u001B[49m\u001B[43m)\u001B[49m\n",
      "\u001B[36mFile \u001B[39m\u001B[32m~\\anaconda3\\envs\\ai_basic_env\\Lib\\site-packages\\langchain_community\\document_loaders\\pdf.py:305\u001B[39m, in \u001B[36mPyPDFLoader.lazy_load\u001B[39m\u001B[34m(self)\u001B[39m\n\u001B[32m    303\u001B[39m \u001B[38;5;28;01melse\u001B[39;00m:\n\u001B[32m    304\u001B[39m     blob = Blob.from_path(\u001B[38;5;28mself\u001B[39m.file_path)\n\u001B[32m--> \u001B[39m\u001B[32m305\u001B[39m \u001B[38;5;28;01myield from\u001B[39;00m \u001B[38;5;28mself\u001B[39m.parser.lazy_parse(blob)\n",
      "\u001B[36mFile \u001B[39m\u001B[32m~\\anaconda3\\envs\\ai_basic_env\\Lib\\site-packages\\langchain_community\\document_loaders\\parsers\\pdf.py:396\u001B[39m, in \u001B[36mPyPDFParser.lazy_parse\u001B[39m\u001B[34m(self, blob)\u001B[39m\n\u001B[32m    394\u001B[39m single_texts = []\n\u001B[32m    395\u001B[39m \u001B[38;5;28;01mfor\u001B[39;00m page_number, page \u001B[38;5;129;01min\u001B[39;00m \u001B[38;5;28menumerate\u001B[39m(pdf_reader.pages):\n\u001B[32m--> \u001B[39m\u001B[32m396\u001B[39m     text_from_page = \u001B[43m_extract_text_from_page\u001B[49m\u001B[43m(\u001B[49m\u001B[43mpage\u001B[49m\u001B[43m=\u001B[49m\u001B[43mpage\u001B[49m\u001B[43m)\u001B[49m\n\u001B[32m    397\u001B[39m     images_from_page = \u001B[38;5;28mself\u001B[39m.extract_images_from_page(page)\n\u001B[32m    398\u001B[39m     all_text = _merge_text_and_extras(\n\u001B[32m    399\u001B[39m         [images_from_page], text_from_page\n\u001B[32m    400\u001B[39m     ).strip()\n",
      "\u001B[36mFile \u001B[39m\u001B[32m~\\anaconda3\\envs\\ai_basic_env\\Lib\\site-packages\\langchain_community\\document_loaders\\parsers\\pdf.py:378\u001B[39m, in \u001B[36mPyPDFParser.lazy_parse.<locals>._extract_text_from_page\u001B[39m\u001B[34m(page)\u001B[39m\n\u001B[32m    376\u001B[39m     \u001B[38;5;28;01mreturn\u001B[39;00m page.extract_text()\n\u001B[32m    377\u001B[39m \u001B[38;5;28;01melse\u001B[39;00m:\n\u001B[32m--> \u001B[39m\u001B[32m378\u001B[39m     \u001B[38;5;28;01mreturn\u001B[39;00m \u001B[43mpage\u001B[49m\u001B[43m.\u001B[49m\u001B[43mextract_text\u001B[49m\u001B[43m(\u001B[49m\n\u001B[32m    379\u001B[39m \u001B[43m        \u001B[49m\u001B[43mextraction_mode\u001B[49m\u001B[43m=\u001B[49m\u001B[38;5;28;43mself\u001B[39;49m\u001B[43m.\u001B[49m\u001B[43mextraction_mode\u001B[49m\u001B[43m,\u001B[49m\n\u001B[32m    380\u001B[39m \u001B[43m        \u001B[49m\u001B[43m*\u001B[49m\u001B[43m*\u001B[49m\u001B[38;5;28;43mself\u001B[39;49m\u001B[43m.\u001B[49m\u001B[43mextraction_kwargs\u001B[49m\u001B[43m,\u001B[49m\n\u001B[32m    381\u001B[39m \u001B[43m    \u001B[49m\u001B[43m)\u001B[49m\n",
      "\u001B[36mFile \u001B[39m\u001B[32m~\\anaconda3\\envs\\ai_basic_env\\Lib\\site-packages\\pypdf\\_page.py:2306\u001B[39m, in \u001B[36mPageObject.extract_text\u001B[39m\u001B[34m(self, orientations, space_width, visitor_operand_before, visitor_operand_after, visitor_text, extraction_mode, *args, **kwargs)\u001B[39m\n\u001B[32m   2303\u001B[39m \u001B[38;5;28;01mif\u001B[39;00m \u001B[38;5;28misinstance\u001B[39m(orientations, \u001B[38;5;28mint\u001B[39m):\n\u001B[32m   2304\u001B[39m     orientations = (orientations,)\n\u001B[32m-> \u001B[39m\u001B[32m2306\u001B[39m \u001B[38;5;28;01mreturn\u001B[39;00m \u001B[38;5;28;43mself\u001B[39;49m\u001B[43m.\u001B[49m\u001B[43m_extract_text\u001B[49m\u001B[43m(\u001B[49m\n\u001B[32m   2307\u001B[39m \u001B[43m    \u001B[49m\u001B[38;5;28;43mself\u001B[39;49m\u001B[43m,\u001B[49m\n\u001B[32m   2308\u001B[39m \u001B[43m    \u001B[49m\u001B[38;5;28;43mself\u001B[39;49m\u001B[43m.\u001B[49m\u001B[43mpdf\u001B[49m\u001B[43m,\u001B[49m\n\u001B[32m   2309\u001B[39m \u001B[43m    \u001B[49m\u001B[43morientations\u001B[49m\u001B[43m,\u001B[49m\n\u001B[32m   2310\u001B[39m \u001B[43m    \u001B[49m\u001B[43mspace_width\u001B[49m\u001B[43m,\u001B[49m\n\u001B[32m   2311\u001B[39m \u001B[43m    \u001B[49m\u001B[43mPG\u001B[49m\u001B[43m.\u001B[49m\u001B[43mCONTENTS\u001B[49m\u001B[43m,\u001B[49m\n\u001B[32m   2312\u001B[39m \u001B[43m    \u001B[49m\u001B[43mvisitor_operand_before\u001B[49m\u001B[43m,\u001B[49m\n\u001B[32m   2313\u001B[39m \u001B[43m    \u001B[49m\u001B[43mvisitor_operand_after\u001B[49m\u001B[43m,\u001B[49m\n\u001B[32m   2314\u001B[39m \u001B[43m    \u001B[49m\u001B[43mvisitor_text\u001B[49m\u001B[43m,\u001B[49m\n\u001B[32m   2315\u001B[39m \u001B[43m\u001B[49m\u001B[43m)\u001B[49m\n",
      "\u001B[36mFile \u001B[39m\u001B[32m~\\anaconda3\\envs\\ai_basic_env\\Lib\\site-packages\\pypdf\\_page.py:2001\u001B[39m, in \u001B[36mPageObject._extract_text\u001B[39m\u001B[34m(self, obj, pdf, orientations, space_width, content_key, visitor_operand_before, visitor_operand_after, visitor_text)\u001B[39m\n\u001B[32m   1998\u001B[39m         \u001B[38;5;28;01mexcept\u001B[39;00m OrientationNotFoundError:\n\u001B[32m   1999\u001B[39m             \u001B[38;5;28;01mreturn\u001B[39;00m\n\u001B[32m-> \u001B[39m\u001B[32m2001\u001B[39m \u001B[38;5;28;01mfor\u001B[39;00m operands, operator \u001B[38;5;129;01min\u001B[39;00m \u001B[43mcontent\u001B[49m\u001B[43m.\u001B[49m\u001B[43moperations\u001B[49m:\n\u001B[32m   2002\u001B[39m     \u001B[38;5;28;01mif\u001B[39;00m visitor_operand_before \u001B[38;5;129;01mis\u001B[39;00m \u001B[38;5;129;01mnot\u001B[39;00m \u001B[38;5;28;01mNone\u001B[39;00m:\n\u001B[32m   2003\u001B[39m         visitor_operand_before(operator, operands, cm_matrix, tm_matrix)\n",
      "\u001B[36mFile \u001B[39m\u001B[32m~\\anaconda3\\envs\\ai_basic_env\\Lib\\site-packages\\pypdf\\generic\\_data_structures.py:1422\u001B[39m, in \u001B[36mContentStream.operations\u001B[39m\u001B[34m(self)\u001B[39m\n\u001B[32m   1419\u001B[39m \u001B[38;5;129m@property\u001B[39m\n\u001B[32m   1420\u001B[39m \u001B[38;5;28;01mdef\u001B[39;00m\u001B[38;5;250m \u001B[39m\u001B[34moperations\u001B[39m(\u001B[38;5;28mself\u001B[39m) -> List[Tuple[Any, \u001B[38;5;28mbytes\u001B[39m]]:\n\u001B[32m   1421\u001B[39m     \u001B[38;5;28;01mif\u001B[39;00m \u001B[38;5;129;01mnot\u001B[39;00m \u001B[38;5;28mself\u001B[39m._operations \u001B[38;5;129;01mand\u001B[39;00m \u001B[38;5;28mself\u001B[39m._data:\n\u001B[32m-> \u001B[39m\u001B[32m1422\u001B[39m         \u001B[38;5;28;43mself\u001B[39;49m\u001B[43m.\u001B[49m\u001B[43m_parse_content_stream\u001B[49m\u001B[43m(\u001B[49m\u001B[43mBytesIO\u001B[49m\u001B[43m(\u001B[49m\u001B[38;5;28;43mself\u001B[39;49m\u001B[43m.\u001B[49m\u001B[43m_data\u001B[49m\u001B[43m)\u001B[49m\u001B[43m)\u001B[49m\n\u001B[32m   1423\u001B[39m         \u001B[38;5;28mself\u001B[39m._data = \u001B[33mb\u001B[39m\u001B[33m\"\u001B[39m\u001B[33m\"\u001B[39m\n\u001B[32m   1424\u001B[39m     \u001B[38;5;28;01mreturn\u001B[39;00m \u001B[38;5;28mself\u001B[39m._operations\n",
      "\u001B[36mFile \u001B[39m\u001B[32m~\\anaconda3\\envs\\ai_basic_env\\Lib\\site-packages\\pypdf\\generic\\_data_structures.py:1315\u001B[39m, in \u001B[36mContentStream._parse_content_stream\u001B[39m\u001B[34m(self, stream)\u001B[39m\n\u001B[32m   1313\u001B[39m         peek = stream.read(\u001B[32m1\u001B[39m)\n\u001B[32m   1314\u001B[39m \u001B[38;5;28;01melse\u001B[39;00m:\n\u001B[32m-> \u001B[39m\u001B[32m1315\u001B[39m     operands.append(\u001B[43mread_object\u001B[49m\u001B[43m(\u001B[49m\u001B[43mstream\u001B[49m\u001B[43m,\u001B[49m\u001B[43m \u001B[49m\u001B[38;5;28;43;01mNone\u001B[39;49;00m\u001B[43m,\u001B[49m\u001B[43m \u001B[49m\u001B[38;5;28;43mself\u001B[39;49m\u001B[43m.\u001B[49m\u001B[43mforced_encoding\u001B[49m\u001B[43m)\u001B[49m)\n",
      "\u001B[36mFile \u001B[39m\u001B[32m~\\anaconda3\\envs\\ai_basic_env\\Lib\\site-packages\\pypdf\\generic\\_data_structures.py:1483\u001B[39m, in \u001B[36mread_object\u001B[39m\u001B[34m(stream, pdf, forced_encoding)\u001B[39m\n\u001B[32m   1481\u001B[39m peek = stream.read(\u001B[32m20\u001B[39m)\n\u001B[32m   1482\u001B[39m stream.seek(-\u001B[38;5;28mlen\u001B[39m(peek), \u001B[32m1\u001B[39m)  \u001B[38;5;66;03m# reset to start\u001B[39;00m\n\u001B[32m-> \u001B[39m\u001B[32m1483\u001B[39m \u001B[38;5;28;01mif\u001B[39;00m \u001B[43mIndirectPattern\u001B[49m\u001B[43m.\u001B[49m\u001B[43mmatch\u001B[49m\u001B[43m(\u001B[49m\u001B[43mpeek\u001B[49m\u001B[43m)\u001B[49m \u001B[38;5;129;01mis\u001B[39;00m \u001B[38;5;129;01mnot\u001B[39;00m \u001B[38;5;28;01mNone\u001B[39;00m:\n\u001B[32m   1484\u001B[39m     \u001B[38;5;28;01massert\u001B[39;00m pdf \u001B[38;5;129;01mis\u001B[39;00m \u001B[38;5;129;01mnot\u001B[39;00m \u001B[38;5;28;01mNone\u001B[39;00m, \u001B[33m\"\u001B[39m\u001B[33mmypy\u001B[39m\u001B[33m\"\u001B[39m\n\u001B[32m   1485\u001B[39m     \u001B[38;5;28;01mreturn\u001B[39;00m IndirectObject.read_from_stream(stream, pdf)\n",
      "\u001B[31mKeyboardInterrupt\u001B[39m: "
     ]
    }
   ],
   "execution_count": 2
  },
  {
   "metadata": {},
   "cell_type": "markdown",
   "source": [
    "## Faiss 벡터 db에 저장\n",
    "- 속도 이슈로 gpu(runpod)에서 진행"
   ],
   "id": "20405c51b9e07986"
  },
  {
   "metadata": {
    "ExecuteTime": {
     "end_time": "2025-07-13T12:20:20.589057Z",
     "start_time": "2025-07-13T12:17:00.674596Z"
    }
   },
   "cell_type": "code",
   "source": [
    "from langchain.vectorstores import FAISS\n",
    "from langchain_huggingface import HuggingFaceEmbeddings\n",
    "\n",
    "embeddings = HuggingFaceEmbeddings(model_name=\"BAAI/bge-m3\")  # 다국어(한국어 포함) 지원하는 허깅페이스 임베딩 모델\n",
    "\n",
    "vector_db = FAISS.from_documents(\n",
    "    documents=all_docs,\n",
    "    embedding=embeddings\n",
    ")"
   ],
   "id": "b1c6d5f2f2ec42b",
   "outputs": [
    {
     "ename": "KeyboardInterrupt",
     "evalue": "",
     "output_type": "error",
     "traceback": [
      "\u001B[31m---------------------------------------------------------------------------\u001B[39m",
      "\u001B[31mKeyboardInterrupt\u001B[39m                         Traceback (most recent call last)",
      "\u001B[36mCell\u001B[39m\u001B[36m \u001B[39m\u001B[32mIn[3]\u001B[39m\u001B[32m, line 6\u001B[39m\n\u001B[32m      2\u001B[39m \u001B[38;5;28;01mfrom\u001B[39;00m\u001B[38;5;250m \u001B[39m\u001B[34;01mlangchain_huggingface\u001B[39;00m\u001B[38;5;250m \u001B[39m\u001B[38;5;28;01mimport\u001B[39;00m HuggingFaceEmbeddings\n\u001B[32m      4\u001B[39m embeddings = HuggingFaceEmbeddings(model_name=\u001B[33m\"\u001B[39m\u001B[33mBAAI/bge-m3\u001B[39m\u001B[33m\"\u001B[39m)  \u001B[38;5;66;03m# 다국어(한국어 포함) 지원하는 허깅페이스 임베딩 모델\u001B[39;00m\n\u001B[32m----> \u001B[39m\u001B[32m6\u001B[39m vector_db = \u001B[43mFAISS\u001B[49m\u001B[43m.\u001B[49m\u001B[43mfrom_documents\u001B[49m\u001B[43m(\u001B[49m\n\u001B[32m      7\u001B[39m \u001B[43m    \u001B[49m\u001B[43mdocuments\u001B[49m\u001B[43m=\u001B[49m\u001B[43mall_docs\u001B[49m\u001B[43m,\u001B[49m\n\u001B[32m      8\u001B[39m \u001B[43m    \u001B[49m\u001B[43membedding\u001B[49m\u001B[43m=\u001B[49m\u001B[43membeddings\u001B[49m\n\u001B[32m      9\u001B[39m \u001B[43m)\u001B[49m\n",
      "\u001B[36mFile \u001B[39m\u001B[32m~\\anaconda3\\envs\\ai_basic_env\\Lib\\site-packages\\langchain_core\\vectorstores\\base.py:848\u001B[39m, in \u001B[36mVectorStore.from_documents\u001B[39m\u001B[34m(cls, documents, embedding, **kwargs)\u001B[39m\n\u001B[32m    845\u001B[39m     \u001B[38;5;28;01mif\u001B[39;00m \u001B[38;5;28many\u001B[39m(ids):\n\u001B[32m    846\u001B[39m         kwargs[\u001B[33m\"\u001B[39m\u001B[33mids\u001B[39m\u001B[33m\"\u001B[39m] = ids\n\u001B[32m--> \u001B[39m\u001B[32m848\u001B[39m \u001B[38;5;28;01mreturn\u001B[39;00m \u001B[38;5;28;43mcls\u001B[39;49m\u001B[43m.\u001B[49m\u001B[43mfrom_texts\u001B[49m\u001B[43m(\u001B[49m\u001B[43mtexts\u001B[49m\u001B[43m,\u001B[49m\u001B[43m \u001B[49m\u001B[43membedding\u001B[49m\u001B[43m,\u001B[49m\u001B[43m \u001B[49m\u001B[43mmetadatas\u001B[49m\u001B[43m=\u001B[49m\u001B[43mmetadatas\u001B[49m\u001B[43m,\u001B[49m\u001B[43m \u001B[49m\u001B[43m*\u001B[49m\u001B[43m*\u001B[49m\u001B[43mkwargs\u001B[49m\u001B[43m)\u001B[49m\n",
      "\u001B[36mFile \u001B[39m\u001B[32m~\\anaconda3\\envs\\ai_basic_env\\Lib\\site-packages\\langchain_community\\vectorstores\\faiss.py:1043\u001B[39m, in \u001B[36mFAISS.from_texts\u001B[39m\u001B[34m(cls, texts, embedding, metadatas, ids, **kwargs)\u001B[39m\n\u001B[32m   1016\u001B[39m \u001B[38;5;129m@classmethod\u001B[39m\n\u001B[32m   1017\u001B[39m \u001B[38;5;28;01mdef\u001B[39;00m\u001B[38;5;250m \u001B[39m\u001B[34mfrom_texts\u001B[39m(\n\u001B[32m   1018\u001B[39m     \u001B[38;5;28mcls\u001B[39m,\n\u001B[32m   (...)\u001B[39m\u001B[32m   1023\u001B[39m     **kwargs: Any,\n\u001B[32m   1024\u001B[39m ) -> FAISS:\n\u001B[32m   1025\u001B[39m \u001B[38;5;250m    \u001B[39m\u001B[33;03m\"\"\"Construct FAISS wrapper from raw documents.\u001B[39;00m\n\u001B[32m   1026\u001B[39m \n\u001B[32m   1027\u001B[39m \u001B[33;03m    This is a user friendly interface that:\u001B[39;00m\n\u001B[32m   (...)\u001B[39m\u001B[32m   1041\u001B[39m \u001B[33;03m            faiss = FAISS.from_texts(texts, embeddings)\u001B[39;00m\n\u001B[32m   1042\u001B[39m \u001B[33;03m    \"\"\"\u001B[39;00m\n\u001B[32m-> \u001B[39m\u001B[32m1043\u001B[39m     embeddings = \u001B[43membedding\u001B[49m\u001B[43m.\u001B[49m\u001B[43membed_documents\u001B[49m\u001B[43m(\u001B[49m\u001B[43mtexts\u001B[49m\u001B[43m)\u001B[49m\n\u001B[32m   1044\u001B[39m     \u001B[38;5;28;01mreturn\u001B[39;00m \u001B[38;5;28mcls\u001B[39m.__from(\n\u001B[32m   1045\u001B[39m         texts,\n\u001B[32m   1046\u001B[39m         embeddings,\n\u001B[32m   (...)\u001B[39m\u001B[32m   1050\u001B[39m         **kwargs,\n\u001B[32m   1051\u001B[39m     )\n",
      "\u001B[36mFile \u001B[39m\u001B[32m~\\anaconda3\\envs\\ai_basic_env\\Lib\\site-packages\\langchain_huggingface\\embeddings\\huggingface.py:150\u001B[39m, in \u001B[36mHuggingFaceEmbeddings.embed_documents\u001B[39m\u001B[34m(self, texts)\u001B[39m\n\u001B[32m    141\u001B[39m \u001B[38;5;28;01mdef\u001B[39;00m\u001B[38;5;250m \u001B[39m\u001B[34membed_documents\u001B[39m(\u001B[38;5;28mself\u001B[39m, texts: \u001B[38;5;28mlist\u001B[39m[\u001B[38;5;28mstr\u001B[39m]) -> \u001B[38;5;28mlist\u001B[39m[\u001B[38;5;28mlist\u001B[39m[\u001B[38;5;28mfloat\u001B[39m]]:\n\u001B[32m    142\u001B[39m \u001B[38;5;250m    \u001B[39m\u001B[33;03m\"\"\"Compute doc embeddings using a HuggingFace transformer model.\u001B[39;00m\n\u001B[32m    143\u001B[39m \n\u001B[32m    144\u001B[39m \u001B[33;03m    Args:\u001B[39;00m\n\u001B[32m   (...)\u001B[39m\u001B[32m    148\u001B[39m \u001B[33;03m        List of embeddings, one for each text.\u001B[39;00m\n\u001B[32m    149\u001B[39m \u001B[33;03m    \"\"\"\u001B[39;00m\n\u001B[32m--> \u001B[39m\u001B[32m150\u001B[39m     \u001B[38;5;28;01mreturn\u001B[39;00m \u001B[38;5;28;43mself\u001B[39;49m\u001B[43m.\u001B[49m\u001B[43m_embed\u001B[49m\u001B[43m(\u001B[49m\u001B[43mtexts\u001B[49m\u001B[43m,\u001B[49m\u001B[43m \u001B[49m\u001B[38;5;28;43mself\u001B[39;49m\u001B[43m.\u001B[49m\u001B[43mencode_kwargs\u001B[49m\u001B[43m)\u001B[49m\n",
      "\u001B[36mFile \u001B[39m\u001B[32m~\\anaconda3\\envs\\ai_basic_env\\Lib\\site-packages\\langchain_huggingface\\embeddings\\huggingface.py:127\u001B[39m, in \u001B[36mHuggingFaceEmbeddings._embed\u001B[39m\u001B[34m(self, texts, encode_kwargs)\u001B[39m\n\u001B[32m    125\u001B[39m     sentence_transformers.SentenceTransformer.stop_multi_process_pool(pool)\n\u001B[32m    126\u001B[39m \u001B[38;5;28;01melse\u001B[39;00m:\n\u001B[32m--> \u001B[39m\u001B[32m127\u001B[39m     embeddings = \u001B[38;5;28;43mself\u001B[39;49m\u001B[43m.\u001B[49m\u001B[43m_client\u001B[49m\u001B[43m.\u001B[49m\u001B[43mencode\u001B[49m\u001B[43m(\u001B[49m\n\u001B[32m    128\u001B[39m \u001B[43m        \u001B[49m\u001B[43mtexts\u001B[49m\u001B[43m,\u001B[49m\n\u001B[32m    129\u001B[39m \u001B[43m        \u001B[49m\u001B[43mshow_progress_bar\u001B[49m\u001B[43m=\u001B[49m\u001B[38;5;28;43mself\u001B[39;49m\u001B[43m.\u001B[49m\u001B[43mshow_progress\u001B[49m\u001B[43m,\u001B[49m\n\u001B[32m    130\u001B[39m \u001B[43m        \u001B[49m\u001B[43m*\u001B[49m\u001B[43m*\u001B[49m\u001B[43mencode_kwargs\u001B[49m\u001B[43m,\u001B[49m\u001B[43m  \u001B[49m\u001B[38;5;66;43;03m# type: ignore\u001B[39;49;00m\n\u001B[32m    131\u001B[39m \u001B[43m    \u001B[49m\u001B[43m)\u001B[49m\n\u001B[32m    133\u001B[39m \u001B[38;5;28;01mif\u001B[39;00m \u001B[38;5;28misinstance\u001B[39m(embeddings, \u001B[38;5;28mlist\u001B[39m):\n\u001B[32m    134\u001B[39m     \u001B[38;5;28;01mraise\u001B[39;00m \u001B[38;5;167;01mTypeError\u001B[39;00m(\n\u001B[32m    135\u001B[39m         \u001B[33m\"\u001B[39m\u001B[33mExpected embeddings to be a Tensor or a numpy array, \u001B[39m\u001B[33m\"\u001B[39m\n\u001B[32m    136\u001B[39m         \u001B[33m\"\u001B[39m\u001B[33mgot a list instead.\u001B[39m\u001B[33m\"\u001B[39m\n\u001B[32m    137\u001B[39m     )\n",
      "\u001B[36mFile \u001B[39m\u001B[32m~\\anaconda3\\envs\\ai_basic_env\\Lib\\site-packages\\torch\\utils\\_contextlib.py:116\u001B[39m, in \u001B[36mcontext_decorator.<locals>.decorate_context\u001B[39m\u001B[34m(*args, **kwargs)\u001B[39m\n\u001B[32m    113\u001B[39m \u001B[38;5;129m@functools\u001B[39m.wraps(func)\n\u001B[32m    114\u001B[39m \u001B[38;5;28;01mdef\u001B[39;00m\u001B[38;5;250m \u001B[39m\u001B[34mdecorate_context\u001B[39m(*args, **kwargs):\n\u001B[32m    115\u001B[39m     \u001B[38;5;28;01mwith\u001B[39;00m ctx_factory():\n\u001B[32m--> \u001B[39m\u001B[32m116\u001B[39m         \u001B[38;5;28;01mreturn\u001B[39;00m \u001B[43mfunc\u001B[49m\u001B[43m(\u001B[49m\u001B[43m*\u001B[49m\u001B[43margs\u001B[49m\u001B[43m,\u001B[49m\u001B[43m \u001B[49m\u001B[43m*\u001B[49m\u001B[43m*\u001B[49m\u001B[43mkwargs\u001B[49m\u001B[43m)\u001B[49m\n",
      "\u001B[36mFile \u001B[39m\u001B[32m~\\anaconda3\\envs\\ai_basic_env\\Lib\\site-packages\\sentence_transformers\\SentenceTransformer.py:1052\u001B[39m, in \u001B[36mSentenceTransformer.encode\u001B[39m\u001B[34m(self, sentences, prompt_name, prompt, batch_size, show_progress_bar, output_value, precision, convert_to_numpy, convert_to_tensor, device, normalize_embeddings, truncate_dim, pool, chunk_size, **kwargs)\u001B[39m\n\u001B[32m   1049\u001B[39m features.update(extra_features)\n\u001B[32m   1051\u001B[39m \u001B[38;5;28;01mwith\u001B[39;00m torch.no_grad():\n\u001B[32m-> \u001B[39m\u001B[32m1052\u001B[39m     out_features = \u001B[38;5;28;43mself\u001B[39;49m\u001B[43m.\u001B[49m\u001B[43mforward\u001B[49m\u001B[43m(\u001B[49m\u001B[43mfeatures\u001B[49m\u001B[43m,\u001B[49m\u001B[43m \u001B[49m\u001B[43m*\u001B[49m\u001B[43m*\u001B[49m\u001B[43mkwargs\u001B[49m\u001B[43m)\u001B[49m\n\u001B[32m   1053\u001B[39m     \u001B[38;5;28;01mif\u001B[39;00m \u001B[38;5;28mself\u001B[39m.device.type == \u001B[33m\"\u001B[39m\u001B[33mhpu\u001B[39m\u001B[33m\"\u001B[39m:\n\u001B[32m   1054\u001B[39m         out_features = copy.deepcopy(out_features)\n",
      "\u001B[36mFile \u001B[39m\u001B[32m~\\anaconda3\\envs\\ai_basic_env\\Lib\\site-packages\\sentence_transformers\\SentenceTransformer.py:1133\u001B[39m, in \u001B[36mSentenceTransformer.forward\u001B[39m\u001B[34m(self, input, **kwargs)\u001B[39m\n\u001B[32m   1127\u001B[39m             module_kwarg_keys = \u001B[38;5;28mself\u001B[39m.module_kwargs.get(module_name, [])\n\u001B[32m   1128\u001B[39m         module_kwargs = {\n\u001B[32m   1129\u001B[39m             key: value\n\u001B[32m   1130\u001B[39m             \u001B[38;5;28;01mfor\u001B[39;00m key, value \u001B[38;5;129;01min\u001B[39;00m kwargs.items()\n\u001B[32m   1131\u001B[39m             \u001B[38;5;28;01mif\u001B[39;00m key \u001B[38;5;129;01min\u001B[39;00m module_kwarg_keys \u001B[38;5;129;01mor\u001B[39;00m (\u001B[38;5;28mhasattr\u001B[39m(module, \u001B[33m\"\u001B[39m\u001B[33mforward_kwargs\u001B[39m\u001B[33m\"\u001B[39m) \u001B[38;5;129;01mand\u001B[39;00m key \u001B[38;5;129;01min\u001B[39;00m module.forward_kwargs)\n\u001B[32m   1132\u001B[39m         }\n\u001B[32m-> \u001B[39m\u001B[32m1133\u001B[39m     \u001B[38;5;28minput\u001B[39m = \u001B[43mmodule\u001B[49m\u001B[43m(\u001B[49m\u001B[38;5;28;43minput\u001B[39;49m\u001B[43m,\u001B[49m\u001B[43m \u001B[49m\u001B[43m*\u001B[49m\u001B[43m*\u001B[49m\u001B[43mmodule_kwargs\u001B[49m\u001B[43m)\u001B[49m\n\u001B[32m   1134\u001B[39m \u001B[38;5;28;01mreturn\u001B[39;00m \u001B[38;5;28minput\u001B[39m\n",
      "\u001B[36mFile \u001B[39m\u001B[32m~\\anaconda3\\envs\\ai_basic_env\\Lib\\site-packages\\torch\\nn\\modules\\module.py:1751\u001B[39m, in \u001B[36mModule._wrapped_call_impl\u001B[39m\u001B[34m(self, *args, **kwargs)\u001B[39m\n\u001B[32m   1749\u001B[39m     \u001B[38;5;28;01mreturn\u001B[39;00m \u001B[38;5;28mself\u001B[39m._compiled_call_impl(*args, **kwargs)  \u001B[38;5;66;03m# type: ignore[misc]\u001B[39;00m\n\u001B[32m   1750\u001B[39m \u001B[38;5;28;01melse\u001B[39;00m:\n\u001B[32m-> \u001B[39m\u001B[32m1751\u001B[39m     \u001B[38;5;28;01mreturn\u001B[39;00m \u001B[38;5;28;43mself\u001B[39;49m\u001B[43m.\u001B[49m\u001B[43m_call_impl\u001B[49m\u001B[43m(\u001B[49m\u001B[43m*\u001B[49m\u001B[43margs\u001B[49m\u001B[43m,\u001B[49m\u001B[43m \u001B[49m\u001B[43m*\u001B[49m\u001B[43m*\u001B[49m\u001B[43mkwargs\u001B[49m\u001B[43m)\u001B[49m\n",
      "\u001B[36mFile \u001B[39m\u001B[32m~\\anaconda3\\envs\\ai_basic_env\\Lib\\site-packages\\torch\\nn\\modules\\module.py:1762\u001B[39m, in \u001B[36mModule._call_impl\u001B[39m\u001B[34m(self, *args, **kwargs)\u001B[39m\n\u001B[32m   1757\u001B[39m \u001B[38;5;66;03m# If we don't have any hooks, we want to skip the rest of the logic in\u001B[39;00m\n\u001B[32m   1758\u001B[39m \u001B[38;5;66;03m# this function, and just call forward.\u001B[39;00m\n\u001B[32m   1759\u001B[39m \u001B[38;5;28;01mif\u001B[39;00m \u001B[38;5;129;01mnot\u001B[39;00m (\u001B[38;5;28mself\u001B[39m._backward_hooks \u001B[38;5;129;01mor\u001B[39;00m \u001B[38;5;28mself\u001B[39m._backward_pre_hooks \u001B[38;5;129;01mor\u001B[39;00m \u001B[38;5;28mself\u001B[39m._forward_hooks \u001B[38;5;129;01mor\u001B[39;00m \u001B[38;5;28mself\u001B[39m._forward_pre_hooks\n\u001B[32m   1760\u001B[39m         \u001B[38;5;129;01mor\u001B[39;00m _global_backward_pre_hooks \u001B[38;5;129;01mor\u001B[39;00m _global_backward_hooks\n\u001B[32m   1761\u001B[39m         \u001B[38;5;129;01mor\u001B[39;00m _global_forward_hooks \u001B[38;5;129;01mor\u001B[39;00m _global_forward_pre_hooks):\n\u001B[32m-> \u001B[39m\u001B[32m1762\u001B[39m     \u001B[38;5;28;01mreturn\u001B[39;00m \u001B[43mforward_call\u001B[49m\u001B[43m(\u001B[49m\u001B[43m*\u001B[49m\u001B[43margs\u001B[49m\u001B[43m,\u001B[49m\u001B[43m \u001B[49m\u001B[43m*\u001B[49m\u001B[43m*\u001B[49m\u001B[43mkwargs\u001B[49m\u001B[43m)\u001B[49m\n\u001B[32m   1764\u001B[39m result = \u001B[38;5;28;01mNone\u001B[39;00m\n\u001B[32m   1765\u001B[39m called_always_called_hooks = \u001B[38;5;28mset\u001B[39m()\n",
      "\u001B[36mFile \u001B[39m\u001B[32m~\\anaconda3\\envs\\ai_basic_env\\Lib\\site-packages\\sentence_transformers\\models\\Transformer.py:437\u001B[39m, in \u001B[36mTransformer.forward\u001B[39m\u001B[34m(self, features, **kwargs)\u001B[39m\n\u001B[32m    430\u001B[39m \u001B[38;5;250m\u001B[39m\u001B[33;03m\"\"\"Returns token_embeddings, cls_token\"\"\"\u001B[39;00m\n\u001B[32m    431\u001B[39m trans_features = {\n\u001B[32m    432\u001B[39m     key: value\n\u001B[32m    433\u001B[39m     \u001B[38;5;28;01mfor\u001B[39;00m key, value \u001B[38;5;129;01min\u001B[39;00m features.items()\n\u001B[32m    434\u001B[39m     \u001B[38;5;28;01mif\u001B[39;00m key \u001B[38;5;129;01min\u001B[39;00m [\u001B[33m\"\u001B[39m\u001B[33minput_ids\u001B[39m\u001B[33m\"\u001B[39m, \u001B[33m\"\u001B[39m\u001B[33mattention_mask\u001B[39m\u001B[33m\"\u001B[39m, \u001B[33m\"\u001B[39m\u001B[33mtoken_type_ids\u001B[39m\u001B[33m\"\u001B[39m, \u001B[33m\"\u001B[39m\u001B[33minputs_embeds\u001B[39m\u001B[33m\"\u001B[39m]\n\u001B[32m    435\u001B[39m }\n\u001B[32m--> \u001B[39m\u001B[32m437\u001B[39m outputs = \u001B[38;5;28;43mself\u001B[39;49m\u001B[43m.\u001B[49m\u001B[43mauto_model\u001B[49m\u001B[43m(\u001B[49m\u001B[43m*\u001B[49m\u001B[43m*\u001B[49m\u001B[43mtrans_features\u001B[49m\u001B[43m,\u001B[49m\u001B[43m \u001B[49m\u001B[43m*\u001B[49m\u001B[43m*\u001B[49m\u001B[43mkwargs\u001B[49m\u001B[43m,\u001B[49m\u001B[43m \u001B[49m\u001B[43mreturn_dict\u001B[49m\u001B[43m=\u001B[49m\u001B[38;5;28;43;01mTrue\u001B[39;49;00m\u001B[43m)\u001B[49m\n\u001B[32m    438\u001B[39m token_embeddings = outputs[\u001B[32m0\u001B[39m]\n\u001B[32m    439\u001B[39m features[\u001B[33m\"\u001B[39m\u001B[33mtoken_embeddings\u001B[39m\u001B[33m\"\u001B[39m] = token_embeddings\n",
      "\u001B[36mFile \u001B[39m\u001B[32m~\\anaconda3\\envs\\ai_basic_env\\Lib\\site-packages\\torch\\nn\\modules\\module.py:1751\u001B[39m, in \u001B[36mModule._wrapped_call_impl\u001B[39m\u001B[34m(self, *args, **kwargs)\u001B[39m\n\u001B[32m   1749\u001B[39m     \u001B[38;5;28;01mreturn\u001B[39;00m \u001B[38;5;28mself\u001B[39m._compiled_call_impl(*args, **kwargs)  \u001B[38;5;66;03m# type: ignore[misc]\u001B[39;00m\n\u001B[32m   1750\u001B[39m \u001B[38;5;28;01melse\u001B[39;00m:\n\u001B[32m-> \u001B[39m\u001B[32m1751\u001B[39m     \u001B[38;5;28;01mreturn\u001B[39;00m \u001B[38;5;28;43mself\u001B[39;49m\u001B[43m.\u001B[49m\u001B[43m_call_impl\u001B[49m\u001B[43m(\u001B[49m\u001B[43m*\u001B[49m\u001B[43margs\u001B[49m\u001B[43m,\u001B[49m\u001B[43m \u001B[49m\u001B[43m*\u001B[49m\u001B[43m*\u001B[49m\u001B[43mkwargs\u001B[49m\u001B[43m)\u001B[49m\n",
      "\u001B[36mFile \u001B[39m\u001B[32m~\\anaconda3\\envs\\ai_basic_env\\Lib\\site-packages\\torch\\nn\\modules\\module.py:1762\u001B[39m, in \u001B[36mModule._call_impl\u001B[39m\u001B[34m(self, *args, **kwargs)\u001B[39m\n\u001B[32m   1757\u001B[39m \u001B[38;5;66;03m# If we don't have any hooks, we want to skip the rest of the logic in\u001B[39;00m\n\u001B[32m   1758\u001B[39m \u001B[38;5;66;03m# this function, and just call forward.\u001B[39;00m\n\u001B[32m   1759\u001B[39m \u001B[38;5;28;01mif\u001B[39;00m \u001B[38;5;129;01mnot\u001B[39;00m (\u001B[38;5;28mself\u001B[39m._backward_hooks \u001B[38;5;129;01mor\u001B[39;00m \u001B[38;5;28mself\u001B[39m._backward_pre_hooks \u001B[38;5;129;01mor\u001B[39;00m \u001B[38;5;28mself\u001B[39m._forward_hooks \u001B[38;5;129;01mor\u001B[39;00m \u001B[38;5;28mself\u001B[39m._forward_pre_hooks\n\u001B[32m   1760\u001B[39m         \u001B[38;5;129;01mor\u001B[39;00m _global_backward_pre_hooks \u001B[38;5;129;01mor\u001B[39;00m _global_backward_hooks\n\u001B[32m   1761\u001B[39m         \u001B[38;5;129;01mor\u001B[39;00m _global_forward_hooks \u001B[38;5;129;01mor\u001B[39;00m _global_forward_pre_hooks):\n\u001B[32m-> \u001B[39m\u001B[32m1762\u001B[39m     \u001B[38;5;28;01mreturn\u001B[39;00m \u001B[43mforward_call\u001B[49m\u001B[43m(\u001B[49m\u001B[43m*\u001B[49m\u001B[43margs\u001B[49m\u001B[43m,\u001B[49m\u001B[43m \u001B[49m\u001B[43m*\u001B[49m\u001B[43m*\u001B[49m\u001B[43mkwargs\u001B[49m\u001B[43m)\u001B[49m\n\u001B[32m   1764\u001B[39m result = \u001B[38;5;28;01mNone\u001B[39;00m\n\u001B[32m   1765\u001B[39m called_always_called_hooks = \u001B[38;5;28mset\u001B[39m()\n",
      "\u001B[36mFile \u001B[39m\u001B[32m~\\anaconda3\\envs\\ai_basic_env\\Lib\\site-packages\\transformers\\models\\xlm_roberta\\modeling_xlm_roberta.py:979\u001B[39m, in \u001B[36mXLMRobertaModel.forward\u001B[39m\u001B[34m(self, input_ids, attention_mask, token_type_ids, position_ids, head_mask, inputs_embeds, encoder_hidden_states, encoder_attention_mask, past_key_values, use_cache, output_attentions, output_hidden_states, return_dict)\u001B[39m\n\u001B[32m    972\u001B[39m \u001B[38;5;66;03m# Prepare head mask if needed\u001B[39;00m\n\u001B[32m    973\u001B[39m \u001B[38;5;66;03m# 1.0 in head_mask indicate we keep the head\u001B[39;00m\n\u001B[32m    974\u001B[39m \u001B[38;5;66;03m# attention_probs has shape bsz x n_heads x N x N\u001B[39;00m\n\u001B[32m    975\u001B[39m \u001B[38;5;66;03m# input head_mask has shape [num_heads] or [num_hidden_layers x num_heads]\u001B[39;00m\n\u001B[32m    976\u001B[39m \u001B[38;5;66;03m# and head_mask is converted to shape [num_hidden_layers x batch x num_heads x seq_length x seq_length]\u001B[39;00m\n\u001B[32m    977\u001B[39m head_mask = \u001B[38;5;28mself\u001B[39m.get_head_mask(head_mask, \u001B[38;5;28mself\u001B[39m.config.num_hidden_layers)\n\u001B[32m--> \u001B[39m\u001B[32m979\u001B[39m encoder_outputs = \u001B[38;5;28;43mself\u001B[39;49m\u001B[43m.\u001B[49m\u001B[43mencoder\u001B[49m\u001B[43m(\u001B[49m\n\u001B[32m    980\u001B[39m \u001B[43m    \u001B[49m\u001B[43membedding_output\u001B[49m\u001B[43m,\u001B[49m\n\u001B[32m    981\u001B[39m \u001B[43m    \u001B[49m\u001B[43mattention_mask\u001B[49m\u001B[43m=\u001B[49m\u001B[43mextended_attention_mask\u001B[49m\u001B[43m,\u001B[49m\n\u001B[32m    982\u001B[39m \u001B[43m    \u001B[49m\u001B[43mhead_mask\u001B[49m\u001B[43m=\u001B[49m\u001B[43mhead_mask\u001B[49m\u001B[43m,\u001B[49m\n\u001B[32m    983\u001B[39m \u001B[43m    \u001B[49m\u001B[43mencoder_hidden_states\u001B[49m\u001B[43m=\u001B[49m\u001B[43mencoder_hidden_states\u001B[49m\u001B[43m,\u001B[49m\n\u001B[32m    984\u001B[39m \u001B[43m    \u001B[49m\u001B[43mencoder_attention_mask\u001B[49m\u001B[43m=\u001B[49m\u001B[43mencoder_extended_attention_mask\u001B[49m\u001B[43m,\u001B[49m\n\u001B[32m    985\u001B[39m \u001B[43m    \u001B[49m\u001B[43mpast_key_values\u001B[49m\u001B[43m=\u001B[49m\u001B[43mpast_key_values\u001B[49m\u001B[43m,\u001B[49m\n\u001B[32m    986\u001B[39m \u001B[43m    \u001B[49m\u001B[43muse_cache\u001B[49m\u001B[43m=\u001B[49m\u001B[43muse_cache\u001B[49m\u001B[43m,\u001B[49m\n\u001B[32m    987\u001B[39m \u001B[43m    \u001B[49m\u001B[43moutput_attentions\u001B[49m\u001B[43m=\u001B[49m\u001B[43moutput_attentions\u001B[49m\u001B[43m,\u001B[49m\n\u001B[32m    988\u001B[39m \u001B[43m    \u001B[49m\u001B[43moutput_hidden_states\u001B[49m\u001B[43m=\u001B[49m\u001B[43moutput_hidden_states\u001B[49m\u001B[43m,\u001B[49m\n\u001B[32m    989\u001B[39m \u001B[43m    \u001B[49m\u001B[43mreturn_dict\u001B[49m\u001B[43m=\u001B[49m\u001B[43mreturn_dict\u001B[49m\u001B[43m,\u001B[49m\n\u001B[32m    990\u001B[39m \u001B[43m\u001B[49m\u001B[43m)\u001B[49m\n\u001B[32m    991\u001B[39m sequence_output = encoder_outputs[\u001B[32m0\u001B[39m]\n\u001B[32m    992\u001B[39m pooled_output = \u001B[38;5;28mself\u001B[39m.pooler(sequence_output) \u001B[38;5;28;01mif\u001B[39;00m \u001B[38;5;28mself\u001B[39m.pooler \u001B[38;5;129;01mis\u001B[39;00m \u001B[38;5;129;01mnot\u001B[39;00m \u001B[38;5;28;01mNone\u001B[39;00m \u001B[38;5;28;01melse\u001B[39;00m \u001B[38;5;28;01mNone\u001B[39;00m\n",
      "\u001B[36mFile \u001B[39m\u001B[32m~\\anaconda3\\envs\\ai_basic_env\\Lib\\site-packages\\torch\\nn\\modules\\module.py:1751\u001B[39m, in \u001B[36mModule._wrapped_call_impl\u001B[39m\u001B[34m(self, *args, **kwargs)\u001B[39m\n\u001B[32m   1749\u001B[39m     \u001B[38;5;28;01mreturn\u001B[39;00m \u001B[38;5;28mself\u001B[39m._compiled_call_impl(*args, **kwargs)  \u001B[38;5;66;03m# type: ignore[misc]\u001B[39;00m\n\u001B[32m   1750\u001B[39m \u001B[38;5;28;01melse\u001B[39;00m:\n\u001B[32m-> \u001B[39m\u001B[32m1751\u001B[39m     \u001B[38;5;28;01mreturn\u001B[39;00m \u001B[38;5;28;43mself\u001B[39;49m\u001B[43m.\u001B[49m\u001B[43m_call_impl\u001B[49m\u001B[43m(\u001B[49m\u001B[43m*\u001B[49m\u001B[43margs\u001B[49m\u001B[43m,\u001B[49m\u001B[43m \u001B[49m\u001B[43m*\u001B[49m\u001B[43m*\u001B[49m\u001B[43mkwargs\u001B[49m\u001B[43m)\u001B[49m\n",
      "\u001B[36mFile \u001B[39m\u001B[32m~\\anaconda3\\envs\\ai_basic_env\\Lib\\site-packages\\torch\\nn\\modules\\module.py:1762\u001B[39m, in \u001B[36mModule._call_impl\u001B[39m\u001B[34m(self, *args, **kwargs)\u001B[39m\n\u001B[32m   1757\u001B[39m \u001B[38;5;66;03m# If we don't have any hooks, we want to skip the rest of the logic in\u001B[39;00m\n\u001B[32m   1758\u001B[39m \u001B[38;5;66;03m# this function, and just call forward.\u001B[39;00m\n\u001B[32m   1759\u001B[39m \u001B[38;5;28;01mif\u001B[39;00m \u001B[38;5;129;01mnot\u001B[39;00m (\u001B[38;5;28mself\u001B[39m._backward_hooks \u001B[38;5;129;01mor\u001B[39;00m \u001B[38;5;28mself\u001B[39m._backward_pre_hooks \u001B[38;5;129;01mor\u001B[39;00m \u001B[38;5;28mself\u001B[39m._forward_hooks \u001B[38;5;129;01mor\u001B[39;00m \u001B[38;5;28mself\u001B[39m._forward_pre_hooks\n\u001B[32m   1760\u001B[39m         \u001B[38;5;129;01mor\u001B[39;00m _global_backward_pre_hooks \u001B[38;5;129;01mor\u001B[39;00m _global_backward_hooks\n\u001B[32m   1761\u001B[39m         \u001B[38;5;129;01mor\u001B[39;00m _global_forward_hooks \u001B[38;5;129;01mor\u001B[39;00m _global_forward_pre_hooks):\n\u001B[32m-> \u001B[39m\u001B[32m1762\u001B[39m     \u001B[38;5;28;01mreturn\u001B[39;00m \u001B[43mforward_call\u001B[49m\u001B[43m(\u001B[49m\u001B[43m*\u001B[49m\u001B[43margs\u001B[49m\u001B[43m,\u001B[49m\u001B[43m \u001B[49m\u001B[43m*\u001B[49m\u001B[43m*\u001B[49m\u001B[43mkwargs\u001B[49m\u001B[43m)\u001B[49m\n\u001B[32m   1764\u001B[39m result = \u001B[38;5;28;01mNone\u001B[39;00m\n\u001B[32m   1765\u001B[39m called_always_called_hooks = \u001B[38;5;28mset\u001B[39m()\n",
      "\u001B[36mFile \u001B[39m\u001B[32m~\\anaconda3\\envs\\ai_basic_env\\Lib\\site-packages\\transformers\\models\\xlm_roberta\\modeling_xlm_roberta.py:632\u001B[39m, in \u001B[36mXLMRobertaEncoder.forward\u001B[39m\u001B[34m(self, hidden_states, attention_mask, head_mask, encoder_hidden_states, encoder_attention_mask, past_key_values, use_cache, output_attentions, output_hidden_states, return_dict)\u001B[39m\n\u001B[32m    621\u001B[39m     layer_outputs = \u001B[38;5;28mself\u001B[39m._gradient_checkpointing_func(\n\u001B[32m    622\u001B[39m         layer_module.\u001B[34m__call__\u001B[39m,\n\u001B[32m    623\u001B[39m         hidden_states,\n\u001B[32m   (...)\u001B[39m\u001B[32m    629\u001B[39m         output_attentions,\n\u001B[32m    630\u001B[39m     )\n\u001B[32m    631\u001B[39m \u001B[38;5;28;01melse\u001B[39;00m:\n\u001B[32m--> \u001B[39m\u001B[32m632\u001B[39m     layer_outputs = \u001B[43mlayer_module\u001B[49m\u001B[43m(\u001B[49m\n\u001B[32m    633\u001B[39m \u001B[43m        \u001B[49m\u001B[43mhidden_states\u001B[49m\u001B[43m,\u001B[49m\n\u001B[32m    634\u001B[39m \u001B[43m        \u001B[49m\u001B[43mattention_mask\u001B[49m\u001B[43m,\u001B[49m\n\u001B[32m    635\u001B[39m \u001B[43m        \u001B[49m\u001B[43mlayer_head_mask\u001B[49m\u001B[43m,\u001B[49m\n\u001B[32m    636\u001B[39m \u001B[43m        \u001B[49m\u001B[43mencoder_hidden_states\u001B[49m\u001B[43m,\u001B[49m\n\u001B[32m    637\u001B[39m \u001B[43m        \u001B[49m\u001B[43mencoder_attention_mask\u001B[49m\u001B[43m,\u001B[49m\n\u001B[32m    638\u001B[39m \u001B[43m        \u001B[49m\u001B[43mpast_key_value\u001B[49m\u001B[43m,\u001B[49m\n\u001B[32m    639\u001B[39m \u001B[43m        \u001B[49m\u001B[43moutput_attentions\u001B[49m\u001B[43m,\u001B[49m\n\u001B[32m    640\u001B[39m \u001B[43m    \u001B[49m\u001B[43m)\u001B[49m\n\u001B[32m    642\u001B[39m hidden_states = layer_outputs[\u001B[32m0\u001B[39m]\n\u001B[32m    643\u001B[39m \u001B[38;5;28;01mif\u001B[39;00m use_cache:\n",
      "\u001B[36mFile \u001B[39m\u001B[32m~\\anaconda3\\envs\\ai_basic_env\\Lib\\site-packages\\torch\\nn\\modules\\module.py:1751\u001B[39m, in \u001B[36mModule._wrapped_call_impl\u001B[39m\u001B[34m(self, *args, **kwargs)\u001B[39m\n\u001B[32m   1749\u001B[39m     \u001B[38;5;28;01mreturn\u001B[39;00m \u001B[38;5;28mself\u001B[39m._compiled_call_impl(*args, **kwargs)  \u001B[38;5;66;03m# type: ignore[misc]\u001B[39;00m\n\u001B[32m   1750\u001B[39m \u001B[38;5;28;01melse\u001B[39;00m:\n\u001B[32m-> \u001B[39m\u001B[32m1751\u001B[39m     \u001B[38;5;28;01mreturn\u001B[39;00m \u001B[38;5;28;43mself\u001B[39;49m\u001B[43m.\u001B[49m\u001B[43m_call_impl\u001B[49m\u001B[43m(\u001B[49m\u001B[43m*\u001B[49m\u001B[43margs\u001B[49m\u001B[43m,\u001B[49m\u001B[43m \u001B[49m\u001B[43m*\u001B[49m\u001B[43m*\u001B[49m\u001B[43mkwargs\u001B[49m\u001B[43m)\u001B[49m\n",
      "\u001B[36mFile \u001B[39m\u001B[32m~\\anaconda3\\envs\\ai_basic_env\\Lib\\site-packages\\torch\\nn\\modules\\module.py:1762\u001B[39m, in \u001B[36mModule._call_impl\u001B[39m\u001B[34m(self, *args, **kwargs)\u001B[39m\n\u001B[32m   1757\u001B[39m \u001B[38;5;66;03m# If we don't have any hooks, we want to skip the rest of the logic in\u001B[39;00m\n\u001B[32m   1758\u001B[39m \u001B[38;5;66;03m# this function, and just call forward.\u001B[39;00m\n\u001B[32m   1759\u001B[39m \u001B[38;5;28;01mif\u001B[39;00m \u001B[38;5;129;01mnot\u001B[39;00m (\u001B[38;5;28mself\u001B[39m._backward_hooks \u001B[38;5;129;01mor\u001B[39;00m \u001B[38;5;28mself\u001B[39m._backward_pre_hooks \u001B[38;5;129;01mor\u001B[39;00m \u001B[38;5;28mself\u001B[39m._forward_hooks \u001B[38;5;129;01mor\u001B[39;00m \u001B[38;5;28mself\u001B[39m._forward_pre_hooks\n\u001B[32m   1760\u001B[39m         \u001B[38;5;129;01mor\u001B[39;00m _global_backward_pre_hooks \u001B[38;5;129;01mor\u001B[39;00m _global_backward_hooks\n\u001B[32m   1761\u001B[39m         \u001B[38;5;129;01mor\u001B[39;00m _global_forward_hooks \u001B[38;5;129;01mor\u001B[39;00m _global_forward_pre_hooks):\n\u001B[32m-> \u001B[39m\u001B[32m1762\u001B[39m     \u001B[38;5;28;01mreturn\u001B[39;00m \u001B[43mforward_call\u001B[49m\u001B[43m(\u001B[49m\u001B[43m*\u001B[49m\u001B[43margs\u001B[49m\u001B[43m,\u001B[49m\u001B[43m \u001B[49m\u001B[43m*\u001B[49m\u001B[43m*\u001B[49m\u001B[43mkwargs\u001B[49m\u001B[43m)\u001B[49m\n\u001B[32m   1764\u001B[39m result = \u001B[38;5;28;01mNone\u001B[39;00m\n\u001B[32m   1765\u001B[39m called_always_called_hooks = \u001B[38;5;28mset\u001B[39m()\n",
      "\u001B[36mFile \u001B[39m\u001B[32m~\\anaconda3\\envs\\ai_basic_env\\Lib\\site-packages\\transformers\\models\\xlm_roberta\\modeling_xlm_roberta.py:521\u001B[39m, in \u001B[36mXLMRobertaLayer.forward\u001B[39m\u001B[34m(self, hidden_states, attention_mask, head_mask, encoder_hidden_states, encoder_attention_mask, past_key_value, output_attentions)\u001B[39m\n\u001B[32m    509\u001B[39m \u001B[38;5;28;01mdef\u001B[39;00m\u001B[38;5;250m \u001B[39m\u001B[34mforward\u001B[39m(\n\u001B[32m    510\u001B[39m     \u001B[38;5;28mself\u001B[39m,\n\u001B[32m    511\u001B[39m     hidden_states: torch.Tensor,\n\u001B[32m   (...)\u001B[39m\u001B[32m    518\u001B[39m ) -> Tuple[torch.Tensor]:\n\u001B[32m    519\u001B[39m     \u001B[38;5;66;03m# decoder uni-directional self-attention cached key/values tuple is at positions 1,2\u001B[39;00m\n\u001B[32m    520\u001B[39m     self_attn_past_key_value = past_key_value[:\u001B[32m2\u001B[39m] \u001B[38;5;28;01mif\u001B[39;00m past_key_value \u001B[38;5;129;01mis\u001B[39;00m \u001B[38;5;129;01mnot\u001B[39;00m \u001B[38;5;28;01mNone\u001B[39;00m \u001B[38;5;28;01melse\u001B[39;00m \u001B[38;5;28;01mNone\u001B[39;00m\n\u001B[32m--> \u001B[39m\u001B[32m521\u001B[39m     self_attention_outputs = \u001B[38;5;28;43mself\u001B[39;49m\u001B[43m.\u001B[49m\u001B[43mattention\u001B[49m\u001B[43m(\u001B[49m\n\u001B[32m    522\u001B[39m \u001B[43m        \u001B[49m\u001B[43mhidden_states\u001B[49m\u001B[43m,\u001B[49m\n\u001B[32m    523\u001B[39m \u001B[43m        \u001B[49m\u001B[43mattention_mask\u001B[49m\u001B[43m,\u001B[49m\n\u001B[32m    524\u001B[39m \u001B[43m        \u001B[49m\u001B[43mhead_mask\u001B[49m\u001B[43m,\u001B[49m\n\u001B[32m    525\u001B[39m \u001B[43m        \u001B[49m\u001B[43moutput_attentions\u001B[49m\u001B[43m=\u001B[49m\u001B[43moutput_attentions\u001B[49m\u001B[43m,\u001B[49m\n\u001B[32m    526\u001B[39m \u001B[43m        \u001B[49m\u001B[43mpast_key_value\u001B[49m\u001B[43m=\u001B[49m\u001B[43mself_attn_past_key_value\u001B[49m\u001B[43m,\u001B[49m\n\u001B[32m    527\u001B[39m \u001B[43m    \u001B[49m\u001B[43m)\u001B[49m\n\u001B[32m    528\u001B[39m     attention_output = self_attention_outputs[\u001B[32m0\u001B[39m]\n\u001B[32m    530\u001B[39m     \u001B[38;5;66;03m# if decoder, the last output is tuple of self-attn cache\u001B[39;00m\n",
      "\u001B[36mFile \u001B[39m\u001B[32m~\\anaconda3\\envs\\ai_basic_env\\Lib\\site-packages\\torch\\nn\\modules\\module.py:1751\u001B[39m, in \u001B[36mModule._wrapped_call_impl\u001B[39m\u001B[34m(self, *args, **kwargs)\u001B[39m\n\u001B[32m   1749\u001B[39m     \u001B[38;5;28;01mreturn\u001B[39;00m \u001B[38;5;28mself\u001B[39m._compiled_call_impl(*args, **kwargs)  \u001B[38;5;66;03m# type: ignore[misc]\u001B[39;00m\n\u001B[32m   1750\u001B[39m \u001B[38;5;28;01melse\u001B[39;00m:\n\u001B[32m-> \u001B[39m\u001B[32m1751\u001B[39m     \u001B[38;5;28;01mreturn\u001B[39;00m \u001B[38;5;28;43mself\u001B[39;49m\u001B[43m.\u001B[49m\u001B[43m_call_impl\u001B[49m\u001B[43m(\u001B[49m\u001B[43m*\u001B[49m\u001B[43margs\u001B[49m\u001B[43m,\u001B[49m\u001B[43m \u001B[49m\u001B[43m*\u001B[49m\u001B[43m*\u001B[49m\u001B[43mkwargs\u001B[49m\u001B[43m)\u001B[49m\n",
      "\u001B[36mFile \u001B[39m\u001B[32m~\\anaconda3\\envs\\ai_basic_env\\Lib\\site-packages\\torch\\nn\\modules\\module.py:1762\u001B[39m, in \u001B[36mModule._call_impl\u001B[39m\u001B[34m(self, *args, **kwargs)\u001B[39m\n\u001B[32m   1757\u001B[39m \u001B[38;5;66;03m# If we don't have any hooks, we want to skip the rest of the logic in\u001B[39;00m\n\u001B[32m   1758\u001B[39m \u001B[38;5;66;03m# this function, and just call forward.\u001B[39;00m\n\u001B[32m   1759\u001B[39m \u001B[38;5;28;01mif\u001B[39;00m \u001B[38;5;129;01mnot\u001B[39;00m (\u001B[38;5;28mself\u001B[39m._backward_hooks \u001B[38;5;129;01mor\u001B[39;00m \u001B[38;5;28mself\u001B[39m._backward_pre_hooks \u001B[38;5;129;01mor\u001B[39;00m \u001B[38;5;28mself\u001B[39m._forward_hooks \u001B[38;5;129;01mor\u001B[39;00m \u001B[38;5;28mself\u001B[39m._forward_pre_hooks\n\u001B[32m   1760\u001B[39m         \u001B[38;5;129;01mor\u001B[39;00m _global_backward_pre_hooks \u001B[38;5;129;01mor\u001B[39;00m _global_backward_hooks\n\u001B[32m   1761\u001B[39m         \u001B[38;5;129;01mor\u001B[39;00m _global_forward_hooks \u001B[38;5;129;01mor\u001B[39;00m _global_forward_pre_hooks):\n\u001B[32m-> \u001B[39m\u001B[32m1762\u001B[39m     \u001B[38;5;28;01mreturn\u001B[39;00m \u001B[43mforward_call\u001B[49m\u001B[43m(\u001B[49m\u001B[43m*\u001B[49m\u001B[43margs\u001B[49m\u001B[43m,\u001B[49m\u001B[43m \u001B[49m\u001B[43m*\u001B[49m\u001B[43m*\u001B[49m\u001B[43mkwargs\u001B[49m\u001B[43m)\u001B[49m\n\u001B[32m   1764\u001B[39m result = \u001B[38;5;28;01mNone\u001B[39;00m\n\u001B[32m   1765\u001B[39m called_always_called_hooks = \u001B[38;5;28mset\u001B[39m()\n",
      "\u001B[36mFile \u001B[39m\u001B[32m~\\anaconda3\\envs\\ai_basic_env\\Lib\\site-packages\\transformers\\models\\xlm_roberta\\modeling_xlm_roberta.py:457\u001B[39m, in \u001B[36mXLMRobertaAttention.forward\u001B[39m\u001B[34m(self, hidden_states, attention_mask, head_mask, encoder_hidden_states, encoder_attention_mask, past_key_value, output_attentions)\u001B[39m\n\u001B[32m    438\u001B[39m \u001B[38;5;28;01mdef\u001B[39;00m\u001B[38;5;250m \u001B[39m\u001B[34mforward\u001B[39m(\n\u001B[32m    439\u001B[39m     \u001B[38;5;28mself\u001B[39m,\n\u001B[32m    440\u001B[39m     hidden_states: torch.Tensor,\n\u001B[32m   (...)\u001B[39m\u001B[32m    446\u001B[39m     output_attentions: Optional[\u001B[38;5;28mbool\u001B[39m] = \u001B[38;5;28;01mFalse\u001B[39;00m,\n\u001B[32m    447\u001B[39m ) -> Tuple[torch.Tensor]:\n\u001B[32m    448\u001B[39m     self_outputs = \u001B[38;5;28mself\u001B[39m.self(\n\u001B[32m    449\u001B[39m         hidden_states,\n\u001B[32m    450\u001B[39m         attention_mask,\n\u001B[32m   (...)\u001B[39m\u001B[32m    455\u001B[39m         output_attentions,\n\u001B[32m    456\u001B[39m     )\n\u001B[32m--> \u001B[39m\u001B[32m457\u001B[39m     attention_output = \u001B[38;5;28;43mself\u001B[39;49m\u001B[43m.\u001B[49m\u001B[43moutput\u001B[49m\u001B[43m(\u001B[49m\u001B[43mself_outputs\u001B[49m\u001B[43m[\u001B[49m\u001B[32;43m0\u001B[39;49m\u001B[43m]\u001B[49m\u001B[43m,\u001B[49m\u001B[43m \u001B[49m\u001B[43mhidden_states\u001B[49m\u001B[43m)\u001B[49m\n\u001B[32m    458\u001B[39m     outputs = (attention_output,) + self_outputs[\u001B[32m1\u001B[39m:]  \u001B[38;5;66;03m# add attentions if we output them\u001B[39;00m\n\u001B[32m    459\u001B[39m     \u001B[38;5;28;01mreturn\u001B[39;00m outputs\n",
      "\u001B[36mFile \u001B[39m\u001B[32m~\\anaconda3\\envs\\ai_basic_env\\Lib\\site-packages\\torch\\nn\\modules\\module.py:1751\u001B[39m, in \u001B[36mModule._wrapped_call_impl\u001B[39m\u001B[34m(self, *args, **kwargs)\u001B[39m\n\u001B[32m   1749\u001B[39m     \u001B[38;5;28;01mreturn\u001B[39;00m \u001B[38;5;28mself\u001B[39m._compiled_call_impl(*args, **kwargs)  \u001B[38;5;66;03m# type: ignore[misc]\u001B[39;00m\n\u001B[32m   1750\u001B[39m \u001B[38;5;28;01melse\u001B[39;00m:\n\u001B[32m-> \u001B[39m\u001B[32m1751\u001B[39m     \u001B[38;5;28;01mreturn\u001B[39;00m \u001B[38;5;28;43mself\u001B[39;49m\u001B[43m.\u001B[49m\u001B[43m_call_impl\u001B[49m\u001B[43m(\u001B[49m\u001B[43m*\u001B[49m\u001B[43margs\u001B[49m\u001B[43m,\u001B[49m\u001B[43m \u001B[49m\u001B[43m*\u001B[49m\u001B[43m*\u001B[49m\u001B[43mkwargs\u001B[49m\u001B[43m)\u001B[49m\n",
      "\u001B[36mFile \u001B[39m\u001B[32m~\\anaconda3\\envs\\ai_basic_env\\Lib\\site-packages\\torch\\nn\\modules\\module.py:1762\u001B[39m, in \u001B[36mModule._call_impl\u001B[39m\u001B[34m(self, *args, **kwargs)\u001B[39m\n\u001B[32m   1757\u001B[39m \u001B[38;5;66;03m# If we don't have any hooks, we want to skip the rest of the logic in\u001B[39;00m\n\u001B[32m   1758\u001B[39m \u001B[38;5;66;03m# this function, and just call forward.\u001B[39;00m\n\u001B[32m   1759\u001B[39m \u001B[38;5;28;01mif\u001B[39;00m \u001B[38;5;129;01mnot\u001B[39;00m (\u001B[38;5;28mself\u001B[39m._backward_hooks \u001B[38;5;129;01mor\u001B[39;00m \u001B[38;5;28mself\u001B[39m._backward_pre_hooks \u001B[38;5;129;01mor\u001B[39;00m \u001B[38;5;28mself\u001B[39m._forward_hooks \u001B[38;5;129;01mor\u001B[39;00m \u001B[38;5;28mself\u001B[39m._forward_pre_hooks\n\u001B[32m   1760\u001B[39m         \u001B[38;5;129;01mor\u001B[39;00m _global_backward_pre_hooks \u001B[38;5;129;01mor\u001B[39;00m _global_backward_hooks\n\u001B[32m   1761\u001B[39m         \u001B[38;5;129;01mor\u001B[39;00m _global_forward_hooks \u001B[38;5;129;01mor\u001B[39;00m _global_forward_pre_hooks):\n\u001B[32m-> \u001B[39m\u001B[32m1762\u001B[39m     \u001B[38;5;28;01mreturn\u001B[39;00m \u001B[43mforward_call\u001B[49m\u001B[43m(\u001B[49m\u001B[43m*\u001B[49m\u001B[43margs\u001B[49m\u001B[43m,\u001B[49m\u001B[43m \u001B[49m\u001B[43m*\u001B[49m\u001B[43m*\u001B[49m\u001B[43mkwargs\u001B[49m\u001B[43m)\u001B[49m\n\u001B[32m   1764\u001B[39m result = \u001B[38;5;28;01mNone\u001B[39;00m\n\u001B[32m   1765\u001B[39m called_always_called_hooks = \u001B[38;5;28mset\u001B[39m()\n",
      "\u001B[36mFile \u001B[39m\u001B[32m~\\anaconda3\\envs\\ai_basic_env\\Lib\\site-packages\\transformers\\models\\xlm_roberta\\modeling_xlm_roberta.py:398\u001B[39m, in \u001B[36mXLMRobertaSelfOutput.forward\u001B[39m\u001B[34m(self, hidden_states, input_tensor)\u001B[39m\n\u001B[32m    397\u001B[39m \u001B[38;5;28;01mdef\u001B[39;00m\u001B[38;5;250m \u001B[39m\u001B[34mforward\u001B[39m(\u001B[38;5;28mself\u001B[39m, hidden_states: torch.Tensor, input_tensor: torch.Tensor) -> torch.Tensor:\n\u001B[32m--> \u001B[39m\u001B[32m398\u001B[39m     hidden_states = \u001B[38;5;28;43mself\u001B[39;49m\u001B[43m.\u001B[49m\u001B[43mdense\u001B[49m\u001B[43m(\u001B[49m\u001B[43mhidden_states\u001B[49m\u001B[43m)\u001B[49m\n\u001B[32m    399\u001B[39m     hidden_states = \u001B[38;5;28mself\u001B[39m.dropout(hidden_states)\n\u001B[32m    400\u001B[39m     hidden_states = \u001B[38;5;28mself\u001B[39m.LayerNorm(hidden_states + input_tensor)\n",
      "\u001B[36mFile \u001B[39m\u001B[32m~\\anaconda3\\envs\\ai_basic_env\\Lib\\site-packages\\torch\\nn\\modules\\module.py:1751\u001B[39m, in \u001B[36mModule._wrapped_call_impl\u001B[39m\u001B[34m(self, *args, **kwargs)\u001B[39m\n\u001B[32m   1749\u001B[39m     \u001B[38;5;28;01mreturn\u001B[39;00m \u001B[38;5;28mself\u001B[39m._compiled_call_impl(*args, **kwargs)  \u001B[38;5;66;03m# type: ignore[misc]\u001B[39;00m\n\u001B[32m   1750\u001B[39m \u001B[38;5;28;01melse\u001B[39;00m:\n\u001B[32m-> \u001B[39m\u001B[32m1751\u001B[39m     \u001B[38;5;28;01mreturn\u001B[39;00m \u001B[38;5;28;43mself\u001B[39;49m\u001B[43m.\u001B[49m\u001B[43m_call_impl\u001B[49m\u001B[43m(\u001B[49m\u001B[43m*\u001B[49m\u001B[43margs\u001B[49m\u001B[43m,\u001B[49m\u001B[43m \u001B[49m\u001B[43m*\u001B[49m\u001B[43m*\u001B[49m\u001B[43mkwargs\u001B[49m\u001B[43m)\u001B[49m\n",
      "\u001B[36mFile \u001B[39m\u001B[32m~\\anaconda3\\envs\\ai_basic_env\\Lib\\site-packages\\torch\\nn\\modules\\module.py:1762\u001B[39m, in \u001B[36mModule._call_impl\u001B[39m\u001B[34m(self, *args, **kwargs)\u001B[39m\n\u001B[32m   1757\u001B[39m \u001B[38;5;66;03m# If we don't have any hooks, we want to skip the rest of the logic in\u001B[39;00m\n\u001B[32m   1758\u001B[39m \u001B[38;5;66;03m# this function, and just call forward.\u001B[39;00m\n\u001B[32m   1759\u001B[39m \u001B[38;5;28;01mif\u001B[39;00m \u001B[38;5;129;01mnot\u001B[39;00m (\u001B[38;5;28mself\u001B[39m._backward_hooks \u001B[38;5;129;01mor\u001B[39;00m \u001B[38;5;28mself\u001B[39m._backward_pre_hooks \u001B[38;5;129;01mor\u001B[39;00m \u001B[38;5;28mself\u001B[39m._forward_hooks \u001B[38;5;129;01mor\u001B[39;00m \u001B[38;5;28mself\u001B[39m._forward_pre_hooks\n\u001B[32m   1760\u001B[39m         \u001B[38;5;129;01mor\u001B[39;00m _global_backward_pre_hooks \u001B[38;5;129;01mor\u001B[39;00m _global_backward_hooks\n\u001B[32m   1761\u001B[39m         \u001B[38;5;129;01mor\u001B[39;00m _global_forward_hooks \u001B[38;5;129;01mor\u001B[39;00m _global_forward_pre_hooks):\n\u001B[32m-> \u001B[39m\u001B[32m1762\u001B[39m     \u001B[38;5;28;01mreturn\u001B[39;00m \u001B[43mforward_call\u001B[49m\u001B[43m(\u001B[49m\u001B[43m*\u001B[49m\u001B[43margs\u001B[49m\u001B[43m,\u001B[49m\u001B[43m \u001B[49m\u001B[43m*\u001B[49m\u001B[43m*\u001B[49m\u001B[43mkwargs\u001B[49m\u001B[43m)\u001B[49m\n\u001B[32m   1764\u001B[39m result = \u001B[38;5;28;01mNone\u001B[39;00m\n\u001B[32m   1765\u001B[39m called_always_called_hooks = \u001B[38;5;28mset\u001B[39m()\n",
      "\u001B[36mFile \u001B[39m\u001B[32m~\\anaconda3\\envs\\ai_basic_env\\Lib\\site-packages\\torch\\nn\\modules\\linear.py:125\u001B[39m, in \u001B[36mLinear.forward\u001B[39m\u001B[34m(self, input)\u001B[39m\n\u001B[32m    124\u001B[39m \u001B[38;5;28;01mdef\u001B[39;00m\u001B[38;5;250m \u001B[39m\u001B[34mforward\u001B[39m(\u001B[38;5;28mself\u001B[39m, \u001B[38;5;28minput\u001B[39m: Tensor) -> Tensor:\n\u001B[32m--> \u001B[39m\u001B[32m125\u001B[39m     \u001B[38;5;28;01mreturn\u001B[39;00m \u001B[43mF\u001B[49m\u001B[43m.\u001B[49m\u001B[43mlinear\u001B[49m\u001B[43m(\u001B[49m\u001B[38;5;28;43minput\u001B[39;49m\u001B[43m,\u001B[49m\u001B[43m \u001B[49m\u001B[38;5;28;43mself\u001B[39;49m\u001B[43m.\u001B[49m\u001B[43mweight\u001B[49m\u001B[43m,\u001B[49m\u001B[43m \u001B[49m\u001B[38;5;28;43mself\u001B[39;49m\u001B[43m.\u001B[49m\u001B[43mbias\u001B[49m\u001B[43m)\u001B[49m\n",
      "\u001B[31mKeyboardInterrupt\u001B[39m: "
     ]
    }
   ],
   "execution_count": 3
  },
  {
   "metadata": {},
   "cell_type": "markdown",
   "source": "### Faiss 벡터 db 로컬 저장",
   "id": "c67b952bf62792c2"
  },
  {
   "metadata": {},
   "cell_type": "code",
   "outputs": [],
   "execution_count": null,
   "source": "vector_db.save_local(\"./faiss_index3\")",
   "id": "de15e187eb9430d1"
  },
  {
   "metadata": {},
   "cell_type": "markdown",
   "source": "### 회계 기준서 벡터 db 로드",
   "id": "cb9eebd7102679e1"
  },
  {
   "metadata": {
    "ExecuteTime": {
     "end_time": "2025-07-14T13:07:56.207936Z",
     "start_time": "2025-07-14T13:07:30.958870Z"
    }
   },
   "cell_type": "code",
   "source": [
    "from langchain.vectorstores import FAISS\n",
    "from langchain_huggingface import HuggingFaceEmbeddings\n",
    "\n",
    "embeddings = HuggingFaceEmbeddings(model_name=\"BAAI/bge-m3\")\n",
    "\n",
    "vector_db1 = FAISS.load_local(\n",
    "    \"faiss_index3\",\n",
    "    embeddings,\n",
    "    allow_dangerous_deserialization=True\n",
    ")\n"
   ],
   "id": "1e86e73c97a08dd8",
   "outputs": [],
   "execution_count": 2
  },
  {
   "metadata": {},
   "cell_type": "markdown",
   "source": "## Vector DB 유사 문서 서치",
   "id": "955d2e8c02a5ba32"
  },
  {
   "metadata": {
    "ExecuteTime": {
     "end_time": "2025-07-14T13:08:22.486150Z",
     "start_time": "2025-07-14T13:08:20.106955Z"
    }
   },
   "cell_type": "code",
   "source": [
    "# 문서 검색 (유사도 기반)\n",
    "search_results = vector_db1.similarity_search(\n",
    "    query='''합리적으로 가치를 산정할 수 없는 일정한 형식의 정부지원과 기\n",
    "업의 정상적인 거래와 구별할 수 없는 정부와의 거래는 문단 3의\n",
    "정부보조금 정의에서 제외되나?''',\n",
    "    k=10\n",
    "    # 기본값\n",
    ")\n",
    "search_results"
   ],
   "id": "6d604330969c0773",
   "outputs": [
    {
     "data": {
      "text/plain": [
       "[Document(id='fdf069e9-f72b-4ddc-82e0-aeb8dbb15b1f', metadata={'producer': 'Hancom PDF 1.3.0.545', 'creator': 'Hancom PDF 1.3.0.545', 'creationdate': '2024-12-24T13:54:49+09:00', 'moddate': '2024-12-24T13:54:49+09:00', 'pdfversion': '1.4', 'source': '시행중_K-IFRS_제1020호_정부보조금의_회계처리와_정부지원의_공시(2008_개정_2015_타기준서_제정_수정목록_23-1_2020_구성양식_변경_반영).pdf', 'total_pages': 28, 'page': 15, 'page_label': '16'}, page_content='- 16 -\\n감하여 기록한다.보조금이 없었더라면 현재까지 당기손익으로 인식했어야 하는 추가 감가상각누계액은 즉시 당기손익으로 인식한다.33자산관련보조금의 상환의무가 발생하게 되는 경우 자산의 새로운 장부금액에 손상 가능성이 있는지를 고려할 필요가 있다.정부지원34합리적으로 가치를 산정할 수 없는 일정한 형식의 정부지원과 기업의 정상적인 거래와 구별할 수 없는 정부와의 거래는 문단 3의 정부보조금 정의에서 제외된다.35합리적으로 가치를 산정할 수 없는 지원의 예로는 기술이나 마케팅에 관한 무료 자문과 보증제공이 있다.기업의 정상적인 거래와 구별할 수 없는 지원의 예로는 기업 매출의 일정 부분을 책임지는 정부구매정책을 들 수 있다.효익의 존재에는 의문이 없지만 정부지원을 거래활동과 구분하는 것은 자의적일 수 있다.36상기 예에서 효익의 중요성으로 인하여,재무제표가 이용자의 오해를 유발하지 않도록 정부지원의 성격,범위 및 기간에 대한 공시가 필요할 수 있다.37[국제회계기준위원회에 의하여 삭제됨]38대중교통과 통신망의 개선 그리고 지역사회 전체의 효익을 위해 부정기적으로 계속 진행하는 관개수로나 수도관 등 개선된 시설의 공급으로 사회기반시설을 제공하는 것은 이 기준서에서의 정부지원에 해당하지 아니한다.공시'),\n",
       " Document(id='60a852f7-e8f5-4c71-af7b-2e0159636e03', metadata={'producer': 'Hancom PDF 1.3.0.545', 'creator': 'Hancom PDF 1.3.0.545', 'creationdate': '2024-12-24T13:54:49+09:00', 'moddate': '2024-12-24T13:54:49+09:00', 'pdfversion': '1.4', 'source': '시행중_K-IFRS_제1020호_정부보조금의_회계처리와_정부지원의_공시(2008_개정_2015_타기준서_제정_수정목록_23-1_2020_구성양식_변경_반영).pdf', 'total_pages': 28, 'page': 8, 'page_label': '9'}, page_content='- 9 -\\n용어의 정의3이 기준서에서 사용되는 용어의 정의는 다음과 같다.정부:지방자치단체,중앙정부 또는 국제기구인 정부,정부기관 및 이와 유사한 단체정부지원:일정한 기준을 충족하는 기업에게 경제적효익을 제공하기 위한 정부의 행위.개발지역에 기반시설을 제공하거나 경쟁자에게 거래상 제약을 부과하는 등 일반적인 거래조건에 영향을 주는 행위를 통해 간접적으로만 제공하는 효익은 이 기준서가 적용되는 정부지원이 아니다.2)정부보조금:기업의 영업활동과 관련하여 과거나 미래에 일정한 조건을 충족하였거나 충족할 경우 기업에게 자원을 이전하는 형식의 정부지원.합리적으로 가치를 산정할 수 없는 정부지원과 기업의 정상적인 거래와 구분할 수 없는 정부와의 거래는 제외한다.자산관련보조금:정부지원의 요건을 충족하는 기업이 장기성 자산을 매입,건설하거나 다른 방법으로 취득하여야 하는 일차적 조건이 있는 정부보조금.부수조건으로 해당 자산의 유형이나 위치 또는 자산의 취득기간이나 보유기간을 제한할 수 있다.수익관련보조금:자산관련보조금 이외의 정부보조금상환면제가능대출:대여자가 규정된 일정한 조건에 따라 상환받는 것을 포기하는 경우의 대출공정가치:측정일에 시장참여자 사이의 정상거래에서 자산을 매도2) 기업회계기준해석서 제2010호 ‘정부지원: 영업활동과 특정한 관련이 없는 경우’ 참조'),\n",
       " Document(id='9b2706e0-fab1-4263-9231-a07e276c423e', metadata={'producer': 'Hancom PDF 1.3.0.545', 'creator': 'Hancom PDF 1.3.0.545', 'creationdate': '2024-12-24T14:13:32+09:00', 'moddate': '2024-12-24T14:13:32+09:00', 'pdfversion': '1.4', 'source': '시행중_K-IFRS_제2112호_민간투자사업(2007_제정_2018_타기준서_개정_수정목록_23-1_2020_구성양식_변경_반영).pdf', 'total_pages': 76, 'page': 68, 'page_label': '69'}, page_content='- 69 -\\nBC71IFRIC은 그러한 자산들이 IAS20의 문단 3에서 다음과 같이 정의한 정부보조금을 나타내는지 고려하였다.정부보조금:기업의 영업활동과 관련하여 과거나 미래에 일정한 조건을 충족하였거나 충족할 경우 기업에게 자원을 이전하는 형식의 정부지원.합리적으로 가치를 산정할 수 없는 정부지원과 기업의 정상적인 거래와 구분할 수 없는 정부와의 거래는 제외한다.IFRIC은 그러한 자산이 사업시행자의 서비스에 대해 독립된 당사자간의 거래를 근거로 사업허가자에게 지급받을 전체 대가의 일부라면 ‘지원’에 해당하지 않는다고 결론지었다.따라서 그러한 자산은 IAS20의 정부보조금의 정의를 충족시키지 않으며 동 기준서가 적용되지 않는다.경과규정 (문단 29와 30)BC72IAS8에서 기업은 해석서의 최초적용으로 인한 회계정책의 변경을 그 해석서의 특정한 경과규정에 따라 회계처리해야 한다고 서술하고 있다.특정한 경과 규정이 없다면 IAS8의 일반적인 요구사항이 적용된다.IAS8의 일반적인 요구사항에 따르면,실무적으로 소급적용할 수 없는 경우를 제외하고는,소급적으로 회계처리 되어야한다.BC73IFRIC은 소급결정의 두 가지 측면으로 재분류와 재측정이 있음을 주목하였다.IFRIC은 사업시행자의 대차대조표에 과거에 포함되었던 모든 금액에 대해 소급적으로 적절하게 분류하는 것은 일반적으로 가능하지만,민간투자사업 자산의 소급적인 재측정이 항상 가능하지는 않을 수 있다는 견해를 취하였다.BC74IFRIC은 소급재작성이 가능하지 않을 때 IAS8에 따라 가장 이른 실행가능일부터 전진적으로 적용해야 하고 이는 당기의 기초가'),\n",
       " Document(id='d30dfa91-0a5d-4daa-86d6-0da9f89f5148', metadata={'producer': 'Hancom PDF 1.3.0.545', 'creator': 'Hancom PDF 1.3.0.545', 'creationdate': '2024-12-24T14:10:25+09:00', 'moddate': '2024-12-24T14:10:25+09:00', 'pdfversion': '1.4', 'source': '시행중_K-IFRS_제2010호_정부지원_영업활동과_특정한_관련이_없는_경우(2007_제정_수정목록_23-1_2020_구성양식_변경_반영).pdf', 'total_pages': 17, 'page': 15, 'page_label': '16'}, page_content='- 16 -\\n이 해석서의 주요 특징이 해석서는 영업활동과 특정한 관련이 없는 정부지원에 대한 해석을 제공하기 위하여 제정되었다.1.주요 요구사항기업의 영업활동과 특정한 관련이 없는 정부지원이라도 특정 지역이나 산업에서 영업하는 일반적인 요건은 정부지원의 요건을 충족하기 위해 기업회계기준서 제1020호 문단 3에 따른 조건을 구성한다.따라서 이러한 지원은 정부보조금에 해당하고 기업회계기준서 제1020호를 적용한다.'),\n",
       " Document(id='58512608-28b9-487d-b8a7-9a3655db759a', metadata={'producer': 'Hancom PDF 1.3.0.545', 'creator': 'Hancom PDF 1.3.0.545', 'creationdate': '2024-12-24T14:10:25+09:00', 'moddate': '2024-12-24T14:10:25+09:00', 'pdfversion': '1.4', 'source': '시행중_K-IFRS_제2010호_정부지원_영업활동과_특정한_관련이_없는_경우(2007_제정_수정목록_23-1_2020_구성양식_변경_반영).pdf', 'total_pages': 17, 'page': 12, 'page_label': '13'}, page_content='- 13 -\\nSIC10‘정부지원:영업활동과 특정한 관련이 없는 경우(GovernmentAssistance-NoSpecificRelationtoOperatingActivities)’의결론도출근거이 결론도출근거는 SIC10에 첨부되지만,이 해석서의 일부를 구성하는 것은 아니다.4IAS20문단 3에서는 정부보조금을 기업의 영업활동과 관련하여 과거나 미래에 일정한 조건을 충족하였거나 충족할 경우 기업에게 자원을 이전하는 형식의 정부지원으로 정의하고 있다.정부지원을 얻기 위해 특정 지역이나 산업영역에서 영업해야하는 일반적인 요건은 IAS20의 문단 3에 따른 조건을 구성한다.따라서 그러한 지원은 정부보조금의 정의에 부합하고 IAS20,특히 수익의 인식 시점을 다룬 문단 12와 20이 적용된다.'),\n",
       " Document(id='768c8ac9-5c14-4ae4-8679-708f70f5fe6e', metadata={'producer': 'Hancom PDF 1.3.0.545', 'creator': 'Hancom PDF 1.3.0.545', 'creationdate': '2024-12-24T14:13:32+09:00', 'moddate': '2024-12-24T14:13:32+09:00', 'pdfversion': '1.4', 'source': '시행중_K-IFRS_제2112호_민간투자사업(2007_제정_2018_타기준서_개정_수정목록_23-1_2020_구성양식_변경_반영).pdf', 'total_pages': 76, 'page': 15, 'page_label': '16'}, page_content='- 16 -\\n의 일부에 해당한다면,기업회계기준서 제1020호에서 정의하고 있는 정부보조금이 아니다.그 대신에 기업회계기준서 제1115호에서 정의한 대로 거래가격의 일부로 회계처리한다.시행일 28[한국회계기준원 회계기준위원회가 삭제함]한28.1이 해석서는 2011년 1월 1일 이후 최초로 개시하는 회계연도부터 적용한다.다만,2009년 1월 1일 이후 개시하는 회계연도부터 적용할 수 있다.28A-28C[국제회계기준위원회에서 삭제함]28D2015년 12월에 공표한 기업회계기준서 제1115호 ‘고객과의 계약에서 생기는 수익’에 따라,‘참조’문단,첨부자료 2의 표,문단 13~15,18~20,27을 개정하였다.이 개정 내용은 기업회계기준서 제1115호를 적용할 때 적용한다.28E2015년 12월에 공표한 기업회계기준서 제1109호에 따라 문단 23~25를 개정하였고 문단 28A~28C를 삭제하였다.기업회계기준서 제1109호를 적용할 때 이 개정 내용을 적용한다.28F2017년 12월에 공표한 기업회계기준서 제1116호에 따라 문단 AG8를 개정하였다.이 개정 내용은 기업회계기준서 제1116호를 적용할 때 적용한다.경과규정29문단 30에 해당하는 경우를 제외하고,이 해석서를 적용함에 따른 회계정책의 변경은 기업회계기준서 제1008호에 따라 소급적용한'),\n",
       " Document(id='efc71434-a947-4d6b-8121-4224c7501f9b', metadata={'producer': 'Hancom PDF 1.3.0.545', 'creator': 'Hancom PDF 1.3.0.545', 'creationdate': '2024-12-24T14:10:25+09:00', 'moddate': '2024-12-24T14:10:25+09:00', 'pdfversion': '1.4', 'source': '시행중_K-IFRS_제2010호_정부지원_영업활동과_특정한_관련이_없는_경우(2007_제정_수정목록_23-1_2020_구성양식_변경_반영).pdf', 'total_pages': 17, 'page': 7, 'page_label': '8'}, page_content='- 8 -\\n결론3특정 지역이나 산업영역에서 영업하는 요건 이외에 기업의 영업활동과 특별히 관련된 조건이 없더라도 기업에 대한 정부지원은 기업회계기준서 제1020호 정부보조금의 정의를 충족한다.따라서 이러한 보조금은 주주지분으로 직접 인식하지 아니한다.시행일[한국회계기준원 한국회계기준위원회가 삭제함]한3.1이 해석서는 2011년 1월 1일 이후 최초로 개시하는 회계연도부터 적용한다.다만,2009년 1월 1일 이후 개시하는 회계연도부터 적용할 수 있다.'),\n",
       " Document(id='ca8c0fe9-ce7c-45a0-863f-30ee182fcde9', metadata={'producer': 'Hancom PDF 1.3.0.545', 'creator': 'Hancom PDF 1.3.0.545', 'creationdate': '2024-12-24T14:10:25+09:00', 'moddate': '2024-12-24T14:10:25+09:00', 'pdfversion': '1.4', 'source': '시행중_K-IFRS_제2010호_정부지원_영업활동과_특정한_관련이_없는_경우(2007_제정_수정목록_23-1_2020_구성양식_변경_반영).pdf', 'total_pages': 17, 'page': 6, 'page_label': '7'}, page_content='- 7 -\\n기업회계기준해석서 제2010호정부지원:영업활동과 특정한 관련이 없는 경우참조Ÿ기업회계기준서 제1008호 ‘회계정책,회계추정치 변경과 오류’Ÿ기업회계기준서 제1020호 ‘정부보조금의 회계처리와 정부지원의 공시’적용한1.1이 해석서는 ‘주식회사 등의 외부감사에 관한 법률’에서 정하는 한국채택국제회계기준 의무적용대상 주식회사의 회계처리에 적용한다.또한 이 해석서는 재무제표의 작성과 표시를 위해 한국채택국제회계기준의 적용을 선택하거나 다른 법령 등에서 적용을 요구하는 기업의 회계처리에도 적용한다.회계논제1일부 국가에서 기업에 대한 정부지원은 특정 지역이나 산업영역에서의 사업활동을 장려하거나 장기적으로 지원하는 것을 목적으로 한다.이러한 지원을 받기 위한 조건은 기업의 영업활동과 특별히 관련되지 않을 수 있다.이러한 지원의 예로는 다음과 같은 기업에 정부가 자원을 이전하는 것을 들 수 있다.⑴특정산업에서 영업하는 기업⑵최근 민영화된 산업에서 계속 영업하는 기업⑶저개발 지역에서 사업활동을 시작하거나 계속 하는 기업2이 해석서의 회계논제는 이러한 정부지원이 기업회계기준서 제1020호의 적용범위에 해당하는 정부보조금인지의 여부와 동 기준서에 따라 회계처리해야 하는지의 여부이다.'),\n",
       " Document(id='a8ebfcec-636b-4255-a1ee-9695169aef13', metadata={'producer': 'Hancom PDF 1.3.0.545', 'creator': 'Hancom PDF 1.3.0.545', 'creationdate': '2024-12-24T13:55:44+09:00', 'moddate': '2024-12-24T13:55:44+09:00', 'pdfversion': '1.4', 'source': '시행중_K-IFRS_제1024호_특수관계자공시(2014_개정_2013_타기준서_개정_수정목록_23-1_2020_구성양식_변경_반영).pdf', 'total_pages': 57, 'page': 21, 'page_label': '22'}, page_content='- 22 -\\n⑴정부 G와의 거래⑵기업 1과 2그리고 기업 B,C,D와의 거래그러나 이 면제규정은 개인 X와의 거래에는 적용되지 않는다.면제규정을 적용할 경우 공시요구사항(문단 26)IE3기업 A의 재무제표에 문단 26⑵㈎에 따라 개별적으로 유의적인 거래에 대한 공시의 예는 다음의 사항이 될 수 있다.비시장조건으로수행된 개별적으로 유의적인 거래에 대한 공시의 예정부 G는 간접적으로 공익기업 A의 유통주식의 75%를 보유하고 있으며 20X1년 1월 15일에 공익기업 A는 또 다른 정부관계 공익기업에게 토지 10헥타르를 5백만원에 매각하였다.20X0년 12월 31일에 유사한 위치에 있는 유사한 크기와 유사한 특성의 토지는 3백만원에 매각하였다.그 사이에는 토지에 대한 어떠한 평가나 상각이 이루어지지 않았다.기업회계기준서 제1020호 ‘정부보조금의 회계처리와 정부지원의 공시’에서 요구하고 있는 정부지원의 공시는 (재무제표의)주석 X를,기타 적절한 한국채택국제회계기준에 따른 사항은 (재무제표의)주석 Y와 Z를 참조.거래의 규모로인하여 개별적으로 유의적인 거래에 대한 공시의 예정부 G는 간접적으로 공익기업 A의 유통주식의 75%를 보유하고 있으며 20X1년 12월 말에 공익기업 A에게 융자 요구의 50%에 해당하는 자금을 향후 5년 간 분기별로 분할 상환가능한 조건으로 대여하였다.이 자금대여에는 3%의 이자가 부과되며 이는 기업 A의 은행 차입시에 부과되는 이자와 유사하다2).기타 적절한 한국2)보고기업이 이 거래가 정부지원에 해당한다고 결론지을 경우 기업회계기준서 제1020호의 공시요구사항을 고려할 필요가 있다.'),\n",
       " Document(id='9b9ff3c3-458e-4dd2-8699-4c180230fe87', metadata={'producer': 'Hancom PDF 1.3.0.545', 'creator': 'Hancom PDF 1.3.0.545', 'creationdate': '2024-12-24T13:54:49+09:00', 'moddate': '2024-12-24T13:54:49+09:00', 'pdfversion': '1.4', 'source': '시행중_K-IFRS_제1020호_정부보조금의_회계처리와_정부지원의_공시(2008_개정_2015_타기준서_제정_수정목록_23-1_2020_구성양식_변경_반영).pdf', 'total_pages': 28, 'page': 9, 'page_label': '10'}, page_content='- 10 -\\n할 때 받거나 부채를 이전할 때 지급하게 될 가격(기업회계기준서 제1113호 ‘공정가치 측정’참조)4정부지원은 제공되는 지원의 성격과 일반적으로 부수되는 조건에 따라 매우 다양한 형식을 취한다.지원의 목적은 지원이 제공되지 않을 경우 정상적으로 수행되지 않는 활동에 기업의 진출을 장려하는 것일 수 있다.5기업이 정부지원을 받는 것은 두 가지 이유에서 재무제표의 작성에 유의적일 수 있다.첫째,자원이 이전되는 경우 해당 이전에 대한 적절한 회계처리방법이 있어야 한다.둘째,보고기간 중 이러한 지원에서 얻은 효익의 정도를 나타내는 것이 바람직하다.이에 따라 기업의 재무제표를 과거기간 및 다른 기업의 재무제표와 비교할 수 있게 된다.6정부보조금은 보상금,조성금 또는 장려금 등의 명칭으로도 불린다.정부보조금7정부보조금(공정가치로 측정되는 비화폐성 보조금 포함)은 다음 모두에 대한 합리적인 확신이 있을 때까지 인식하지 아니한다.⑴정부보조금에 부수되는 조건의 준수⑵보조금의 수취8정부보조금에 부수되는 조건의 준수와 보조금 수취에 대한 합리적인 확신이 있을 경우에만 정부보조금을 인식한다.보조금의 수취 자체가 보조금에 부수되는 조건이 이행되었거나 이행될 것이라는 결정적인 증거를 제공하지는 않는다.9보조금을 수취하는 방법은 보조금에 적용되는 회계처리방법에 영')]"
      ]
     },
     "execution_count": 4,
     "metadata": {},
     "output_type": "execute_result"
    }
   ],
   "execution_count": 4
  },
  {
   "metadata": {},
   "cell_type": "markdown",
   "source": "## Retriever + RetrievalQA 활용하여 LLM에게 질문",
   "id": "2e10cc7746c068a0"
  },
  {
   "metadata": {
    "ExecuteTime": {
     "end_time": "2025-07-14T13:08:39.007472Z",
     "start_time": "2025-07-14T13:08:32.810791Z"
    }
   },
   "cell_type": "code",
   "source": [
    "from langchain_openai import ChatOpenAI\n",
    "from langchain.chains import RetrievalQA\n",
    "from dotenv import load_dotenv\n",
    "load_dotenv()\n",
    "\n",
    "retriever = vector_db1.as_retriever(\n",
    "    search_type='similarity',\n",
    "    search_kwargs={\n",
    "        'k': 10,\n",
    "    })\n",
    "\n",
    "\n",
    "llm = ChatOpenAI(\n",
    "    model = 'gpt-4o-mini',\n",
    "    temperature=0\n",
    ")\n",
    "\n",
    "retrieval_qa = RetrievalQA.from_chain_type(\n",
    "    retriever = retriever,\n",
    "    llm = llm,\n",
    "    chain_type = 'stuff',\n",
    "    return_source_documents=True # 어떤 문서를 넘겨줬는지 확인\n",
    ")\n",
    "\n",
    "query = '''합리적으로 가치를 산정할 수 없는 일정한 형식의 정부지원과 기\n",
    "업의 정상적인 거래와 구별할 수 없는 정부와의 거래는|\n",
    "정부보조금 정의에서 어떻게 돼?'''\n",
    "\n",
    "response = retrieval_qa.invoke(query)\n",
    "print(response['result'])"
   ],
   "id": "4ac59e8b31dd1690",
   "outputs": [
    {
     "name": "stdout",
     "output_type": "stream",
     "text": [
      "합리적으로 가치를 산정할 수 없는 일정한 형식의 정부지원과 기업의 정상적인 거래와 구별할 수 없는 정부와의 거래는 정부보조금 정의에서 제외됩니다. 정부보조금은 기업의 영업활동과 관련하여 과거 또는 미래에 일정한 조건을 충족하였거나 충족할 경우 기업에게 자원을 이전하는 형식의 정부지원으로 정의됩니다.\n"
     ]
    }
   ],
   "execution_count": 5
  },
  {
   "metadata": {},
   "cell_type": "markdown",
   "source": "## 사업 보고서 벡터 db 로드",
   "id": "277d3c693801961b"
  },
  {
   "metadata": {
    "ExecuteTime": {
     "end_time": "2025-07-14T13:12:55.197441Z",
     "start_time": "2025-07-14T13:12:47.575757Z"
    }
   },
   "cell_type": "code",
   "source": [
    "from langchain.vectorstores import FAISS\n",
    "from langchain_huggingface import HuggingFaceEmbeddings\n",
    "\n",
    "embeddings = HuggingFaceEmbeddings(model_name=\"BAAI/bge-m3\")\n",
    "\n",
    "vector_db2 = FAISS.load_local(\n",
    "    \"faiss_index_bge_m3\",\n",
    "    embeddings,\n",
    "    allow_dangerous_deserialization=True\n",
    ")\n"
   ],
   "id": "83192c97b47174d0",
   "outputs": [],
   "execution_count": 14
  },
  {
   "metadata": {
    "ExecuteTime": {
     "end_time": "2025-07-14T13:13:42.999703Z",
     "start_time": "2025-07-14T13:13:42.508345Z"
    }
   },
   "cell_type": "code",
   "source": [
    "query = '삼성전자의 작년 재무상태는?'\n",
    "\n",
    "# 1. 쿼리 임베딩을 따로 생성\n",
    "query_embedding = embeddings.embed_query(query)\n",
    "\n",
    "# 2. 벡터 기반 유사도 검색 (임베딩은 이미 계산됨)\n",
    "retrieved_docs = vector_db2.similarity_search_by_vector(query_embedding, k=2)\n",
    "for doc in retrieved_docs:\n",
    "    print(doc)"
   ],
   "id": "e1106fdb35966fe9",
   "outputs": [
    {
     "name": "stdout",
     "output_type": "stream",
     "text": [
      "page_content='삼성전자주식회사 대표이사\n",
      "한\n",
      "종희\n",
      "본점 소재지 :\n",
      "(도로명주소)\n",
      "경기도 수원시 영통구 삼성로 129 (매탄동)\n",
      "(전 화)\n",
      "031-200-1114\n",
      "재 무 상 태 표\n",
      "제 53 기 : 2021년 12월 31일 현재\n",
      "제 52 기 : 2020년 12월 31일 현재\n",
      "삼성전자주식회사\n",
      "(단위 : 백만원)\n",
      "과 목\n",
      "주석\n",
      "제 53 (당) 기\n",
      "제 52 (전) 기\n",
      "자 산\n",
      "Ⅰ. 유 동 자 산\n",
      "73,553,416\n",
      "73,798,549\n",
      "1. 현금및현금성자산\n",
      "4, 28\n",
      "3,918,872\n",
      "989,045\n",
      "2. 단기금융상품\n",
      "4, 28\n",
      "15,000,576\n",
      "29,101,284\n",
      "3. 매출채권\n",
      "4, 5, 7, 28\n",
      "33,088,247\n",
      "24,736,740\n",
      "4. 미수금\n",
      "4, 7, 28\n",
      "1,832,488\n",
      "1,898,583\n",
      "5. 선급비용\n",
      "817,689\n",
      "890,680\n",
      "6. 재고자산\n",
      "8\n",
      "15,973,053\n",
      "13,831,372\n",
      "7. 기타유동자산\n",
      "4, 28\n",
      "2,922,491\n",
      "2,350,845\n",
      "Ⅱ. 비 유 동 자 산\n",
      "177,558,768\n",
      "155,865,878\n",
      "1. 기타포괄손익-공정가치금융자산\n",
      "4, 6, 28\n",
      "1,662,532\n",
      "1,539,659\n",
      "2. 당기손익-공정가치금융자산\n",
      "4, 6, 28\n",
      "2,135\n",
      "3,107\n",
      "3. 종속기업, 관계기업 및 공동기업 투자\n",
      "9\n",
      "56,225,599\n",
      "56,587,548\n",
      "4. 유형자산\n",
      "10\n",
      "103,667,025\n",
      "86,166,924\n",
      "5. 무형자산\n",
      "11\n",
      "8,657,456\n",
      "7,002,648\n",
      "6. 순확정급여자산\n",
      "14\n",
      "2,324,291\n",
      "1,162,456\n",
      "7. 이연법인세자산\n",
      "25\n",
      "1,211,100\n",
      "992,385\n",
      "8. 기타비유동자산\n",
      "4, 7, 28\n",
      "3,808,630\n",
      "2,411,151\n",
      "자 산 총 계\n",
      "251,112,184\n",
      "229,664,427\n",
      "부 채\n",
      "Ⅰ. 유 동 부 채\n",
      "53,067,303\n",
      "44,412,904\n",
      "1. 매입채무\n",
      "4, 28\n",
      "11,557,441\n",
      "6,599,025\n",
      "2. 단기차입금\n",
      "4, 5, 12, 28\n",
      "9,204,268\n",
      "12,520,367\n",
      "3. 미지급금\n",
      "4, 28\n",
      "13,206,753\n",
      "9,829,541' metadata={'연도': 2021, '회사명': '삼성전자'}\n",
      "page_content='(201,537)\n",
      "39,748\n",
      "Ⅲ. 재무활동 현금흐름\n",
      "(23,885,054)\n",
      "(7,426,376)\n",
      "1. 단기차입금의 순증가(감소)\n",
      "27\n",
      "(3,288,858)\n",
      "2,326,350\n",
      "2. 사채 및 장기차입금의 상환\n",
      "27\n",
      "(117,963)\n",
      "(134,443)\n",
      "3. 배당금의 지급\n",
      "(20,478,233)\n",
      "(9,618,283)\n",
      "Ⅳ. 외화환산으로 인한 현금의 변동\n",
      "19\n",
      "54\n",
      "Ⅴ. 현금및현금성자산의 증가(감소)(Ⅰ+Ⅱ+Ⅲ+Ⅳ)\n",
      "2,929,827\n",
      "(1,092,872)\n",
      "Ⅵ. 기초의 현금및현금성자산\n",
      "989,045\n",
      "2,081,917\n",
      "Ⅶ. 기말의 현금및현금성자산\n",
      "3,918,872\n",
      "989,045\n",
      "별첨 주석은 본 재무제표의 일부입니다.\n",
      "주석\n",
      "제 53 기 : 2021년 12월 31일 현재\n",
      "제 52 기 : 2020년 12월 31일 현재\n",
      "삼성전자주식회사\n",
      "1. 일반적 사항\n",
      ":&cr;\n",
      "&cr;\n",
      "삼성전자주식회사(이하 \"회사\")는 1969년 대한민국에서 설립되어 1975년에 대한민국의 증권거래소에 상장하였습니다. 회사의 사업은 CE 부문, IM 부문, DS 부문으로 구성되어 있습니다. CE(Consumer Electronics) 부문은 TV, 모니터, 에어컨 및 냉장고 등의 사업으로 구성되어 있고, IM(Information technology & Mobile communications) 부문은 휴대폰, 통신시스템, 컴퓨터 등의 사업으로 구성되어 있으며, DS(Device Solutions) 부문은\n",
      "메모리,\n",
      "Foundry, System LSI 등\n",
      "의\n",
      "반도체\n",
      "사업으로\n",
      "구성되어 있습니다. 회사의 본점 소재지는 경기도 수원시입니다. &cr;\n",
      "&cr;회사의 재무제표는 한국채택국제회계기준에 따라 작성되었으며, 기업회계기준서 제1027호 '별도재무제표'에 따른 별도재무제표입니다. &cr;\n",
      "2. 중요한 회계처리방침:\n",
      "다음은 재무제표의 작성에 적용된 주요한 회계정책입니다. 이러한 정책은 별도의 언급이 없다면, 표시된 회계기간에 계속적으로 적용됩니다. &cr;\n",
      "2.1 재무제표 작성기준' metadata={'연도': 2021, '회사명': '삼성전자'}\n"
     ]
    }
   ],
   "execution_count": 16
  },
  {
   "metadata": {},
   "cell_type": "code",
   "outputs": [],
   "execution_count": null,
   "source": "",
   "id": "f4d5c04eb5144f63"
  }
 ],
 "metadata": {
  "kernelspec": {
   "display_name": "Python 3",
   "language": "python",
   "name": "python3"
  },
  "language_info": {
   "codemirror_mode": {
    "name": "ipython",
    "version": 2
   },
   "file_extension": ".py",
   "mimetype": "text/x-python",
   "name": "python",
   "nbconvert_exporter": "python",
   "pygments_lexer": "ipython2",
   "version": "2.7.6"
  }
 },
 "nbformat": 4,
 "nbformat_minor": 5
}

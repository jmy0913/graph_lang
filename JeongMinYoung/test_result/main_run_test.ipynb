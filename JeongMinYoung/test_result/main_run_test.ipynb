{
 "cells": [
  {
   "metadata": {},
   "cell_type": "markdown",
   "source": [
    "# RAG Chain 테스트 결과\n",
    "\n",
    "## 테스트 개요\n",
    "세 가지 RAG 체인(`run_flexible_rag1`, `run_flexible_rag2`, `run_flexible_rag3`)의 성능을 다양한 질문 유형으로 테스트했습니다.\n",
    "\n",
    "## 테스트 결과 요약\n",
    "\n",
    "### ✅ 답변 정상 출력 확인\n",
    "- **사업보고서 관련 질문**: 삼성전자, 카카오 2022년 사업 상황 - 모든 체인에서 정상 답변\n",
    "- **하이브리드 질문**: 네이버 2024년 재무상태, 삼성전자 2022-2023년 비교 - 정상 답변\n",
    "- **재무제표 질문**: 삼성전자 2024년 재무제표 - 모든 체인에서 정상 답변\n",
    "- **회계기준서 질문**: 재고자산 회계처리 방법 - 모든 체인에서 정상 답변\n",
    "- **데이터 부족 질문**: 카카오 2024년 재무제표, 네이비 2023년 재무제표 - 적절한 \"정보 없음\" 답변\n",
    "- **일반 질문**: \"오늘 뭐 하지?\" - 모든 체인에서 적절한 답변\n",
    "\n",
    "### 📊 체인별 성능\n",
    "- **run_flexible_rag1**: 기본 기능 정상 동작\n",
    "- **run_flexible_rag2**: 확장 기능 포함, 안정적 답변\n",
    "- **run_flexible_rag3**: 고급 기능 포함, 모든 테스트 통과\n",
    "\n",
    "## 코드 실행\n",
    "\n",
    "```python\n",
    "from JeongMinYoung.utils1.main import run_flexible_rag1, run_flexible_rag2, run_flexible_rag3\n",
    "\n",
    "## 사업보고서 rag chain 테스트\n",
    "question = \"삼성전자 2022년 사업 상황 알려줘\"\n",
    "response = run_flexible_rag1(question)\n",
    "print(response)\n",
    "\n",
    "question = \"삼성전자 2022년 사업 상황 알려줘\"\n",
    "response = run_flexible_rag2(question)\n",
    "print(response)\n",
    "\n",
    "question = \"카카오 2022년 사업 상황 알려줘\"\n",
    "response = run_flexible_rag3(question)\n",
    "print(response)\n",
    "\n",
    "## 하이브리드 rag chain 테스트\n",
    "question = \"네이버 2024년 사업 재무상태 어때?\"\n",
    "response = run_flexible_rag1(question)\n",
    "print(response)\n",
    "\n",
    "question = \"네이버 2024년 사업 재무상태 어때?\"\n",
    "response = run_flexible_rag2(question)\n",
    "print(response)\n",
    "\n",
    "question = \"네이버 2024년 사업 재무상태 어때?\"\n",
    "response = run_flexible_rag3(question)\n",
    "print(response)\n",
    "\n",
    "question = \"삼성전자 2022년에서 2023년에 사업 재무상태 어때?\"\n",
    "response = run_flexible_rag2(question)\n",
    "print(response)\n",
    "\n",
    "## 재무제표 rag chain 테스트\n",
    "question = \"삼성전자 2024년 재무제표 어때?\"\n",
    "response = run_flexible_rag1(question)\n",
    "print(response)\n",
    "\n",
    "question = \"삼성전자 2024년 재무제표 어때?\"\n",
    "response = run_flexible_rag2(question)\n",
    "print(response)\n",
    "\n",
    "question = \"삼성전자 2024년 재무제표 어때?\"\n",
    "response = run_flexible_rag3(question)\n",
    "print(response)\n",
    "\n",
    "## 회계기준서 rag chain 테스트\n",
    "question = \"재고 자산 회계 처리 방법이 뭐야???\"\n",
    "response = run_flexible_rag1(question)\n",
    "print(response)\n",
    "\n",
    "question = \"재고 자산 회계 처리 방법이 뭐야???\"\n",
    "response = run_flexible_rag2(question)\n",
    "print(response)\n",
    "\n",
    "question = \"재고 자산 회계 처리 방법이 뭐야???\"\n",
    "response = run_flexible_rag3(question)\n",
    "print(response)\n",
    "\n",
    "## 모르는 정보에 대한 질문 테스트\n",
    "question = \"kakao 2024년 재무제표\"\n",
    "response = run_flexible_rag2(question)\n",
    "print(response)\n",
    "\n",
    "question = \"네이비 2023년 재무제표\"\n",
    "response = run_flexible_rag3(question)\n",
    "print(response)\n",
    "\n",
    "question = \"오늘 뭐 하지?\"\n",
    "response = run_flexible_rag1(question)\n",
    "print(response)\n",
    "\n",
    "question = \"오늘 뭐 하지?\"\n",
    "response = run_flexible_rag2(question)\n",
    "print(response)\n",
    "\n",
    "question = \"오늘 뭐 하지?\"\n",
    "response = run_flexible_rag3(question)\n",
    "print(response)\n",
    "```\n",
    "\n",
    "## 결론\n",
    "모든 RAG 체인이 정상적으로 작동하며, 각각의 특성에 맞는 답변을 제공하는 것을 확인했습니다."
   ],
   "id": "436b9831fa0a44ca"
  },
  {
   "metadata": {},
   "cell_type": "markdown",
   "source": "## 답변 내용 체크",
   "id": "b346a57b3dc3112c"
  },
  {
   "metadata": {
    "ExecuteTime": {
     "end_time": "2025-07-17T02:57:37.101098Z",
     "start_time": "2025-07-17T02:57:10.267123Z"
    }
   },
   "cell_type": "code",
   "source": "from JeongMinYoung.utils1.main import run_flexible_rag1, run_flexible_rag2, run_flexible_rag3",
   "id": "2cf549dbca622768",
   "outputs": [
    {
     "name": "stderr",
     "output_type": "stream",
     "text": [
      "C:\\Workspaces\\3rd_team_project\\JeongMinYoung\\utils1\\retreiver_setting.py:71: LangChainDeprecationWarning: The class `OpenAIEmbeddings` was deprecated in LangChain 0.0.9 and will be removed in 1.0. An updated version of the class exists in the :class:`~langchain-openai package and should be used instead. To use it run `pip install -U :class:`~langchain-openai` and import as `from :class:`~langchain_openai import OpenAIEmbeddings``.\n",
      "  embeddings = OpenAIEmbeddings(model=EMBEDDING_MODEL)\n"
     ]
    }
   ],
   "execution_count": 1
  },
  {
   "metadata": {},
   "cell_type": "markdown",
   "source": "## 사업보고서 rag chain 테스트",
   "id": "87ea6f9dd000809c"
  },
  {
   "metadata": {},
   "cell_type": "markdown",
   "source": "### 초급",
   "id": "fadd94864869377c"
  },
  {
   "metadata": {
    "ExecuteTime": {
     "end_time": "2025-07-17T03:45:44.058140Z",
     "start_time": "2025-07-17T03:45:37.684043Z"
    }
   },
   "cell_type": "code",
   "source": [
    "question = \"삼성전자 2022년 사업 상황 알려줘\"\n",
    "response = run_flexible_rag1(question)\n",
    "print(response)"
   ],
   "id": "e57884a4d26c7a24",
   "outputs": [
    {
     "name": "stdout",
     "output_type": "stream",
     "text": [
      "📥 business 처리 시작\n"
     ]
    },
    {
     "name": "stderr",
     "output_type": "stream",
     "text": [
      "C:\\Workspaces\\3rd_team_project\\JeongMinYoung\\utils1\\handle_node.py:40: LangChainDeprecationWarning: The method `BaseRetriever.get_relevant_documents` was deprecated in langchain-core 0.1.46 and will be removed in 1.0. Use :meth:`~invoke` instead.\n",
      "  docs = self_retriever.get_relevant_documents(question)\n"
     ]
    },
    {
     "name": "stdout",
     "output_type": "stream",
     "text": [
      "\"안녕하세요! 삼성전자 2022년 사업 상황에 대해 가장 중요한 것만 알려드릴게요.\n",
      "\n",
      "**이 회사는요,** 반도체, 디스플레이, 스마트폰, 가전제품을 만드는 곳이에요. 쉽게 말해, 우리가 자주 쓰는 스마트폰과 TV, 냉장고 같은 전자제품을 만드는 회사죠.\n",
      "\n",
      "**가장 큰 이슈는** 2022년에 삼성전자의 주당순이익이 크게 증가했다는 점이에요. 전년 대비 이익이 많이 늘어났어요.\n",
      "\n",
      "더 궁금한 게 생기면 언제든 다시 물어보세요!\"\n"
     ]
    }
   ],
   "execution_count": 2
  },
  {
   "metadata": {},
   "cell_type": "markdown",
   "source": "### 중급",
   "id": "77abac7c615db0b2"
  },
  {
   "metadata": {
    "ExecuteTime": {
     "end_time": "2025-07-17T03:45:58.842194Z",
     "start_time": "2025-07-17T03:45:44.077477Z"
    }
   },
   "cell_type": "code",
   "source": [
    "question = \"삼성전자 2022년 사업 상황 알려줘\"\n",
    "response = run_flexible_rag2(question)\n",
    "print(response)"
   ],
   "id": "abfb83b6ff8c05e9",
   "outputs": [
    {
     "name": "stdout",
     "output_type": "stream",
     "text": [
      "📥 business 처리 시작\n",
      "안녕하세요! 삼성전자 2022년 사업 상황에 대해 사업보고서 중심으로 분석해 봤어요.\n",
      "\n",
      "**현재 사업 상황을 보면,** 삼성전자는 반도체, 디스플레이, IT & 모바일, 가전 사업을 주요 사업 분야로 운영하고 있어요. 특히, 반도체와 디스플레이 사업에서 메모리 반도체와 OLED, LCD 패널 제조가 핵심인 것으로 보여요. 매출의 70%가 해외에서 발생하고 있어 글로벌 시장에서의 입지가 중요해요.\n",
      "\n",
      "**최근 가장 눈에 띄는 변화는** 주당순이익이 전년 대비 증가한 점인데, 이는 반도체와 모바일 사업의 성과가 긍정적으로 작용한 것으로 보여요. 또한, 현금배당수익률이 2.70%로 증가했어요.\n",
      "\n",
      "**그래서 앞으로는** 글로벌 반도체 시장의 수요 증가와 모바일 기기 시장의 경쟁 심화가 기회와 위협 요인으로 작용할 수 있겠네요. 삼성전자는 이러한 시장 상황을 고려하여 기술 혁신과 글로벌 시장 확대 전략을 지속할 것으로 기대돼요.\n",
      "\n",
      "특정 사업 부문에 대해 더 자세히 알고 싶으시면 말씀해주세요!\n"
     ]
    }
   ],
   "execution_count": 3
  },
  {
   "metadata": {},
   "cell_type": "markdown",
   "source": "### 고급",
   "id": "acd719fd323b83d6"
  },
  {
   "metadata": {
    "ExecuteTime": {
     "end_time": "2025-07-17T03:46:14.561629Z",
     "start_time": "2025-07-17T03:45:58.879175Z"
    }
   },
   "cell_type": "code",
   "source": [
    "question = \"삼성전자 2022년 사업 상황 알려줘\"\n",
    "response = run_flexible_rag3(question)\n",
    "print(response)"
   ],
   "id": "8691ed3b39a18b47",
   "outputs": [
    {
     "name": "stdout",
     "output_type": "stream",
     "text": [
      "📥 business 처리 시작\n",
      "안녕하십니까. 삼성전자 2022년 사업 상황에 대한 전략적 분석 결과를 말씀드리겠습니다.\n",
      "\n",
      "사업보고서를 분석한 결과, 다음과 같은 기회와 리스크 요인이 보입니다.\n",
      "\n",
      "- **기회 요인:** 삼성전자는 반도체, 디스플레이, IT & 모바일, 가전 등 다양한 사업 분야에서 활동하고 있습니다. 특히, 메모리 반도체와 디스플레이 패널 시장의 지속적인 성장과 기술 발전은 삼성전자의 강점을 극대화할 수 있는 기회로 작용할 수 있습니다. 또한, 해외 매출이 전체 매출의 70%를 차지하고 있어 글로벌 시장에서의 확장 가능성도 큽니다.\n",
      "\n",
      "- **리스크 요인:** 반면, 반도체 및 디스플레이 시장의 경쟁 심화는 삼성전자의 수익성에 영향을 줄 수 있는 리스크로 작용할 수 있습니다. 또한, 글로벌 경제 불확실성과 무역 규제 등 외부 환경 변화는 삼성전자의 해외 매출에 부정적인 영향을 미칠 수 있습니다.\n",
      "\n",
      "**따라서 이 회사의 핵심 전략은** 기술 혁신을 통해 제품 경쟁력을 강화하고, 글로벌 시장에서의 입지를 더욱 확고히 하는 것으로 해석됩니다. 이를 통해 삼성전자는 시장의 기회를 최대한 활용하고, 리스크를 효과적으로 관리할 수 있을 것입니다.\n",
      "\n",
      "더 상세한 리스크 분석이나 경쟁사 비교가 필요하시면 말씀해주십시오.\n"
     ]
    }
   ],
   "execution_count": 4
  },
  {
   "metadata": {},
   "cell_type": "markdown",
   "source": "## 하이브리드 rag chain 테스트",
   "id": "4a1d8b1071c1aacf"
  },
  {
   "metadata": {},
   "cell_type": "markdown",
   "source": "### 초급",
   "id": "8a5ee2444cc688a7"
  },
  {
   "metadata": {
    "ExecuteTime": {
     "end_time": "2025-07-17T03:46:28.259437Z",
     "start_time": "2025-07-17T03:46:14.576791Z"
    }
   },
   "cell_type": "code",
   "source": [
    "question = \"네이버 2024년 사업 재무상태 어때?\"\n",
    "response = run_flexible_rag1(question)\n",
    "print(response)"
   ],
   "id": "8879f29bd486816a",
   "outputs": [
    {
     "name": "stdout",
     "output_type": "stream",
     "text": [
      "📥 hybrid 처리 시작\n",
      "안녕하세요! 네이버 2024년 사업 재무상태에 대해 알아봤어요.\n",
      "\n",
      "**1. 이 회사는요,**\n",
      "네이버는 인터넷 검색사이트 운영과 온라인 정보제공 사업을 주로 하고 있어요. 주요 매출원은 서치플랫폼과 커머스 등이에요.\n",
      "\n",
      "**2. 돈은 이만큼 벌었어요! (2024년 기준)**\n",
      "- 매출은 10,737억원 정도고요,\n",
      "- 순이익은 1,932억원이에요.\n",
      "\n",
      "**3. 재무 상태는 튼튼해요? (2024년 기준)**\n",
      "- 총자산은 381,679억원, 총부채는 111,670억원이에요.\n",
      "- 자산이 부채보다 훨씬 많아서 재무 상태가 안정적이네요.\n",
      "\n",
      "더 궁금한 점 있으시면 언제든 다시 물어보세요!\n"
     ]
    }
   ],
   "execution_count": 5
  },
  {
   "metadata": {},
   "cell_type": "markdown",
   "source": "",
   "id": "fb3f6273b3a749f7"
  },
  {
   "metadata": {},
   "cell_type": "markdown",
   "source": "### 중급",
   "id": "7542c20b58476000"
  },
  {
   "metadata": {
    "ExecuteTime": {
     "end_time": "2025-07-17T03:46:41.637314Z",
     "start_time": "2025-07-17T03:46:28.269586Z"
    }
   },
   "cell_type": "code",
   "source": [
    "question = \"네이버 2024년 사업 재무상태 어때?\"\n",
    "response = run_flexible_rag2(question)\n",
    "print(response)"
   ],
   "id": "13cf781e53a4bf47",
   "outputs": [
    {
     "name": "stdout",
     "output_type": "stream",
     "text": [
      "📥 hybrid 처리 시작\n",
      "안녕하세요! 네이버의 2024년 사업 재무상태에 대해 분석해 봤어요.\n",
      "\n",
      "**1. 작년과 비교하면 어떻게 달라졌나요?**\n",
      "- **매출과 이익**: 2024년의 영업수익은 10,737억원으로, 전년 대비 증가했어요. 영업이익도 1,979억원으로 전년보다 증가했네요. 이는 전반적인 사업 성과가 개선되었음을 보여줘요.\n",
      "- **자산과 부채**: 자산총계는 38,168억원으로 전기 대비 증가했으며, 부채총계는 11,167억원으로 감소했어요. 이는 재무 안정성이 개선된 것으로 보여요.\n",
      "\n",
      "**2. 이런 변화는 사업적으로 어떤 의미가 있을까요?**\n",
      "재무제표의 변화를 보면, 매출과 영업이익의 증가는 네이버의 다양한 사업 부문에서의 성과가 긍정적임을 시사해요. 특히, 유동자산의 증가와 부채의 감소는 네이버가 재무적으로 더 안정적인 상태에 있음을 나타내요. 이는 네이버가 지속적으로 성장하고 있으며, 재무 건전성을 유지하고 있다는 긍정적인 신호로 볼 수 있어요.\n",
      "\n",
      "**3. 종합적으로 보면,**\n",
      "네이버는 2024년에 들어서면서 매출과 이익이 증가하고, 자산이 늘어나면서 부채가 줄어드는 긍정적인 재무 상태를 유지하고 있는 상황이에요. 이는 네이버의 사업이 안정적으로 성장하고 있으며, 재무적으로도 건전한 상태를 유지하고 있음을 보여줘요.\n",
      "\n",
      "더 깊이 있는 분석이 필요하시면 말씀해주세요!\n"
     ]
    }
   ],
   "execution_count": 6
  },
  {
   "metadata": {},
   "cell_type": "markdown",
   "source": "### 고급",
   "id": "588bdedcf09632a6"
  },
  {
   "metadata": {
    "ExecuteTime": {
     "end_time": "2025-07-17T03:46:59.408424Z",
     "start_time": "2025-07-17T03:46:41.682419Z"
    }
   },
   "cell_type": "code",
   "source": [
    "question = \"네이버 2024년 사업 재무상태 어때?\"\n",
    "response = run_flexible_rag3(question)\n",
    "print(response)"
   ],
   "id": "371bf98d58e1bc90",
   "outputs": [
    {
     "name": "stdout",
     "output_type": "stream",
     "text": [
      "📥 hybrid 처리 시작\n",
      "안녕하십니까. 네이버 2024년 사업 재무상태에 대한 심층 분석 결과를 말씀드리겠습니다.\n",
      "\n",
      "**먼저 핵심 결론부터 말씀드리면,**\n",
      "네이버의 2024년 재무상태는 전반적으로 긍정적입니다. 자산과 자본이 증가하였으며, 영업이익과 당기순이익도 개선되었습니다.\n",
      "\n",
      "**구체적인 재무 성과를 자세히 살펴보면,**\n",
      "2024년 당기 자산총계는 약 381,679억원으로 전기 대비 증가하였습니다. 유동자산은 약 93,749억원으로 증가하였고, 비유동자산도 약 287,930억원으로 소폭 증가하였습니다. 현금및현금성자산은 약 41,955억원으로 전기 대비 증가하였습니다. 영업이익은 약 19,793억원으로 전기 대비 증가하였으며, 당기순이익은 약 19,320억원으로 크게 증가하였습니다.\n",
      "\n",
      "**이러한 재무적 변화는 사업 현황과 밀접한 관련이 있습니다.**\n",
      "네이버는 인터넷 검색사이트 운영 등 온라인 정보제공 사업을 주력으로 하고 있으며, 클라우드 서비스, 웹툰 서비스 등 다양한 사업 포트폴리오를 보유하고 있습니다. 이러한 사업 다각화가 매출 증가와 수익성 개선에 기여한 것으로 보입니다.\n",
      "\n",
      "**특히, 이번 재무제표에는 회계기준의 영향도 있었는데요,**\n",
      "제공된 자료에서는 특정 회계기준의 변경이 재무제표에 미친 영향에 대한 구체적인 언급은 없었습니다. 따라서 회계기준의 직접적인 영향은 확인되지 않았습니다.\n",
      "\n",
      "**이 모든 것을 종합하여 다음과 같은 인사이트를 드립니다.**\n",
      "네이버는 2024년에도 안정적인 재무상태를 유지하고 있으며, 사업 다각화와 수익성 개선을 통해 긍정적인 성과를 보이고 있습니다. 앞으로도 이러한 추세를 유지하기 위해 지속적인 혁신과 시장 확장이 필요할 것으로 보입니다.\n",
      "\n",
      "추가적인 분석이나 다른 관점의 해석이 필요하시면 언제든지 말씀해주십시오.\n"
     ]
    }
   ],
   "execution_count": 7
  },
  {
   "metadata": {},
   "cell_type": "markdown",
   "source": "## 재무제표 rag chain 테스트",
   "id": "5bee17862d2102d4"
  },
  {
   "metadata": {},
   "cell_type": "markdown",
   "source": "### 초급",
   "id": "3ec2c90abd857b6c"
  },
  {
   "metadata": {
    "ExecuteTime": {
     "end_time": "2025-07-17T03:47:06.271453Z",
     "start_time": "2025-07-17T03:46:59.418534Z"
    }
   },
   "cell_type": "code",
   "source": [
    "question = \"삼성전자 2024년 재무제표 어때?\"\n",
    "response = run_flexible_rag1(question)\n",
    "print(response)"
   ],
   "id": "992448479a211894",
   "outputs": [
    {
     "name": "stdout",
     "output_type": "stream",
     "text": [
      "📥 financial 처리 시작\n",
      "안녕하세요! 삼성전자의 2024년 성적표를 쉽고 간단하게 알려드릴게요.\n",
      "\n",
      "**✅ 돈은 작년보다 잘 벌었나요?**\n",
      "네, 아주 잘 벌었어요!\n",
      "- **매출** (회사의 1년 총 판매금액)은 **16.2% 늘어난 3,008,709억원**을 기록했고요,\n",
      "- **영업이익** (장사해서 실제로 남긴 돈)은 무려 **398.3%나 늘어난 32,726억원**이에요. 작년보다 장사를 훨씬 잘했네요!\n",
      "\n",
      "**✅ 회사는 튼튼한가요?**\n",
      "네, 튼튼해요!\n",
      "- **자산** (회사가 가진 모든 재산)은 **12.9% 늘어난 5,145,319억원**이고요,\n",
      "- **부채** (갚아야 할 돈)는 **92,228억원**에서 **112,340억원**으로 조금 늘었지만, 자산에 비하면 아주 적은 수준이에요.\n",
      "\n",
      "**한마디로,** 삼성전자는 2024년에 돈도 훨씬 잘 벌고 회사도 더 튼튼해졌어요!\n",
      "\n",
      "더 궁금한 점 있으시면 편하게 물어보세요.\n"
     ]
    }
   ],
   "execution_count": 8
  },
  {
   "metadata": {},
   "cell_type": "markdown",
   "source": "### 중급",
   "id": "d29ddcd0f79f5118"
  },
  {
   "metadata": {
    "ExecuteTime": {
     "end_time": "2025-07-17T03:47:27.342249Z",
     "start_time": "2025-07-17T03:47:06.282143Z"
    }
   },
   "cell_type": "code",
   "source": [
    "question = \"삼성전자 2024년 재무제표 어때?\"\n",
    "response = run_flexible_rag2(question)\n",
    "print(response)"
   ],
   "id": "2624a4c17ca01a76",
   "outputs": [
    {
     "name": "stdout",
     "output_type": "stream",
     "text": [
      "📥 financial 처리 시작\n",
      "안녕하세요! 삼성전자의 재무 데이터를 분석하여 설명해드릴게요.\n",
      "\n",
      "📊 **연도별 주요 실적**\n",
      "\n",
      "- **매출액**: 2024년 300,870,903억 원, 2023년 258,935,494억 원 (16.2% 증가)\n",
      "- **영업이익**: 2024년 32,725,961억 원, 2023년 6,566,976억 원 (398.3% 증가)\n",
      "- **당기순이익**: 2024년 34,451,351억 원, 2023년 15,487,100억 원 (122.4% 증가)\n",
      "\n",
      "**실적 변화를 보면,**\n",
      "- 매출은 2023년 대비 2024년에 16.2% 증가하여 300,870,903억 원을 기록했습니다.\n",
      "- 영업이익은 같은 기간 398.3% 증가했고, 순이익은 122.4% 증가했습니다.\n",
      "\n",
      "📌 **요약하자면**, 매출과 수익성이 크게 개선되는 흐름을 보이고 있으며, 특히 영업이익의 급격한 증가가 눈에 띕니다. 이는 비용 절감이나 매출 증가에 따른 수익성 개선을 시사할 수 있습니다. 안정성 또는 미래 전망은 추가 분석이 필요할 수 있습니다.\n",
      "\n",
      "더 궁금한 항목이 있으시면 언제든지 질문해주세요!\n"
     ]
    }
   ],
   "execution_count": 9
  },
  {
   "metadata": {},
   "cell_type": "markdown",
   "source": "### 고급",
   "id": "e4eebd46e29b83e3"
  },
  {
   "metadata": {
    "ExecuteTime": {
     "end_time": "2025-07-17T03:49:15.735229Z",
     "start_time": "2025-07-17T03:48:58.464103Z"
    }
   },
   "cell_type": "code",
   "source": [
    "question = \"삼성전자 2024년 재무제표 어때?\"\n",
    "response = run_flexible_rag3(question)\n",
    "print(response)"
   ],
   "id": "dc0b7ee1fce92671",
   "outputs": [
    {
     "name": "stdout",
     "output_type": "stream",
     "text": [
      "📥 financial 처리 시작\n",
      "안녕하십니까. 삼성전자의 재무제표를 비교 분석한 결과를 말씀드리겠습니다.\n",
      "\n",
      "먼저, 최근 2개년 재무 현황을 비교 분석한 결과입니다:\n",
      "\n",
      "**[손익 현황]**\n",
      "- **매출액**\n",
      "  - '23년: 2,589,355억원 | '24년: 3,008,709억원 | 증감: +419,354억원 (↑16.2%)\n",
      "  - *해석: 전반적인 사업 규모가 크게 확장되었습니다.*\n",
      "- **매출총이익**\n",
      "  - '23년: 7,854,691억원 | '24년: 11,430,863억원 | 증감: +3,576,172억원 (↑45.5%)\n",
      "  - *해석: 원가 관리를 통한 수익 창출 능력이 개선되었습니다.*\n",
      "- **영업이익**\n",
      "  - '23년: 6,566억원 | '24년: 32,725억원 | 증감: +26,159억원 (↑398.3%)\n",
      "  - *해석: 본업에서의 이익 창출 능력이 폭발적으로 증가했습니다.*\n",
      "- **당기순이익**\n",
      "  - '23년: 15,487억원 | '24년: 34,451억원 | 증감: +18,964억원 (↑122.4%)\n",
      "  - *해석: 순이익이 크게 증가하여 전반적인 수익성이 개선되었습니다.*\n",
      "\n",
      "**[재무 상태]**\n",
      "- **자산총계**\n",
      "  - '23년: 4,559,060억원 | '24년: 5,145,319억원 | 증감: +586,259억원 (↑12.9%)\n",
      "  - *해석: 기업의 전체적인 규모가 꾸준히 성장하고 있습니다.*\n",
      "- **부채총계**\n",
      "  - '23년: 922,281억원 | '24년: 1,123,398억원 | 증감: +201,117억원 (↑21.8%)\n",
      "  - *해석: 사업 확장에 따라 부채 활용도 함께 증가했습니다.*\n",
      "- **자본총계**\n",
      "  - '23년: 3,636,779억원 | '24년: 4,021,920억원 | 증감: +385,141억원 (↑10.6%)\n",
      "  - *해석: 이익 누적 등을 통해 자기자본이 건실하게 증가했습니다.*\n",
      "\n",
      "다음으로, 이 수치들을 바탕으로 회사의 핵심 역량을 3가지 관점에서 분석하겠습니다.\n",
      "\n",
      "- **수익성:** 2024년 영업이익률은 10.9%로, 전년(2.5%) 대비 크게 개선되었습니다. 이는 본업의 수익 창출력이 강화되었음을 의미합니다.\n",
      "- **안정성:** 부채비율은 27.9%로, 전년(25.4%) 대비 소폭 증가했으나 여전히 매우 안정적인 수준을 유지하고 있습니다.\n",
      "- **효율성:** ROE는 8.6%로, 주주자본을 활용한 이익 창출 효율성이 전년 대비 크게 향상되었습니다.\n",
      "\n",
      "**종합적으로,** 삼성전자는 2024년에 외형 성장과 수익성 개선을 동시에 달성하며 뛰어난 성과를 보였습니다. 부채가 다소 늘었지만, 전반적인 재무 건전성은 여전히 우수합니다.\n",
      "\n",
      "더 궁금하신 항목이 있다면 추가로 분석해드리겠습니다.\n"
     ]
    }
   ],
   "execution_count": 11
  },
  {
   "metadata": {},
   "cell_type": "markdown",
   "source": "## 회계기준서 rag chain 테스트",
   "id": "e310c0f8a2ddd923"
  },
  {
   "metadata": {},
   "cell_type": "markdown",
   "source": "### 초급",
   "id": "106f7c68bd000ed"
  },
  {
   "metadata": {
    "ExecuteTime": {
     "end_time": "2025-07-17T03:47:32.808686500Z",
     "start_time": "2025-07-17T00:26:06.569839Z"
    }
   },
   "cell_type": "code",
   "source": [
    "question = \"재고 자산 회계 처리 방법이 뭐야???\"\n",
    "response = run_flexible_rag1(question)\n",
    "print(response)"
   ],
   "id": "38d610e61af73d49",
   "outputs": [
    {
     "name": "stdout",
     "output_type": "stream",
     "text": [
      "📥 accounting 처리 시작\n",
      "안녕하세요! 재고 자산 회계 처리 방법이 궁금하시군요. 아주 쉽게 설명해드릴게요.\n",
      "\n",
      "**한마디로 말하면,** 재고 자산의 가치를 어떻게 계산하고 기록할지 정하는 방법이에요.\n",
      "\n",
      "예를 들어, 가게에서 물건을 사서 팔 때, 그 물건의 원가를 어떻게 계산할지 정하는 거라고 생각하면 쉬워요. 물건을 먼저 산 순서대로 계산하는 방법(선입선출법)이나 평균을 내서 계산하는 방법(가중평균법) 등이 있어요.\n",
      "\n",
      "더 궁금한 점 있으시면 편하게 물어보세요!\n"
     ]
    }
   ],
   "execution_count": 10
  },
  {
   "metadata": {},
   "cell_type": "markdown",
   "source": "### 중급",
   "id": "a9062c4fb92a3854"
  },
  {
   "metadata": {
    "ExecuteTime": {
     "end_time": "2025-07-17T03:47:32.812618800Z",
     "start_time": "2025-07-17T00:26:17.287982Z"
    }
   },
   "cell_type": "code",
   "source": [
    "question = \"재고 자산 회계 처리 방법이 뭐야???\"\n",
    "response = run_flexible_rag2(question)\n",
    "print(response)"
   ],
   "id": "e4555d2a65de0b9",
   "outputs": [
    {
     "name": "stdout",
     "output_type": "stream",
     "text": [
      "📥 accounting 처리 시작\n",
      "안녕하세요! 재고 자산 회계 처리 방법에 대해 실무 중심으로 설명해드릴게요.\n",
      "\n",
      "**먼저, 재고 자산 회계 처리란** 재고자산의 원가를 결정하고, 이를 자산으로 인식하여 관련 수익이 인식될 때까지 장부에 표시하는 과정을 의미해요. 이 과정은 재고자산의 원가결정 및 순실현가능가치로 감액하는 것을 포함한 후속적 비용인식에 대한 지침을 제공합니다.\n",
      "\n",
      "**실무에서는** 재고자산의 원가를 선입선출법(FIFO)이나 가중평균법을 사용하여 결정하고, 순실현가능가치로 감액하는 저가법을 적용하는 방식으로 처리합니다. **가장 중요한 점은** 재고자산의 원가를 회수하기 어려운 경우(예: 손상, 진부화, 판매가격 하락 등)에는 순실현가능가치로 감액하여야 한다는 거예요.\n",
      "\n",
      "혹시 특정 상황에서의 적용 방법이 궁금하시면 더 구체적으로 질문해주세요!\n"
     ]
    }
   ],
   "execution_count": 11
  },
  {
   "metadata": {},
   "cell_type": "markdown",
   "source": "### 고급",
   "id": "be990b5fa9a85a84"
  },
  {
   "metadata": {
    "ExecuteTime": {
     "end_time": "2025-07-17T03:47:32.813624200Z",
     "start_time": "2025-07-17T00:26:25.762938Z"
    }
   },
   "cell_type": "code",
   "source": [
    "question = \"재고 자산 회계 처리 방법이 뭐야???\"\n",
    "response = run_flexible_rag3(question)\n",
    "print(response)"
   ],
   "id": "62b7d018c2516a94",
   "outputs": [
    {
     "name": "stdout",
     "output_type": "stream",
     "text": [
      "📥 accounting 처리 시작\n",
      "안녕하십니까. 재고자산 회계 처리 방법에 대한 회계기준의 핵심 원칙을 설명드리겠습니다.\n",
      "\n",
      "이 내용은 주로 '기업회계기준서 제1002호 재고자산'에서 다루고 있으며, 아래와 같은 핵심 요소들을 중심으로 판단하게 됩니다.\n",
      "\n",
      "1. **인식**: 재고자산은 자산으로 인식되며, 이는 관련 수익이 인식될 때까지 장부에 표시됩니다. 재고자산의 인식은 그 원가 금액을 적절하게 결정하는 것이 중요합니다.\n",
      "\n",
      "2. **측정**: 재고자산의 원가는 선입선출법(FIFO)이나 가중평균법을 사용하여 결정할 수 있습니다. 후입선출법(LIFO)은 삭제되었습니다. 재고자산의 원가는 순실현가능가치로 감액될 수 있으며, 이는 자산의 장부금액이 판매나 사용으로부터 실현될 것으로 기대되는 금액을 초과하지 않도록 합니다.\n",
      "\n",
      "3. **원가 배분**: 재고자산의 원가를 배분하는 방법으로는 선입선출법과 가중평균법이 있으며, 성격과 용도 면에서 유사한 재고자산에는 동일한 단위원가 결정방법을 적용해야 합니다.\n",
      "\n",
      "4. **특수한 경우**: 농수산물, 임산물, 광물자원 등의 경우에는 순실현가능가치로 측정할 수 있으며, 일반상품 중개기업의 경우에는 공정가치에서 처분부대원가를 뺀 금액으로 측정할 수 있습니다.\n",
      "\n",
      "이와 같은 원칙들은 재고자산의 회계처리를 명확하게 하고, 재무제표의 신뢰성을 높이는 데 기여합니다. 추가적인 세부사항이나 특정 상황에 대한 내용은 제공된 기준서에서 확인하실 수 있습니다.\n"
     ]
    }
   ],
   "execution_count": 12
  },
  {
   "metadata": {},
   "cell_type": "markdown",
   "source": "## 모르는 정보에 대한 질문 테스트",
   "id": "dd944f71956c978b"
  },
  {
   "metadata": {
    "ExecuteTime": {
     "end_time": "2025-07-17T03:47:32.813624200Z",
     "start_time": "2025-07-16T14:18:31.830484Z"
    }
   },
   "cell_type": "code",
   "outputs": [
    {
     "name": "stdout",
     "output_type": "stream",
     "text": [
      "📥 financial 처리 시작\n",
      "\"요청하신 연도의 재무제표 데이터가 제공되지 않아 분석이 어렵습니다.\"\n"
     ]
    }
   ],
   "execution_count": 16,
   "source": [
    "question = \"kakao 2024년 재무제표\"\n",
    "response = run_flexible_rag2(question)\n",
    "print(response)"
   ],
   "id": "22ffc23ae6b0f7c0"
  },
  {
   "metadata": {
    "ExecuteTime": {
     "end_time": "2025-07-17T03:47:32.827726900Z",
     "start_time": "2025-07-16T20:04:08.754405Z"
    }
   },
   "cell_type": "code",
   "source": [
    "question = \"네이비 2023년 재무제표\"\n",
    "response = run_flexible_rag3(question)\n",
    "print(response)"
   ],
   "id": "31177240a5555a1c",
   "outputs": [
    {
     "name": "stdout",
     "output_type": "stream",
     "text": [
      "📥 financial 처리 시작\n",
      "\"요청하신 연도의 재무제표 데이터가 제공되지 않아 분석이 어렵습니다.\"\n"
     ]
    }
   ],
   "execution_count": 4
  },
  {
   "metadata": {
    "ExecuteTime": {
     "end_time": "2025-07-17T03:47:32.828730800Z",
     "start_time": "2025-07-17T00:26:53.048499Z"
    }
   },
   "cell_type": "code",
   "source": [
    "question = \"오늘 뭐 하지?\"\n",
    "response = run_flexible_rag1(question)\n",
    "print(response)"
   ],
   "id": "8060a4e8441b475e",
   "outputs": [
    {
     "name": "stdout",
     "output_type": "stream",
     "text": [
      "일반 질문\n",
      "해당 내용은 제가 알지 못하는 분야입니다.\n"
     ]
    }
   ],
   "execution_count": 14
  },
  {
   "metadata": {
    "ExecuteTime": {
     "end_time": "2025-07-17T03:47:32.829744100Z",
     "start_time": "2025-07-17T00:27:17.642911Z"
    }
   },
   "cell_type": "code",
   "source": [
    "question = \"오늘 뭐 하지?\"\n",
    "response = run_flexible_rag2(question)\n",
    "print(response)"
   ],
   "id": "a27190f1cb2c23ff",
   "outputs": [
    {
     "name": "stdout",
     "output_type": "stream",
     "text": [
      "일반 질문\n",
      "해당 내용은 제가 알지 못하는 분야입니다.\n"
     ]
    }
   ],
   "execution_count": 15
  },
  {
   "metadata": {
    "ExecuteTime": {
     "end_time": "2025-07-17T03:47:32.830744200Z",
     "start_time": "2025-07-17T00:27:19.827976Z"
    }
   },
   "cell_type": "code",
   "source": [
    "question = \"오늘 뭐 하지?\"\n",
    "response = run_flexible_rag3(question)\n",
    "print(response)"
   ],
   "id": "51becfbaaf0a6cf8",
   "outputs": [
    {
     "name": "stdout",
     "output_type": "stream",
     "text": [
      "일반 질문\n",
      "해당 내용은 제가 알지 못하는 분야입니다.\n"
     ]
    }
   ],
   "execution_count": 16
  },
  {
   "metadata": {},
   "cell_type": "code",
   "outputs": [],
   "execution_count": null,
   "source": "",
   "id": "47cdfdd2b229ed86"
  }
 ],
 "metadata": {
  "kernelspec": {
   "display_name": "Python 3",
   "language": "python",
   "name": "python3"
  },
  "language_info": {
   "codemirror_mode": {
    "name": "ipython",
    "version": 2
   },
   "file_extension": ".py",
   "mimetype": "text/x-python",
   "name": "python",
   "nbconvert_exporter": "python",
   "pygments_lexer": "ipython2",
   "version": "2.7.6"
  }
 },
 "nbformat": 4,
 "nbformat_minor": 5
}

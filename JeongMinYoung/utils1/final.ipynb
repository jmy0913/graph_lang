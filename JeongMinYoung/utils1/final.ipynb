{
 "cells": [
  {
   "metadata": {
    "ExecuteTime": {
     "end_time": "2025-07-28T15:34:50.451570Z",
     "start_time": "2025-07-28T15:34:48.080505Z"
    }
   },
   "cell_type": "code",
   "source": "!pip install langgraph langchain-openai langchain-community langchain-tavily",
   "id": "2f9c3ab0c123ec8f",
   "outputs": [
    {
     "name": "stdout",
     "output_type": "stream",
     "text": [
      "Requirement already satisfied: langgraph in c:\\users\\miny0\\anaconda3\\envs\\ai_basic_env\\lib\\site-packages (0.5.1)\n",
      "Requirement already satisfied: langchain-openai in c:\\users\\miny0\\anaconda3\\envs\\ai_basic_env\\lib\\site-packages (0.3.27)\n",
      "Requirement already satisfied: langchain-community in c:\\users\\miny0\\anaconda3\\envs\\ai_basic_env\\lib\\site-packages (0.3.27)\n",
      "Requirement already satisfied: langchain-tavily in c:\\users\\miny0\\anaconda3\\envs\\ai_basic_env\\lib\\site-packages (0.2.11)\n",
      "Requirement already satisfied: langchain-core>=0.1 in c:\\users\\miny0\\anaconda3\\envs\\ai_basic_env\\lib\\site-packages (from langgraph) (0.3.68)\n",
      "Requirement already satisfied: langgraph-checkpoint<3.0.0,>=2.1.0 in c:\\users\\miny0\\anaconda3\\envs\\ai_basic_env\\lib\\site-packages (from langgraph) (2.1.0)\n",
      "Requirement already satisfied: langgraph-prebuilt<0.6.0,>=0.5.0 in c:\\users\\miny0\\anaconda3\\envs\\ai_basic_env\\lib\\site-packages (from langgraph) (0.5.2)\n",
      "Requirement already satisfied: langgraph-sdk<0.2.0,>=0.1.42 in c:\\users\\miny0\\anaconda3\\envs\\ai_basic_env\\lib\\site-packages (from langgraph) (0.1.72)\n",
      "Requirement already satisfied: pydantic>=2.7.4 in c:\\users\\miny0\\anaconda3\\envs\\ai_basic_env\\lib\\site-packages (from langgraph) (2.11.4)\n",
      "Requirement already satisfied: xxhash>=3.5.0 in c:\\users\\miny0\\anaconda3\\envs\\ai_basic_env\\lib\\site-packages (from langgraph) (3.5.0)\n",
      "Requirement already satisfied: ormsgpack>=1.10.0 in c:\\users\\miny0\\anaconda3\\envs\\ai_basic_env\\lib\\site-packages (from langgraph-checkpoint<3.0.0,>=2.1.0->langgraph) (1.10.0)\n",
      "Requirement already satisfied: httpx>=0.25.2 in c:\\users\\miny0\\anaconda3\\envs\\ai_basic_env\\lib\\site-packages (from langgraph-sdk<0.2.0,>=0.1.42->langgraph) (0.28.1)\n",
      "Requirement already satisfied: orjson>=3.10.1 in c:\\users\\miny0\\anaconda3\\envs\\ai_basic_env\\lib\\site-packages (from langgraph-sdk<0.2.0,>=0.1.42->langgraph) (3.10.18)\n",
      "Requirement already satisfied: openai<2.0.0,>=1.86.0 in c:\\users\\miny0\\anaconda3\\envs\\ai_basic_env\\lib\\site-packages (from langchain-openai) (1.93.0)\n",
      "Requirement already satisfied: tiktoken<1,>=0.7 in c:\\users\\miny0\\anaconda3\\envs\\ai_basic_env\\lib\\site-packages (from langchain-openai) (0.9.0)\n",
      "Requirement already satisfied: langsmith>=0.3.45 in c:\\users\\miny0\\anaconda3\\envs\\ai_basic_env\\lib\\site-packages (from langchain-core>=0.1->langgraph) (0.4.4)\n",
      "Requirement already satisfied: tenacity!=8.4.0,<10.0.0,>=8.1.0 in c:\\users\\miny0\\anaconda3\\envs\\ai_basic_env\\lib\\site-packages (from langchain-core>=0.1->langgraph) (8.5.0)\n",
      "Requirement already satisfied: jsonpatch<2.0,>=1.33 in c:\\users\\miny0\\anaconda3\\envs\\ai_basic_env\\lib\\site-packages (from langchain-core>=0.1->langgraph) (1.33)\n",
      "Requirement already satisfied: PyYAML>=5.3 in c:\\users\\miny0\\anaconda3\\envs\\ai_basic_env\\lib\\site-packages (from langchain-core>=0.1->langgraph) (6.0.2)\n",
      "Requirement already satisfied: packaging<25,>=23.2 in c:\\users\\miny0\\anaconda3\\envs\\ai_basic_env\\lib\\site-packages (from langchain-core>=0.1->langgraph) (24.2)\n",
      "Requirement already satisfied: typing-extensions>=4.7 in c:\\users\\miny0\\anaconda3\\envs\\ai_basic_env\\lib\\site-packages (from langchain-core>=0.1->langgraph) (4.14.1)\n",
      "Requirement already satisfied: jsonpointer>=1.9 in c:\\users\\miny0\\anaconda3\\envs\\ai_basic_env\\lib\\site-packages (from jsonpatch<2.0,>=1.33->langchain-core>=0.1->langgraph) (3.0.0)\n",
      "Requirement already satisfied: anyio<5,>=3.5.0 in c:\\users\\miny0\\anaconda3\\envs\\ai_basic_env\\lib\\site-packages (from openai<2.0.0,>=1.86.0->langchain-openai) (4.9.0)\n",
      "Requirement already satisfied: distro<2,>=1.7.0 in c:\\users\\miny0\\anaconda3\\envs\\ai_basic_env\\lib\\site-packages (from openai<2.0.0,>=1.86.0->langchain-openai) (1.9.0)\n",
      "Requirement already satisfied: jiter<1,>=0.4.0 in c:\\users\\miny0\\anaconda3\\envs\\ai_basic_env\\lib\\site-packages (from openai<2.0.0,>=1.86.0->langchain-openai) (0.10.0)\n",
      "Requirement already satisfied: sniffio in c:\\users\\miny0\\anaconda3\\envs\\ai_basic_env\\lib\\site-packages (from openai<2.0.0,>=1.86.0->langchain-openai) (1.3.1)\n",
      "Requirement already satisfied: tqdm>4 in c:\\users\\miny0\\anaconda3\\envs\\ai_basic_env\\lib\\site-packages (from openai<2.0.0,>=1.86.0->langchain-openai) (4.67.1)\n",
      "Requirement already satisfied: idna>=2.8 in c:\\users\\miny0\\anaconda3\\envs\\ai_basic_env\\lib\\site-packages (from anyio<5,>=3.5.0->openai<2.0.0,>=1.86.0->langchain-openai) (3.10)\n",
      "Requirement already satisfied: certifi in c:\\users\\miny0\\anaconda3\\envs\\ai_basic_env\\lib\\site-packages (from httpx>=0.25.2->langgraph-sdk<0.2.0,>=0.1.42->langgraph) (2025.4.26)\n",
      "Requirement already satisfied: httpcore==1.* in c:\\users\\miny0\\anaconda3\\envs\\ai_basic_env\\lib\\site-packages (from httpx>=0.25.2->langgraph-sdk<0.2.0,>=0.1.42->langgraph) (1.0.9)\n",
      "Requirement already satisfied: h11>=0.16 in c:\\users\\miny0\\anaconda3\\envs\\ai_basic_env\\lib\\site-packages (from httpcore==1.*->httpx>=0.25.2->langgraph-sdk<0.2.0,>=0.1.42->langgraph) (0.16.0)\n",
      "Requirement already satisfied: annotated-types>=0.6.0 in c:\\users\\miny0\\anaconda3\\envs\\ai_basic_env\\lib\\site-packages (from pydantic>=2.7.4->langgraph) (0.7.0)\n",
      "Requirement already satisfied: pydantic-core==2.33.2 in c:\\users\\miny0\\anaconda3\\envs\\ai_basic_env\\lib\\site-packages (from pydantic>=2.7.4->langgraph) (2.33.2)\n",
      "Requirement already satisfied: typing-inspection>=0.4.0 in c:\\users\\miny0\\anaconda3\\envs\\ai_basic_env\\lib\\site-packages (from pydantic>=2.7.4->langgraph) (0.4.1)\n",
      "Requirement already satisfied: regex>=2022.1.18 in c:\\users\\miny0\\anaconda3\\envs\\ai_basic_env\\lib\\site-packages (from tiktoken<1,>=0.7->langchain-openai) (2024.11.6)\n",
      "Requirement already satisfied: requests>=2.26.0 in c:\\users\\miny0\\anaconda3\\envs\\ai_basic_env\\lib\\site-packages (from tiktoken<1,>=0.7->langchain-openai) (2.32.3)\n",
      "Requirement already satisfied: langchain<1.0.0,>=0.3.26 in c:\\users\\miny0\\anaconda3\\envs\\ai_basic_env\\lib\\site-packages (from langchain-community) (0.3.26)\n",
      "Requirement already satisfied: SQLAlchemy<3,>=1.4 in c:\\users\\miny0\\anaconda3\\envs\\ai_basic_env\\lib\\site-packages (from langchain-community) (2.0.41)\n",
      "Requirement already satisfied: aiohttp<4.0.0,>=3.8.3 in c:\\users\\miny0\\anaconda3\\envs\\ai_basic_env\\lib\\site-packages (from langchain-community) (3.12.13)\n",
      "Requirement already satisfied: dataclasses-json<0.7,>=0.5.7 in c:\\users\\miny0\\anaconda3\\envs\\ai_basic_env\\lib\\site-packages (from langchain-community) (0.6.7)\n",
      "Requirement already satisfied: pydantic-settings<3.0.0,>=2.4.0 in c:\\users\\miny0\\anaconda3\\envs\\ai_basic_env\\lib\\site-packages (from langchain-community) (2.10.1)\n",
      "Requirement already satisfied: httpx-sse<1.0.0,>=0.4.0 in c:\\users\\miny0\\anaconda3\\envs\\ai_basic_env\\lib\\site-packages (from langchain-community) (0.4.1)\n",
      "Requirement already satisfied: numpy>=1.26.2 in c:\\users\\miny0\\anaconda3\\envs\\ai_basic_env\\lib\\site-packages (from langchain-community) (2.3.1)\n",
      "Requirement already satisfied: aiohappyeyeballs>=2.5.0 in c:\\users\\miny0\\anaconda3\\envs\\ai_basic_env\\lib\\site-packages (from aiohttp<4.0.0,>=3.8.3->langchain-community) (2.6.1)\n",
      "Requirement already satisfied: aiosignal>=1.1.2 in c:\\users\\miny0\\anaconda3\\envs\\ai_basic_env\\lib\\site-packages (from aiohttp<4.0.0,>=3.8.3->langchain-community) (1.4.0)\n",
      "Requirement already satisfied: attrs>=17.3.0 in c:\\users\\miny0\\anaconda3\\envs\\ai_basic_env\\lib\\site-packages (from aiohttp<4.0.0,>=3.8.3->langchain-community) (25.3.0)\n",
      "Requirement already satisfied: frozenlist>=1.1.1 in c:\\users\\miny0\\anaconda3\\envs\\ai_basic_env\\lib\\site-packages (from aiohttp<4.0.0,>=3.8.3->langchain-community) (1.7.0)\n",
      "Requirement already satisfied: multidict<7.0,>=4.5 in c:\\users\\miny0\\anaconda3\\envs\\ai_basic_env\\lib\\site-packages (from aiohttp<4.0.0,>=3.8.3->langchain-community) (6.6.3)\n",
      "Requirement already satisfied: propcache>=0.2.0 in c:\\users\\miny0\\anaconda3\\envs\\ai_basic_env\\lib\\site-packages (from aiohttp<4.0.0,>=3.8.3->langchain-community) (0.3.2)\n",
      "Requirement already satisfied: yarl<2.0,>=1.17.0 in c:\\users\\miny0\\anaconda3\\envs\\ai_basic_env\\lib\\site-packages (from aiohttp<4.0.0,>=3.8.3->langchain-community) (1.20.1)\n",
      "Requirement already satisfied: marshmallow<4.0.0,>=3.18.0 in c:\\users\\miny0\\anaconda3\\envs\\ai_basic_env\\lib\\site-packages (from dataclasses-json<0.7,>=0.5.7->langchain-community) (3.26.1)\n",
      "Requirement already satisfied: typing-inspect<1,>=0.4.0 in c:\\users\\miny0\\anaconda3\\envs\\ai_basic_env\\lib\\site-packages (from dataclasses-json<0.7,>=0.5.7->langchain-community) (0.9.0)\n",
      "Requirement already satisfied: langchain-text-splitters<1.0.0,>=0.3.8 in c:\\users\\miny0\\anaconda3\\envs\\ai_basic_env\\lib\\site-packages (from langchain<1.0.0,>=0.3.26->langchain-community) (0.3.8)\n",
      "Requirement already satisfied: python-dotenv>=0.21.0 in c:\\users\\miny0\\anaconda3\\envs\\ai_basic_env\\lib\\site-packages (from pydantic-settings<3.0.0,>=2.4.0->langchain-community) (1.1.1)\n",
      "Requirement already satisfied: charset_normalizer<4,>=2 in c:\\users\\miny0\\anaconda3\\envs\\ai_basic_env\\lib\\site-packages (from requests>=2.26.0->tiktoken<1,>=0.7->langchain-openai) (3.4.2)\n",
      "Requirement already satisfied: urllib3<3,>=1.21.1 in c:\\users\\miny0\\anaconda3\\envs\\ai_basic_env\\lib\\site-packages (from requests>=2.26.0->tiktoken<1,>=0.7->langchain-openai) (2.5.0)\n",
      "Requirement already satisfied: greenlet>=1 in c:\\users\\miny0\\anaconda3\\envs\\ai_basic_env\\lib\\site-packages (from SQLAlchemy<3,>=1.4->langchain-community) (3.2.3)\n",
      "Requirement already satisfied: mypy-extensions>=0.3.0 in c:\\users\\miny0\\anaconda3\\envs\\ai_basic_env\\lib\\site-packages (from typing-inspect<1,>=0.4.0->dataclasses-json<0.7,>=0.5.7->langchain-community) (1.1.0)\n",
      "Requirement already satisfied: requests-toolbelt<2.0.0,>=1.0.0 in c:\\users\\miny0\\anaconda3\\envs\\ai_basic_env\\lib\\site-packages (from langsmith>=0.3.45->langchain-core>=0.1->langgraph) (1.0.0)\n",
      "Requirement already satisfied: zstandard<0.24.0,>=0.23.0 in c:\\users\\miny0\\anaconda3\\envs\\ai_basic_env\\lib\\site-packages (from langsmith>=0.3.45->langchain-core>=0.1->langgraph) (0.23.0)\n",
      "Requirement already satisfied: colorama in c:\\users\\miny0\\anaconda3\\envs\\ai_basic_env\\lib\\site-packages (from tqdm>4->openai<2.0.0,>=1.86.0->langchain-openai) (0.4.6)\n"
     ]
    }
   ],
   "execution_count": 1
  },
  {
   "metadata": {
    "ExecuteTime": {
     "end_time": "2025-07-28T15:35:18.005847Z",
     "start_time": "2025-07-28T15:34:50.462117Z"
    }
   },
   "cell_type": "code",
   "source": [
    "from langgraph.graph import StateGraph, START, END\n",
    "from typing import Literal, TypedDict, List, Optional\n",
    "\n",
    "# 체인 및 기타 함수들\n",
    "from chain_setting import create_chain\n",
    "from normalize_code_search import parse_extracted_text\n",
    "from normalize_code_search import find_corporation_code, parse_extracted_text\n",
    "from retreiver_setting import faiss_retriever_loading\n",
    "\n",
    "accounting_retriever, business_retriever, business_retriever2, self_retriever = faiss_retriever_loading()"
   ],
   "id": "462539ee3689f05c",
   "outputs": [
    {
     "name": "stderr",
     "output_type": "stream",
     "text": [
      "C:\\Workspaces\\JeongMinYoung\\utils1\\retreiver_setting.py:71: LangChainDeprecationWarning: The class `OpenAIEmbeddings` was deprecated in LangChain 0.0.9 and will be removed in 1.0. An updated version of the class exists in the :class:`~langchain-openai package and should be used instead. To use it run `pip install -U :class:`~langchain-openai` and import as `from :class:`~langchain_openai import OpenAIEmbeddings``.\n",
      "  embeddings = OpenAIEmbeddings(model=EMBEDDING_MODEL)\n"
     ]
    }
   ],
   "execution_count": 2
  },
  {
   "metadata": {
    "ExecuteTime": {
     "end_time": "2025-07-28T15:35:18.610096Z",
     "start_time": "2025-07-28T15:35:18.605439Z"
    }
   },
   "cell_type": "code",
   "source": "from api_get import get_financial_state",
   "id": "7a3dee1c0a603027",
   "outputs": [],
   "execution_count": 3
  },
  {
   "metadata": {
    "ExecuteTime": {
     "end_time": "2025-07-28T15:35:18.630894Z",
     "start_time": "2025-07-28T15:35:18.626762Z"
    }
   },
   "cell_type": "code",
   "source": "from normalize_code_search import parse_extracted_text",
   "id": "ff04ab6736e061b8",
   "outputs": [],
   "execution_count": 4
  },
  {
   "metadata": {
    "ExecuteTime": {
     "end_time": "2025-07-28T15:35:18.681520Z",
     "start_time": "2025-07-28T15:35:18.676521Z"
    }
   },
   "cell_type": "code",
   "source": [
    "from chain_setting import create_chain\n",
    "\n",
    "simple_chain, classification_chain, extract_chain,hybrid_chain1, hybrid_chain2, hybrid_chain3,account_chain1, account_chain2, account_chain3,business_chain1, business_chain2, business_chain3, financial_chain1, financial_chain2, financial_chain3 = create_chain()"
   ],
   "id": "16bc5737ddd2b3b5",
   "outputs": [],
   "execution_count": 5
  },
  {
   "cell_type": "code",
   "id": "initial_id",
   "metadata": {
    "collapsed": true,
    "ExecuteTime": {
     "end_time": "2025-07-28T15:35:18.707482Z",
     "start_time": "2025-07-28T15:35:18.702399Z"
    }
   },
   "source": [
    "from typing import TypedDict, Literal, List, Optional\n",
    "\n",
    "# 타입 정의\n",
    "class ChatTurn(TypedDict):\n",
    "    role: Literal[\"user\", \"assistant\"]\n",
    "    content: str\n",
    "\n",
    "class ChatState(TypedDict, total=False):\n",
    "    question: str\n",
    "    company: Optional[str]\n",
    "    year: Optional[List[str]]\n",
    "    route: Optional[str]\n",
    "    answer: Optional[str]\n",
    "    chat_history: List[ChatTurn]"
   ],
   "outputs": [],
   "execution_count": 6
  },
  {
   "metadata": {
    "ExecuteTime": {
     "end_time": "2025-07-28T15:35:18.740148Z",
     "start_time": "2025-07-28T15:35:18.732501Z"
    }
   },
   "cell_type": "code",
   "source": [
    "def handle_accounting1(state: ChatState) -> dict:\n",
    "    question = state[\"question\"]\n",
    "    docs = accounting_retriever.invoke(question)\n",
    "    context = \"\\n\\n\".join(doc.page_content for doc in docs)\n",
    "    answer = account_chain1.invoke({\"context\": context, \"question\": question})\n",
    "    updated_history = state.get(\"chat_history\", []).copy()\n",
    "    updated_history.append({\"role\": \"user\", \"content\": question})\n",
    "    updated_history.append({\"role\": \"assistant\", \"content\": answer})\n",
    "\n",
    "    return {\n",
    "        **state,\n",
    "        \"answer\": answer,\n",
    "        \"chat_history\": updated_history  # ✅ 추가\n",
    "    }"
   ],
   "id": "4db4d2a82bd049b6",
   "outputs": [],
   "execution_count": 7
  },
  {
   "metadata": {
    "ExecuteTime": {
     "end_time": "2025-07-28T15:35:18.792106Z",
     "start_time": "2025-07-28T15:35:18.787071Z"
    }
   },
   "cell_type": "code",
   "source": [
    "def extract_entities(state: ChatState) -> dict:\n",
    "    question = state[\"question\"]\n",
    "    prev_company = state.get(\"company\")\n",
    "    prev_years = state.get(\"year\")\n",
    "\n",
    "    result = extract_chain.invoke({\"question\": question})\n",
    "    # result는 문자열이므로 바로 사용\n",
    "    parsed = parse_extracted_text(result)  # ✅ result[\"text\"] → result\n",
    "\n",
    "    company = parsed.get(\"company\") or prev_company\n",
    "    years = parsed.get(\"year_list\") or prev_years or [\"2024\"]\n",
    "\n",
    "    return {\n",
    "        **state,\n",
    "        \"company\": company,\n",
    "        \"year\": years,\n",
    "    }"
   ],
   "id": "22c533fd51521b3f",
   "outputs": [],
   "execution_count": 8
  },
  {
   "metadata": {
    "ExecuteTime": {
     "end_time": "2025-07-28T15:35:18.832113Z",
     "start_time": "2025-07-28T15:35:18.823722Z"
    }
   },
   "cell_type": "code",
   "source": [
    "def handle_financial1(state: ChatState) -> dict:\n",
    "    question = state[\"question\"]\n",
    "    company = state[\"company\"]\n",
    "    years = state.get(\"year\", [\"2024\"])\n",
    "\n",
    "    corp_code = find_corporation_code(company)\n",
    "    if corp_code.startswith(\"[ERROR]\"):\n",
    "        return {**state, \"answer\": corp_code}\n",
    "\n",
    "    fin_blocks = []\n",
    "    for y in years:\n",
    "        rows = get_financial_state(corp_code, y, \"11011\", \"CFS\")\n",
    "        if rows:\n",
    "            fin_blocks.append(f\"📅 {y}년 재무제표:\\n\" + \"\\n\".join(rows))\n",
    "\n",
    "    structured_financial = \"\\n\\n\".join(fin_blocks)\n",
    "    answer = financial_chain1.invoke({\n",
    "        \"financial_data\": structured_financial,\n",
    "        \"question\": question,\n",
    "        \"resolved_corp_name\": company,\n",
    "    })\n",
    "\n",
    "    updated_history = state.get(\"chat_history\", []).copy()\n",
    "    updated_history.append({\"role\": \"user\", \"content\": question})\n",
    "    updated_history.append({\"role\": \"assistant\", \"content\": answer})\n",
    "\n",
    "    return {\n",
    "        **state,\n",
    "        \"answer\": answer,\n",
    "        \"chat_history\": updated_history  # ✅ 추가\n",
    "    }"
   ],
   "id": "75af047a85d783b9",
   "outputs": [],
   "execution_count": 9
  },
  {
   "metadata": {
    "ExecuteTime": {
     "end_time": "2025-07-28T15:35:18.850968Z",
     "start_time": "2025-07-28T15:35:18.843247Z"
    }
   },
   "cell_type": "code",
   "source": [
    "def handle_business1(state: ChatState) -> dict:\n",
    "    question = state[\"question\"]\n",
    "    docs = self_retriever.get_relevant_documents(question)\n",
    "    context = \"\\n\\n\".join(doc.page_content for doc in docs)\n",
    "    answer = business_chain1.invoke({\"context\": context, \"question\": question})\n",
    "    updated_history = state.get(\"chat_history\", []).copy()\n",
    "    updated_history.append({\"role\": \"user\", \"content\": question})\n",
    "    updated_history.append({\"role\": \"assistant\", \"content\": answer})\n",
    "\n",
    "    return {\n",
    "        **state,\n",
    "        \"answer\": answer,\n",
    "        \"chat_history\": updated_history  # ✅ 추가\n",
    "    }"
   ],
   "id": "33652d964d68d3ba",
   "outputs": [],
   "execution_count": 10
  },
  {
   "metadata": {
    "ExecuteTime": {
     "end_time": "2025-07-28T15:35:18.895221Z",
     "start_time": "2025-07-28T15:35:18.885222Z"
    }
   },
   "cell_type": "code",
   "source": [
    "def handle_hybrid1(state: ChatState) -> dict:\n",
    "    question = state[\"question\"]\n",
    "    company = state[\"company\"]\n",
    "    years = state.get(\"year\", [\"2024\"])\n",
    "\n",
    "    corp_code = find_corporation_code(company)\n",
    "    if corp_code.startswith(\"[ERROR]\"):\n",
    "        return {**state, \"answer\": corp_code}\n",
    "\n",
    "    def try_get_financial_strict(corp_code: str, year: str) -> str:\n",
    "        rows = get_financial_state(corp_code, year, \"11011\", \"CFS\")\n",
    "        if rows and \"[API 오류]\" not in rows[0]:\n",
    "            return f\"📅 {year}년 (CFS):\\n\" + \"\\n\".join(rows)\n",
    "        return f\"📅 {year}년 재무제표: 유효한 데이터를 찾을 수 없습니다.\"\n",
    "\n",
    "    fin = \"\\n\\n\".join([try_get_financial_strict(corp_code, y) for y in years])\n",
    "    acct_docs = accounting_retriever.invoke(question)\n",
    "    biz_docs = business_retriever.invoke(question)\n",
    "\n",
    "    acct = \"\\n\\n\".join(doc.page_content for doc in acct_docs)\n",
    "    biz = \"\\n\\n\".join(doc.page_content for doc in biz_docs)\n",
    "\n",
    "    answer = hybrid_chain1.invoke({\n",
    "        \"question\": question,\n",
    "        \"acct\": acct,\n",
    "        \"biz\": biz,\n",
    "        \"fin\": fin\n",
    "    })\n",
    "\n",
    "    updated_history = state.get(\"chat_history\", []).copy()\n",
    "    updated_history.append({\"role\": \"user\", \"content\": question})\n",
    "    updated_history.append({\"role\": \"assistant\", \"content\": answer})\n",
    "\n",
    "    return {\n",
    "        **state,\n",
    "        \"answer\": answer,\n",
    "        \"chat_history\": updated_history  # ✅ 추가\n",
    "    }"
   ],
   "id": "e7f8a47f518e4cce",
   "outputs": [],
   "execution_count": 11
  },
  {
   "metadata": {
    "ExecuteTime": {
     "end_time": "2025-07-28T15:35:18.939391Z",
     "start_time": "2025-07-28T15:35:18.932784Z"
    }
   },
   "cell_type": "code",
   "source": [
    "def elief(state: ChatState) -> dict:\n",
    "    question = state[\"question\"]\n",
    "    chat_history = state.get(\"chat_history\", [])\n",
    "\n",
    "    # chat_history를 포맷하여 함께 전달\n",
    "    response = simple_chain.invoke({\n",
    "        \"question\": question,\n",
    "        \"chat_history\": chat_history\n",
    "    })\n",
    "\n",
    "    # chat_history에 assistant 응답도 추가\n",
    "    chat_history.append({\"role\": \"assistant\", \"content\": response})\n",
    "\n",
    "    return {\n",
    "        **state,\n",
    "        \"answer\": response,\n",
    "        \"chat_history\": chat_history\n",
    "    }"
   ],
   "id": "9ad04939cf5f9327",
   "outputs": [],
   "execution_count": 12
  },
  {
   "metadata": {
    "ExecuteTime": {
     "end_time": "2025-07-28T15:35:18.953646Z",
     "start_time": "2025-07-28T15:35:18.948344Z"
    }
   },
   "cell_type": "code",
   "source": [
    "def route_from_extract(state: ChatState) -> str:\n",
    "    mapping = {\n",
    "        \"accounting\": \"accounting\",\n",
    "        \"finance\": \"financial\",\n",
    "        \"business\": \"business\",\n",
    "        \"hybrid\": \"hybrid\",\n",
    "    }\n",
    "    return mapping.get(state.get(\"route\", \"\").strip(), \"simple\")"
   ],
   "id": "a78af2224fa3adad",
   "outputs": [],
   "execution_count": 13
  },
  {
   "metadata": {
    "ExecuteTime": {
     "end_time": "2025-07-28T15:35:25.082191Z",
     "start_time": "2025-07-28T15:35:25.077231Z"
    }
   },
   "cell_type": "code",
   "source": [
    "def classify(state: ChatState) -> dict:\n",
    "    question = state[\"question\"]\n",
    "    chat_history = state.get(\"chat_history\", [])\n",
    "\n",
    "    # 최근 대화 몇 개만 context로 붙임\n",
    "    context = \"\\n\".join([f\"{turn['role']}: {turn['content']}\" for turn in chat_history[-4:]])\n",
    "\n",
    "    result = classification_chain.invoke({\n",
    "        \"question\": question,\n",
    "        \"context\": context\n",
    "    }).strip()\n",
    "\n",
    "    return {\n",
    "    **state,\n",
    "    \"route\": result\n",
    "}\n",
    "\n",
    "def route_from_classify(state):\n",
    "    route = state.get(\"route\", \"\").strip()\n",
    "    # classification_chain이 실제로 뭘 반환하는지에 따라 매핑\n",
    "    if route in [\"accounting\", \"finance\", \"business\", \"hybrid\"]:\n",
    "        return route\n",
    "    return \"simple\""
   ],
   "id": "d7f3bd7d50fa0b05",
   "outputs": [],
   "execution_count": 14
  },
  {
   "metadata": {
    "ExecuteTime": {
     "end_time": "2025-07-28T15:35:25.484552Z",
     "start_time": "2025-07-28T15:35:25.477220Z"
    }
   },
   "cell_type": "code",
   "source": [
    "# ✅ LangGraph 정의\n",
    "graph = StateGraph(ChatState)\n",
    "\n",
    "# 노드 등록\n",
    "graph.add_node(\"classify\", classify)\n",
    "graph.add_node(\"extract\", extract_entities)\n",
    "graph.add_node(\"accounting\", handle_accounting1)\n",
    "graph.add_node(\"financial\", handle_financial1)\n",
    "graph.add_node(\"business\", handle_business1)\n",
    "graph.add_node(\"hybrid\", handle_hybrid1)\n",
    "graph.add_node(\"simple\", elief)\n",
    "\n",
    "# 흐름 정의\n",
    "graph.set_entry_point(\"classify\")\n",
    "\n",
    "graph.add_conditional_edges(\n",
    "    \"classify\",\n",
    "    route_from_classify,\n",
    "    {\n",
    "        \"accounting\": \"extract\",  # extract를 거쳐서 처리\n",
    "        \"finance\": \"extract\",\n",
    "        \"business\": \"extract\",\n",
    "        \"hybrid\": \"extract\",\n",
    "        \"simple\": \"simple\"  # simple은 바로 처리\n",
    "    }\n",
    ")\n",
    "# extract 결과에 따라 분기\n",
    "graph.add_conditional_edges(\n",
    "    \"extract\",\n",
    "    route_from_extract,\n",
    "    {\n",
    "        \"accounting\": \"accounting\",\n",
    "        \"financial\": \"financial\",\n",
    "        \"business\": \"business\",\n",
    "        \"hybrid\": \"hybrid\"\n",
    "    }\n",
    ")\n",
    "\n",
    "# 종료 노드 지정\n",
    "for node in [\"accounting\", \"financial\", \"business\", \"hybrid\", \"simple\"]:\n",
    "    graph.add_edge(node, END)"
   ],
   "id": "96e71672c9092cc2",
   "outputs": [],
   "execution_count": 15
  },
  {
   "metadata": {
    "ExecuteTime": {
     "end_time": "2025-07-28T15:35:54.663795Z",
     "start_time": "2025-07-28T15:35:26.110891Z"
    }
   },
   "cell_type": "code",
   "source": [
    "from langgraph.checkpoint.memory import MemorySaver\n",
    "\n",
    "memory = MemorySaver()\n",
    "compiled_graph = graph.compile(checkpointer=memory)\n",
    "\n",
    "# 동일한 thread_id로 계속 대화\n",
    "config = {\"configurable\": {\"thread_id\": \"conversation_1\"}}\n",
    "\n",
    "# 첫 번째 질문\n",
    "result1 = compiled_graph.invoke({\n",
    "    \"question\": \"삼성전자의 2024년 재무제표를 알려줘\"\n",
    "}, config=config)\n",
    "\n",
    "# 두 번째 질문 - 자동으로 이전 대화 기억\n",
    "result2 = compiled_graph.invoke({\n",
    "    \"question\": \"그럼 2023년은 어땠어?\"\n",
    "}, config=config)"
   ],
   "id": "ee90c437c684a64e",
   "outputs": [],
   "execution_count": 16
  },
  {
   "metadata": {
    "ExecuteTime": {
     "end_time": "2025-07-28T15:35:54.672723Z",
     "start_time": "2025-07-28T15:35:54.667953Z"
    }
   },
   "cell_type": "code",
   "source": "config = {\"configurable\": {\"thread_id\": \"conversation_1\"}}",
   "id": "55fb796c86092925",
   "outputs": [],
   "execution_count": 17
  },
  {
   "metadata": {
    "ExecuteTime": {
     "end_time": "2025-07-28T15:36:24.716181Z",
     "start_time": "2025-07-28T15:36:24.711280Z"
    }
   },
   "cell_type": "code",
   "source": [
    "input_state = {\n",
    "    \"question\": \"LG전자 2024년 재무제표\",\n",
    "}\n"
   ],
   "id": "19a302963d54541",
   "outputs": [],
   "execution_count": 21
  },
  {
   "metadata": {
    "ExecuteTime": {
     "end_time": "2025-07-28T15:36:40.693778Z",
     "start_time": "2025-07-28T15:36:25.228569Z"
    }
   },
   "cell_type": "code",
   "source": [
    "result3 = compiled_graph.invoke(input_state,\n",
    "                                config=config)"
   ],
   "id": "a298eff4a5b34fab",
   "outputs": [],
   "execution_count": 22
  },
  {
   "metadata": {
    "ExecuteTime": {
     "end_time": "2025-07-28T15:36:40.710905Z",
     "start_time": "2025-07-28T15:36:40.703381Z"
    }
   },
   "cell_type": "code",
   "source": "result3",
   "id": "67ca440332fce65f",
   "outputs": [
    {
     "data": {
      "text/plain": [
       "{'question': 'LG전자 2024년 재무제표',\n",
       " 'company': 'LG전자',\n",
       " 'year': ['2024'],\n",
       " 'route': 'finance',\n",
       " 'answer': '안녕하세요! LG전자의 2024년 성적표를 쉽고 간단하게 알려드릴게요.\\n\\n**✅ 돈은 작년보다 잘 벌었나요?**\\n네, 잘 벌었어요!\\n- **매출** (회사의 1년 총 판매금액)은 **6.6% 늘어난 87,728억원**을 기록했고요,\\n- **영업이익** (장사해서 실제로 남긴 돈)은 **6.4% 줄어든 3,420억원**이에요. 작년보다는 조금 덜 벌었지만 여전히 좋은 성과에요!\\n\\n**✅ 회사는 튼튼한가요?**\\n네, 튼튼해요!\\n- **자산** (회사가 가진 모든 재산)은 **8.9% 늘어난 65,629억원**이고요,\\n- **부채** (갚아야 할 돈)는 **10% 늘어난 40,418억원**이에요. 자산이 더 많이 늘어서 여전히 안정적이에요.\\n\\n**한마디로,** LG전자는 2024년에 돈도 잘 벌고 회사도 더 튼튼해졌어요!\\n\\n더 궁금한 점 있으시면 편하게 물어보세요.',\n",
       " 'chat_history': [{'role': 'user', 'content': '삼성전자의 2024년 재무제표를 알려줘'},\n",
       "  {'role': 'assistant',\n",
       "   'content': '안녕하세요! 삼성전자의 2024년 성적표를 쉽고 간단하게 알려드릴게요.\\n\\n**✅ 돈은 작년보다 잘 벌었나요?**\\n네, 아주 잘 벌었어요!\\n- **매출** (회사의 1년 총 판매금액)은 **16.2% 늘어난 3,008,709억원**을 기록했고요,\\n- **영업이익** (장사해서 실제로 남긴 돈)은 무려 **398.3%나 늘어난 32,726억원**이에요. 작년보다 장사를 훨씬 잘했네요!\\n\\n**✅ 회사는 튼튼한가요?**\\n네, 튼튼해요!\\n- **자산** (회사가 가진 모든 재산)은 **12.9% 늘어난 5,145,319억원**이고요,\\n- **부채** (갚아야 할 돈)는 **21.8% 늘어난 1,123,399억원**이에요. 자산에 비하면 아주 적은 수준이에요.\\n\\n**한마디로,** 삼성전자는 2024년에 돈도 훨씬 잘 벌고 회사도 더 튼튼해졌어요!\\n\\n더 궁금한 점 있으시면 편하게 물어보세요.'},\n",
       "  {'role': 'user', 'content': '그럼 2023년은 어땠어?'},\n",
       "  {'role': 'assistant',\n",
       "   'content': '안녕하세요! 삼성전자의 2024년 성적표를 쉽고 간단하게 알려드릴게요.\\n\\n**✅ 돈은 작년보다 잘 벌었나요?**\\n네, 아주 잘 벌었어요!\\n- **매출** (회사의 1년 총 판매금액)은 **16.2% 늘어난 30,087,090억원**을 기록했고요,\\n- **영업이익** (장사해서 실제로 남긴 돈)은 무려 **398.3%나 늘어난 32,726억원**이에요. 작년보다 장사를 훨씬 잘했네요!\\n\\n**✅ 회사는 튼튼한가요?**\\n네, 튼튼해요!\\n- **자산** (회사가 가진 모든 재산)은 **12.9% 늘어난 51,453,194억원**이고요,\\n- **부채** (갚아야 할 돈)는 **9,222,811억원**에서 **11,233,987억원**으로 조금 늘었지만, 자산에 비하면 아주 적은 수준이에요.\\n\\n**한마디로,** 삼성전자는 2024년에 돈도 훨씬 잘 벌고 회사도 더 튼튼해졌어요!\\n\\n더 궁금한 점 있으시면 편하게 물어보세요.'},\n",
       "  {'role': 'assistant', 'content': '방금 전에 \"그럼 2023년은 어땠어?\"라고 물어보셨습니다.'},\n",
       "  {'role': 'user', 'content': 'LG전자 2024년 재무제표'},\n",
       "  {'role': 'assistant',\n",
       "   'content': '안녕하세요! LG전자의 2024년 성적표를 쉽고 간단하게 알려드릴게요.\\n\\n**✅ 돈은 작년보다 잘 벌었나요?**\\n네, 잘 벌었어요!\\n- **매출** (회사의 1년 총 판매금액)은 **6.6% 늘어난 87,728억원**을 기록했고요,\\n- **영업이익** (장사해서 실제로 남긴 돈)은 **6.4% 줄어든 3,420억원**이에요. 작년보다는 조금 덜 벌었지만 여전히 좋은 성과에요!\\n\\n**✅ 회사는 튼튼한가요?**\\n네, 튼튼해요!\\n- **자산** (회사가 가진 모든 재산)은 **8.9% 늘어난 65,629억원**이고요,\\n- **부채** (갚아야 할 돈)는 **10% 늘어난 40,418억원**이에요. 자산이 더 많이 늘어서 여전히 안정적이에요.\\n\\n**한마디로,** LG전자는 2024년에 돈도 잘 벌고 회사도 더 튼튼해졌어요!\\n\\n더 궁금한 점 있으시면 편하게 물어보세요.'}]}"
      ]
     },
     "execution_count": 23,
     "metadata": {},
     "output_type": "execute_result"
    }
   ],
   "execution_count": 23
  },
  {
   "metadata": {
    "ExecuteTime": {
     "end_time": "2025-07-27T16:30:44.341190Z",
     "start_time": "2025-07-27T16:30:37.825827Z"
    }
   },
   "cell_type": "code",
   "source": [
    "input_state = {\n",
    "    \"question\": \"삼성전자의 2024년 재무제표를 알려줘\",\n",
    "}\n",
    "\n",
    "# 사용자별 실행\n",
    "config = {\"configurable\": {\"thread_id\": \"user_123\"}}\n",
    "result = compiled_graph.invoke(input_state, config=config)"
   ],
   "id": "d76028a67c43a6e4",
   "outputs": [],
   "execution_count": 18
  },
  {
   "metadata": {
    "ExecuteTime": {
     "end_time": "2025-07-27T16:30:45.078182Z",
     "start_time": "2025-07-27T16:30:45.071478Z"
    }
   },
   "cell_type": "code",
   "source": "result",
   "id": "6234fe2f05387a5e",
   "outputs": [
    {
     "data": {
      "text/plain": [
       "{'question': '삼성전자의 2024년 재무제표를 알려줘',\n",
       " 'company': '삼성전자',\n",
       " 'year': ['2024'],\n",
       " 'route': 'finance',\n",
       " 'answer': '안녕하세요! 삼성전자의 2024년 성적표를 쉽고 간단하게 알려드릴게요.\\n\\n**✅ 돈은 작년보다 잘 벌었나요?**\\n네, 아주 잘 벌었어요!\\n- **매출** (회사의 1년 총 판매금액)은 **16.2% 늘어난 3,008,709억원**을 기록했고요,\\n- **영업이익** (장사해서 실제로 남긴 돈)은 무려 **398.3%나 늘어난 32,726억원**이에요. 작년보다 장사를 훨씬 잘했네요!\\n\\n**✅ 회사는 튼튼한가요?**\\n네, 튼튼해요!\\n- **자산** (회사가 가진 모든 재산)은 **12.9% 늘어난 5,145,319억원**이고요,\\n- **부채** (갚아야 할 돈)는 **21.8% 늘어난 1,123,399억원**이에요. 자산에 비하면 아주 적은 수준이에요.\\n\\n**한마디로,** 삼성전자는 2024년에 돈도 훨씬 잘 벌고 회사도 더 튼튼해졌어요!\\n\\n더 궁금한 점 있으시면 편하게 물어보세요.',\n",
       " 'chat_history': [{'role': 'user', 'content': '삼성전자의 2024년 재무제표를 알려줘'},\n",
       "  {'role': 'assistant',\n",
       "   'content': '안녕하세요! 삼성전자의 2024년 성적표를 쉽고 간단하게 알려드릴게요.\\n\\n**✅ 돈은 작년보다 잘 벌었나요?**\\n네, 아주 잘 벌었어요!\\n- **매출** (회사의 1년 총 판매금액)은 **16.2% 늘어난 3,008,709억원**을 기록했고요,\\n- **영업이익** (장사해서 실제로 남긴 돈)은 무려 **398.3%나 늘어난 32,726억원**이에요. 작년보다 장사를 훨씬 잘했네요!\\n\\n**✅ 회사는 튼튼한가요?**\\n네, 튼튼해요!\\n- **자산** (회사가 가진 모든 재산)은 **12.9% 늘어난 5,145,319억원**이고요,\\n- **부채** (갚아야 할 돈)는 **21.8% 늘어난 1,123,399억원**이에요. 자산에 비하면 아주 적은 수준이에요.\\n\\n**한마디로,** 삼성전자는 2024년에 돈도 훨씬 잘 벌고 회사도 더 튼튼해졌어요!\\n\\n더 궁금한 점 있으시면 편하게 물어보세요.'}]}"
      ]
     },
     "execution_count": 19,
     "metadata": {},
     "output_type": "execute_result"
    }
   ],
   "execution_count": 19
  },
  {
   "metadata": {
    "ExecuteTime": {
     "end_time": "2025-07-27T16:12:12.648525Z",
     "start_time": "2025-07-27T16:12:06.823245Z"
    }
   },
   "cell_type": "code",
   "source": "result = compiled_graph.invoke(input_state, config=config)",
   "id": "d66061667fccb000",
   "outputs": [],
   "execution_count": 97
  },
  {
   "metadata": {
    "ExecuteTime": {
     "end_time": "2025-07-27T16:12:12.663868Z",
     "start_time": "2025-07-27T16:12:12.657402Z"
    }
   },
   "cell_type": "code",
   "source": "result",
   "id": "e44261a2aa2ef407",
   "outputs": [
    {
     "data": {
      "text/plain": [
       "{'question': '삼성전자의 2024년 재무제표를 알려줘',\n",
       " 'company': '삼성전자',\n",
       " 'year': ['2024'],\n",
       " 'route': 'finance',\n",
       " 'answer': '안녕하세요! 삼성전자의 2024년 성적표를 쉽고 간단하게 알려드릴게요.\\n\\n**✅ 돈은 작년보다 잘 벌었나요?**\\n네, 아주 잘 벌었어요!\\n- **매출** (회사의 1년 총 판매금액)은 **16.2% 늘어난 3,008,709억원**을 기록했고요,\\n- **영업이익** (장사해서 실제로 남긴 돈)은 무려 **398.3%나 늘어난 32,726억원**이에요. 작년보다 장사를 훨씬 잘했네요!\\n\\n**✅ 회사는 튼튼한가요?**\\n네, 튼튼해요!\\n- **자산** (회사가 가진 모든 재산)은 **12.9% 늘어난 5,145,319억원**이고요,\\n- **부채** (갚아야 할 돈)는 **21.8% 늘어난 1,123,399억원**이에요. 자산에 비하면 아주 적은 수준이에요.\\n\\n**한마디로,** 삼성전자는 2024년에 돈도 훨씬 잘 벌고 회사도 더 튼튼해졌어요!\\n\\n더 궁금한 점 있으시면 편하게 물어보세요.',\n",
       " 'chat_history': [{'role': 'user', 'content': '삼성전자의 2024년 재무제표를 알려줘'},\n",
       "  {'role': 'assistant',\n",
       "   'content': '안녕하세요! 삼성전자의 2024년 성적표를 쉽고 간단하게 알려드릴게요.\\n\\n**✅ 돈은 작년보다 잘 벌었나요?**\\n네, 아주 잘 벌었어요!\\n- **매출** (회사의 1년 총 판매금액)은 **16.2% 늘어난 3,008,709억원**을 기록했고요,\\n- **영업이익** (장사해서 실제로 남긴 돈)은 무려 **398.3%나 늘어난 32,726억원**이에요. 작년보다 장사를 훨씬 잘했네요!\\n\\n**✅ 회사는 튼튼한가요?**\\n네, 튼튼해요!\\n- **자산** (회사가 가진 모든 재산)은 **12.9% 늘어난 5,145,319억원**이고요,\\n- **부채** (갚아야 할 돈)는 **21.8% 늘어난 1,123,399억원**이에요. 자산에 비하면 아주 적은 수준이에요.\\n\\n**한마디로,** 삼성전자는 2024년에 돈도 훨씬 잘 벌고 회사도 더 튼튼해졌어요!\\n\\n더 궁금한 점 있으시면 편하게 물어보세요.'}]}"
      ]
     },
     "execution_count": 98,
     "metadata": {},
     "output_type": "execute_result"
    }
   ],
   "execution_count": 98
  },
  {
   "metadata": {},
   "cell_type": "code",
   "outputs": [],
   "execution_count": null,
   "source": "",
   "id": "fe32979cc1732499"
  }
 ],
 "metadata": {
  "kernelspec": {
   "display_name": "Python 3",
   "language": "python",
   "name": "python3"
  },
  "language_info": {
   "codemirror_mode": {
    "name": "ipython",
    "version": 2
   },
   "file_extension": ".py",
   "mimetype": "text/x-python",
   "name": "python",
   "nbconvert_exporter": "python",
   "pygments_lexer": "ipython2",
   "version": "2.7.6"
  }
 },
 "nbformat": 4,
 "nbformat_minor": 5
}
